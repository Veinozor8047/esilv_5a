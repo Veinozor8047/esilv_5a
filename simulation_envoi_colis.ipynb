{
 "cells": [
  {
   "cell_type": "markdown",
   "metadata": {},
   "source": [
    "# exo sur les dates"
   ]
  },
  {
   "cell_type": "markdown",
   "metadata": {},
   "source": [
    "# 0) imports"
   ]
  },
  {
   "cell_type": "code",
   "execution_count": 45,
   "metadata": {},
   "outputs": [],
   "source": [
    "from datetime import datetime\n",
    "from datetime import timedelta\n",
    "import random\n",
    "import pandas as pd"
   ]
  },
  {
   "cell_type": "markdown",
   "metadata": {},
   "source": [
    "# 1) Création d'un dataset synthétique"
   ]
  },
  {
   "cell_type": "markdown",
   "metadata": {},
   "source": [
    "documentation en ligne => être après la parenthèse de la fonction, et faire \"MAJ + TAB\""
   ]
  },
  {
   "cell_type": "markdown",
   "metadata": {},
   "source": [
    "## 1.1) création d'une fonction pour générer de la data "
   ]
  },
  {
   "cell_type": "code",
   "execution_count": 88,
   "metadata": {},
   "outputs": [],
   "source": [
    "def creer_une_ligne():\n",
    "    \"\"\"\n",
    "    Renvoie un dictionnaire avec deux dates.\n",
    "    \"\"\"\n",
    "    # création d'une commande\n",
    "    annee         = 2019 \n",
    "    mois          = random.randint(1,12)\n",
    "    jour          = random.randint(1,28)\n",
    "    heure         = random.randint(0,23)   \n",
    "    minutes       = random.randint(0,59)\n",
    "    date_commande = datetime(annee, mois, jour, \n",
    "                             heure, minutes)\n",
    "    # création d'un délais\n",
    "    delais_jour   = random.randint(0, 2)\n",
    "    delais_heure   = random.randint(3, 8)\n",
    "    delais_minutes = random.randint(10, 100)\n",
    "    delais         = timedelta(days    = delais_jour, \n",
    "                               hours   = delais_heure, \n",
    "                               minutes = delais_minutes)\n",
    "\n",
    "    date_envoi_depuis_entrepot = date_commande + delais\n",
    "    \n",
    "    return {\n",
    "        \"date_commande\" : date_commande,\n",
    "        \"date_envoi_depuis_entrepot\" : date_envoi_depuis_entrepot\n",
    "    }"
   ]
  },
  {
   "cell_type": "markdown",
   "metadata": {},
   "source": [
    "## 1.2) création d'une dataFrame"
   ]
  },
  {
   "cell_type": "code",
   "execution_count": 89,
   "metadata": {},
   "outputs": [],
   "source": [
    "nb_lignes_voulu = 1000\n",
    "df = pd.DataFrame([creer_une_ligne() for i in range(nb_lignes_voulu)])"
   ]
  },
  {
   "cell_type": "markdown",
   "metadata": {},
   "source": [
    "# 2) Features Engineering"
   ]
  },
  {
   "cell_type": "markdown",
   "metadata": {},
   "source": [
    "## 2.1) extraction du jour de la semaine"
   ]
  },
  {
   "cell_type": "code",
   "execution_count": 96,
   "metadata": {},
   "outputs": [],
   "source": [
    "df[\"isoWeekDay\"] = df.date_commande.map(lambda date: date.isoweekday())\n",
    "#df[\"isoWeekDay\"]"
   ]
  },
  {
   "cell_type": "markdown",
   "metadata": {},
   "source": [
    "## 2.2) one hot encoding"
   ]
  },
  {
   "cell_type": "code",
   "execution_count": 95,
   "metadata": {},
   "outputs": [],
   "source": [
    "dummies = pd.get_dummies(df[\"isoWeekDay\"], prefix=\"isoWeekDay\")\n",
    "#dummies"
   ]
  },
  {
   "cell_type": "markdown",
   "metadata": {},
   "source": [
    "## 2.3) concaténer à la DF originale"
   ]
  },
  {
   "cell_type": "code",
   "execution_count": 94,
   "metadata": {},
   "outputs": [
    {
     "data": {
      "text/html": [
       "<div>\n",
       "<style scoped>\n",
       "    .dataframe tbody tr th:only-of-type {\n",
       "        vertical-align: middle;\n",
       "    }\n",
       "\n",
       "    .dataframe tbody tr th {\n",
       "        vertical-align: top;\n",
       "    }\n",
       "\n",
       "    .dataframe thead th {\n",
       "        text-align: right;\n",
       "    }\n",
       "</style>\n",
       "<table border=\"1\" class=\"dataframe\">\n",
       "  <thead>\n",
       "    <tr style=\"text-align: right;\">\n",
       "      <th></th>\n",
       "      <th>0</th>\n",
       "      <th>1</th>\n",
       "      <th>2</th>\n",
       "    </tr>\n",
       "  </thead>\n",
       "  <tbody>\n",
       "    <tr>\n",
       "      <td>date_commande</td>\n",
       "      <td>2019-02-13 00:14:00</td>\n",
       "      <td>2019-03-26 22:37:00</td>\n",
       "      <td>2019-11-20 19:23:00</td>\n",
       "    </tr>\n",
       "    <tr>\n",
       "      <td>date_envoi_depuis_entrepot</td>\n",
       "      <td>2019-02-14 07:39:00</td>\n",
       "      <td>2019-03-29 06:51:00</td>\n",
       "      <td>2019-11-23 01:41:00</td>\n",
       "    </tr>\n",
       "    <tr>\n",
       "      <td>isoWeekDay</td>\n",
       "      <td>3</td>\n",
       "      <td>2</td>\n",
       "      <td>3</td>\n",
       "    </tr>\n",
       "    <tr>\n",
       "      <td>isoWeekDay_1</td>\n",
       "      <td>0</td>\n",
       "      <td>0</td>\n",
       "      <td>0</td>\n",
       "    </tr>\n",
       "    <tr>\n",
       "      <td>isoWeekDay_2</td>\n",
       "      <td>0</td>\n",
       "      <td>1</td>\n",
       "      <td>0</td>\n",
       "    </tr>\n",
       "    <tr>\n",
       "      <td>isoWeekDay_3</td>\n",
       "      <td>1</td>\n",
       "      <td>0</td>\n",
       "      <td>1</td>\n",
       "    </tr>\n",
       "    <tr>\n",
       "      <td>isoWeekDay_4</td>\n",
       "      <td>0</td>\n",
       "      <td>0</td>\n",
       "      <td>0</td>\n",
       "    </tr>\n",
       "    <tr>\n",
       "      <td>isoWeekDay_5</td>\n",
       "      <td>0</td>\n",
       "      <td>0</td>\n",
       "      <td>0</td>\n",
       "    </tr>\n",
       "    <tr>\n",
       "      <td>isoWeekDay_6</td>\n",
       "      <td>0</td>\n",
       "      <td>0</td>\n",
       "      <td>0</td>\n",
       "    </tr>\n",
       "    <tr>\n",
       "      <td>isoWeekDay_7</td>\n",
       "      <td>0</td>\n",
       "      <td>0</td>\n",
       "      <td>0</td>\n",
       "    </tr>\n",
       "  </tbody>\n",
       "</table>\n",
       "</div>"
      ],
      "text/plain": [
       "                                              0                    1  \\\n",
       "date_commande               2019-02-13 00:14:00  2019-03-26 22:37:00   \n",
       "date_envoi_depuis_entrepot  2019-02-14 07:39:00  2019-03-29 06:51:00   \n",
       "isoWeekDay                                    3                    2   \n",
       "isoWeekDay_1                                  0                    0   \n",
       "isoWeekDay_2                                  0                    1   \n",
       "isoWeekDay_3                                  1                    0   \n",
       "isoWeekDay_4                                  0                    0   \n",
       "isoWeekDay_5                                  0                    0   \n",
       "isoWeekDay_6                                  0                    0   \n",
       "isoWeekDay_7                                  0                    0   \n",
       "\n",
       "                                              2  \n",
       "date_commande               2019-11-20 19:23:00  \n",
       "date_envoi_depuis_entrepot  2019-11-23 01:41:00  \n",
       "isoWeekDay                                    3  \n",
       "isoWeekDay_1                                  0  \n",
       "isoWeekDay_2                                  0  \n",
       "isoWeekDay_3                                  1  \n",
       "isoWeekDay_4                                  0  \n",
       "isoWeekDay_5                                  0  \n",
       "isoWeekDay_6                                  0  \n",
       "isoWeekDay_7                                  0  "
      ]
     },
     "execution_count": 94,
     "metadata": {},
     "output_type": "execute_result"
    }
   ],
   "source": [
    "df2 = pd.concat([df,dummies ], axis=1)\n",
    "df2.head(3).T"
   ]
  }
 ],
 "metadata": {
  "kernelspec": {
   "display_name": "Python 3",
   "language": "python",
   "name": "python3"
  },
  "language_info": {
   "codemirror_mode": {
    "name": "ipython",
    "version": 3
   },
   "file_extension": ".py",
   "mimetype": "text/x-python",
   "name": "python",
   "nbconvert_exporter": "python",
   "pygments_lexer": "ipython3",
   "version": "3.7.1"
  }
 },
 "nbformat": 4,
 "nbformat_minor": 2
}
