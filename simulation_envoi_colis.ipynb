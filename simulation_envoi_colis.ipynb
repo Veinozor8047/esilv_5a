{
 "cells": [
  {
   "cell_type": "markdown",
   "metadata": {},
   "source": [
    "# exo sur les dates"
   ]
  },
  {
   "cell_type": "code",
   "execution_count": 1,
   "metadata": {},
   "outputs": [],
   "source": [
    "from datetime import datetime"
   ]
  },
  {
   "cell_type": "markdown",
   "metadata": {},
   "source": [
    "# Création d'un dataset synthétique"
   ]
  },
  {
   "cell_type": "markdown",
   "metadata": {},
   "source": [
    "documentation en ligne => être après la parenthèse de la fonction, et faire \"MAJ + TAB\""
   ]
  },
  {
   "cell_type": "code",
   "execution_count": 2,
   "metadata": {},
   "outputs": [],
   "source": [
    "une_date = datetime(2019, 12,20)"
   ]
  },
  {
   "cell_type": "code",
   "execution_count": 14,
   "metadata": {},
   "outputs": [],
   "source": [
    "import random\n",
    "from datetime import timedelta"
   ]
  },
  {
   "cell_type": "code",
   "execution_count": 20,
   "metadata": {},
   "outputs": [],
   "source": [
    "def creer_une_ligne():\n",
    "    # création d'une commande\n",
    "    annee         = 2019 \n",
    "    mois          = random.randint(1,12)\n",
    "    jour          = random.randint(1,28)\n",
    "    heure         = random.randint(0,23)   \n",
    "    minutes       = random.randint(0,60)\n",
    "    date_commande = datetime(annee, mois, jour, \n",
    "                             heure, minutes)\n",
    "    # création d'un délais\n",
    "    delais_heure   = random.randint(3, 8)\n",
    "    delais_minutes = random.randint(10, 100)\n",
    "    delais         = timedelta(hours   = delais_heure, \n",
    "                               minutes = delais_minutes)\n",
    "\n",
    "    date_envoi_depuis_entrepot = date_commande + delais\n",
    "    \n",
    "    return {\n",
    "        \"date_commande\" : date_commande,\n",
    "        \"date_envoi_depuis_entrepot\" : date_envoi_depuis_entrepot\n",
    "    }"
   ]
  },
  {
   "cell_type": "code",
   "execution_count": 24,
   "metadata": {},
   "outputs": [
    {
     "name": "stdout",
     "output_type": "stream",
     "text": [
      "origin\thttps://github.com/romainjouin/esilv_5a.git (fetch)\r\n",
      "origin\thttps://github.com/romainjouin/esilv_5a.git (push)\r\n"
     ]
    }
   ],
   "source": [
    "!git remote -v"
   ]
  },
  {
   "cell_type": "code",
   "execution_count": null,
   "metadata": {},
   "outputs": [],
   "source": []
  }
 ],
 "metadata": {
  "kernelspec": {
   "display_name": "Python 3",
   "language": "python",
   "name": "python3"
  },
  "language_info": {
   "codemirror_mode": {
    "name": "ipython",
    "version": 3
   },
   "file_extension": ".py",
   "mimetype": "text/x-python",
   "name": "python",
   "nbconvert_exporter": "python",
   "pygments_lexer": "ipython3",
   "version": "3.7.1"
  }
 },
 "nbformat": 4,
 "nbformat_minor": 2
}
