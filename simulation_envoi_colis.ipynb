{
 "cells": [
  {
   "cell_type": "markdown",
   "metadata": {},
   "source": [
    "# exo sur les dates"
   ]
  },
  {
   "cell_type": "markdown",
   "metadata": {},
   "source": [
    "# 0) imports"
   ]
  },
  {
   "cell_type": "code",
   "execution_count": 45,
   "metadata": {},
   "outputs": [],
   "source": [
    "from datetime import datetime\n",
    "from datetime import timedelta\n",
    "import random\n",
    "import pandas as pd"
   ]
  },
  {
   "cell_type": "markdown",
   "metadata": {},
   "source": [
    "# 1) Création d'un dataset synthétique"
   ]
  },
  {
   "cell_type": "markdown",
   "metadata": {},
   "source": [
    "documentation en ligne => être après la parenthèse de la fonction, et faire \"MAJ + TAB\""
   ]
  },
  {
   "cell_type": "markdown",
   "metadata": {},
   "source": [
    "## 1.1) création d'une fonction pour générer de la data "
   ]
  },
  {
   "cell_type": "code",
   "execution_count": 88,
   "metadata": {},
   "outputs": [],
   "source": [
    "def creer_une_ligne():\n",
    "    \"\"\"\n",
    "    Renvoie un dictionnaire avec deux dates.\n",
    "    \"\"\"\n",
    "    # création d'une commande\n",
    "    annee         = 2019 \n",
    "    mois          = random.randint(1,12)\n",
    "    jour          = random.randint(1,28)\n",
    "    heure         = random.randint(0,23)   \n",
    "    minutes       = random.randint(0,59)\n",
    "    date_commande = datetime(annee, mois, jour, \n",
    "                             heure, minutes)\n",
    "    # création d'un délais\n",
    "    delais_jour   = random.randint(0, 2)\n",
    "    delais_heure   = random.randint(3, 8)\n",
    "    delais_minutes = random.randint(10, 100)\n",
    "    delais         = timedelta(days    = delais_jour, \n",
    "                               hours   = delais_heure, \n",
    "                               minutes = delais_minutes)\n",
    "\n",
    "    date_envoi_depuis_entrepot = date_commande + delais\n",
    "    \n",
    "    return {\n",
    "        \"date_commande\" : date_commande,\n",
    "        \"date_envoi_depuis_entrepot\" : date_envoi_depuis_entrepot\n",
    "    }"
   ]
  },
  {
   "cell_type": "markdown",
   "metadata": {},
   "source": [
    "## 1.2) création d'une dataFrame"
   ]
  },
  {
   "cell_type": "code",
   "execution_count": 89,
   "metadata": {},
   "outputs": [],
   "source": [
    "nb_lignes_voulu = 1000\n",
    "df = pd.DataFrame([creer_une_ligne() for i in range(nb_lignes_voulu)])"
   ]
  },
  {
   "cell_type": "markdown",
   "metadata": {},
   "source": [
    "# 2) Features Engineering"
   ]
  },
  {
   "cell_type": "markdown",
   "metadata": {},
   "source": [
    "## 2.1) extraction du jour de la semaine"
   ]
  },
  {
   "cell_type": "code",
   "execution_count": 96,
   "metadata": {},
   "outputs": [],
   "source": [
    "df[\"isoWeekDay\"] = df.date_commande.map(lambda date: date.isoweekday())\n",
    "#df[\"isoWeekDay\"]"
   ]
  },
  {
   "cell_type": "markdown",
   "metadata": {},
   "source": [
    "## 2.2) one hot encoding"
   ]
  },
  {
   "cell_type": "code",
   "execution_count": 95,
   "metadata": {},
   "outputs": [],
   "source": [
    "dummies = pd.get_dummies(df[\"isoWeekDay\"], prefix=\"isoWeekDay\")\n",
    "#dummies"
   ]
  },
  {
   "cell_type": "markdown",
   "metadata": {},
   "source": [
    "## 2.3) concaténer à la DF originale"
   ]
  },
  {
   "cell_type": "code",
   "execution_count": 119,
   "metadata": {},
   "outputs": [
    {
     "data": {
      "text/plain": [
       "Index(['date_commande', 'date_envoi_depuis_entrepot', 'isoWeekDay',\n",
       "       'isoWeekDay_1', 'isoWeekDay_2', 'isoWeekDay_3', 'isoWeekDay_4',\n",
       "       'isoWeekDay_5', 'isoWeekDay_6', 'isoWeekDay_7'],\n",
       "      dtype='object')"
      ]
     },
     "execution_count": 119,
     "metadata": {},
     "output_type": "execute_result"
    }
   ],
   "source": [
    "df2 = pd.concat([df,dummies ], axis=1)\n",
    "df2.columns"
   ]
  },
  {
   "cell_type": "markdown",
   "metadata": {},
   "source": [
    "## 2.4) récupération des heures "
   ]
  },
  {
   "cell_type": "code",
   "execution_count": 127,
   "metadata": {},
   "outputs": [],
   "source": [
    "df2[\"hour\"]  = df2.date_commande.map(lambda date :date.hour)\n",
    "df2[\"month\"] = df2.date_commande.map(lambda date :date.month)"
   ]
  },
  {
   "cell_type": "markdown",
   "metadata": {},
   "source": [
    "# 3) déterminer le nombre de commande depuis le début de la journée"
   ]
  },
  {
   "cell_type": "code",
   "execution_count": 130,
   "metadata": {},
   "outputs": [],
   "source": [
    "df2[\"jour_du_mois\"] = df2.date_commande.map(lambda date: date.day)"
   ]
  },
  {
   "cell_type": "code",
   "execution_count": 135,
   "metadata": {},
   "outputs": [],
   "source": [
    "df2[\"date_calendaire\"] = df2.date_commande.map(lambda d: d.date())"
   ]
  },
  {
   "cell_type": "markdown",
   "metadata": {},
   "source": [
    "# méthode naïve (et je sais pas si on fera mieux :-/)"
   ]
  },
  {
   "cell_type": "code",
   "execution_count": 142,
   "metadata": {},
   "outputs": [],
   "source": [
    "from collections import defaultdict"
   ]
  },
  {
   "cell_type": "code",
   "execution_count": 149,
   "metadata": {},
   "outputs": [
    {
     "data": {
      "text/plain": [
       "(0, date_commande                 2019-02-13 00:14:00\n",
       " date_envoi_depuis_entrepot    2019-02-14 07:39:00\n",
       " isoWeekDay                                      3\n",
       " isoWeekDay_1                                    0\n",
       " isoWeekDay_2                                    0\n",
       " isoWeekDay_3                                    1\n",
       " isoWeekDay_4                                    0\n",
       " isoWeekDay_5                                    0\n",
       " isoWeekDay_6                                    0\n",
       " isoWeekDay_7                                    0\n",
       " hour                                            0\n",
       " month                                           2\n",
       " jour_du_mois                                   13\n",
       " date_calendaire                        2019-02-13\n",
       " Name: 0, dtype: object)"
      ]
     },
     "execution_count": 149,
     "metadata": {},
     "output_type": "execute_result"
    }
   ],
   "source": [
    "ligne"
   ]
  },
  {
   "cell_type": "code",
   "execution_count": 160,
   "metadata": {},
   "outputs": [],
   "source": [
    "result = []\n",
    "for index,data  in df2.iterrows():\n",
    "    # 1) récupération de data\n",
    "    heure_et_date_commande   = data[\"date_commande\"]\n",
    "    aujourdhui               = data[\"date_calendaire\"]\n",
    "    heure_commande           = heure_et_date_commande.hour \n",
    "    # 2) filtre les données => uniquement les lignes de la même date\n",
    "    filtre_sur_la_date       = df2.date_calendaire == aujourdhui \n",
    "    sub_df                   = df2[filtre_sur_la_date]\n",
    "    # 3) filtre sur l'heure => prendre les lignes à une heure inférieure\n",
    "    filtre_sur_heure = sub_df.date_commande < heure_et_date_commande\n",
    "    # 4) résultat\n",
    "    nb_commande_precedentes = sum(filtre_sur_heure)\n",
    "    # 5) affichage\n",
    "    r = { \"heure_et_date_commande\"  : heure_et_date_commande,\n",
    "          \"nb_commande_precedentes\" : nb_commande_precedentes}\n",
    "    result.append(r)"
   ]
  },
  {
   "cell_type": "code",
   "execution_count": 161,
   "metadata": {},
   "outputs": [],
   "source": [
    "df3 = pd.DataFrame(result, index=range(len(result)))"
   ]
  },
  {
   "cell_type": "code",
   "execution_count": null,
   "metadata": {},
   "outputs": [],
   "source": []
  },
  {
   "cell_type": "code",
   "execution_count": 162,
   "metadata": {},
   "outputs": [
    {
     "data": {
      "text/html": [
       "<div>\n",
       "<style scoped>\n",
       "    .dataframe tbody tr th:only-of-type {\n",
       "        vertical-align: middle;\n",
       "    }\n",
       "\n",
       "    .dataframe tbody tr th {\n",
       "        vertical-align: top;\n",
       "    }\n",
       "\n",
       "    .dataframe thead th {\n",
       "        text-align: right;\n",
       "    }\n",
       "</style>\n",
       "<table border=\"1\" class=\"dataframe\">\n",
       "  <thead>\n",
       "    <tr style=\"text-align: right;\">\n",
       "      <th></th>\n",
       "      <th>heure_et_date_commande</th>\n",
       "      <th>nb_commande_precedentes</th>\n",
       "    </tr>\n",
       "  </thead>\n",
       "  <tbody>\n",
       "    <tr>\n",
       "      <td>375</td>\n",
       "      <td>2019-01-01 04:09:00</td>\n",
       "      <td>0</td>\n",
       "    </tr>\n",
       "    <tr>\n",
       "      <td>914</td>\n",
       "      <td>2019-01-01 05:40:00</td>\n",
       "      <td>1</td>\n",
       "    </tr>\n",
       "    <tr>\n",
       "      <td>208</td>\n",
       "      <td>2019-01-01 13:11:00</td>\n",
       "      <td>2</td>\n",
       "    </tr>\n",
       "    <tr>\n",
       "      <td>388</td>\n",
       "      <td>2019-01-01 14:31:00</td>\n",
       "      <td>3</td>\n",
       "    </tr>\n",
       "    <tr>\n",
       "      <td>991</td>\n",
       "      <td>2019-01-02 06:06:00</td>\n",
       "      <td>0</td>\n",
       "    </tr>\n",
       "    <tr>\n",
       "      <td>...</td>\n",
       "      <td>...</td>\n",
       "      <td>...</td>\n",
       "    </tr>\n",
       "    <tr>\n",
       "      <td>572</td>\n",
       "      <td>2019-12-27 09:32:00</td>\n",
       "      <td>1</td>\n",
       "    </tr>\n",
       "    <tr>\n",
       "      <td>158</td>\n",
       "      <td>2019-12-27 12:06:00</td>\n",
       "      <td>2</td>\n",
       "    </tr>\n",
       "    <tr>\n",
       "      <td>137</td>\n",
       "      <td>2019-12-27 17:53:00</td>\n",
       "      <td>3</td>\n",
       "    </tr>\n",
       "    <tr>\n",
       "      <td>37</td>\n",
       "      <td>2019-12-28 13:29:00</td>\n",
       "      <td>0</td>\n",
       "    </tr>\n",
       "    <tr>\n",
       "      <td>759</td>\n",
       "      <td>2019-12-28 18:04:00</td>\n",
       "      <td>1</td>\n",
       "    </tr>\n",
       "  </tbody>\n",
       "</table>\n",
       "<p>1000 rows × 2 columns</p>\n",
       "</div>"
      ],
      "text/plain": [
       "    heure_et_date_commande  nb_commande_precedentes\n",
       "375    2019-01-01 04:09:00                        0\n",
       "914    2019-01-01 05:40:00                        1\n",
       "208    2019-01-01 13:11:00                        2\n",
       "388    2019-01-01 14:31:00                        3\n",
       "991    2019-01-02 06:06:00                        0\n",
       "..                     ...                      ...\n",
       "572    2019-12-27 09:32:00                        1\n",
       "158    2019-12-27 12:06:00                        2\n",
       "137    2019-12-27 17:53:00                        3\n",
       "37     2019-12-28 13:29:00                        0\n",
       "759    2019-12-28 18:04:00                        1\n",
       "\n",
       "[1000 rows x 2 columns]"
      ]
     },
     "execution_count": 162,
     "metadata": {},
     "output_type": "execute_result"
    }
   ],
   "source": [
    "df3.sort_values(\"heure_et_date_commande\")"
   ]
  },
  {
   "cell_type": "code",
   "execution_count": null,
   "metadata": {},
   "outputs": [],
   "source": []
  },
  {
   "cell_type": "code",
   "execution_count": null,
   "metadata": {},
   "outputs": [],
   "source": []
  },
  {
   "cell_type": "code",
   "execution_count": 147,
   "metadata": {},
   "outputs": [
    {
     "data": {
      "text/plain": [
       "0"
      ]
     },
     "execution_count": 147,
     "metadata": {},
     "output_type": "execute_result"
    }
   ],
   "source": [
    "heure_commande"
   ]
  },
  {
   "cell_type": "code",
   "execution_count": 148,
   "metadata": {},
   "outputs": [
    {
     "data": {
      "text/plain": [
       "Timestamp('2019-02-13 00:14:00')"
      ]
     },
     "execution_count": 148,
     "metadata": {},
     "output_type": "execute_result"
    }
   ],
   "source": [
    "heure_et_date_commande"
   ]
  },
  {
   "cell_type": "code",
   "execution_count": 136,
   "metadata": {},
   "outputs": [
    {
     "data": {
      "text/html": [
       "<div>\n",
       "<style scoped>\n",
       "    .dataframe tbody tr th:only-of-type {\n",
       "        vertical-align: middle;\n",
       "    }\n",
       "\n",
       "    .dataframe tbody tr th {\n",
       "        vertical-align: top;\n",
       "    }\n",
       "\n",
       "    .dataframe thead th {\n",
       "        text-align: right;\n",
       "    }\n",
       "</style>\n",
       "<table border=\"1\" class=\"dataframe\">\n",
       "  <thead>\n",
       "    <tr style=\"text-align: right;\">\n",
       "      <th></th>\n",
       "      <th>date_commande</th>\n",
       "      <th>date_envoi_depuis_entrepot</th>\n",
       "      <th>isoWeekDay</th>\n",
       "      <th>isoWeekDay_1</th>\n",
       "      <th>isoWeekDay_2</th>\n",
       "      <th>isoWeekDay_3</th>\n",
       "      <th>isoWeekDay_4</th>\n",
       "      <th>isoWeekDay_5</th>\n",
       "      <th>isoWeekDay_6</th>\n",
       "      <th>isoWeekDay_7</th>\n",
       "      <th>hour</th>\n",
       "      <th>month</th>\n",
       "      <th>jour_du_mois</th>\n",
       "    </tr>\n",
       "    <tr>\n",
       "      <th>date_calendaire</th>\n",
       "      <th></th>\n",
       "      <th></th>\n",
       "      <th></th>\n",
       "      <th></th>\n",
       "      <th></th>\n",
       "      <th></th>\n",
       "      <th></th>\n",
       "      <th></th>\n",
       "      <th></th>\n",
       "      <th></th>\n",
       "      <th></th>\n",
       "      <th></th>\n",
       "      <th></th>\n",
       "    </tr>\n",
       "  </thead>\n",
       "  <tbody>\n",
       "    <tr>\n",
       "      <td>2019-01-01</td>\n",
       "      <td>4</td>\n",
       "      <td>4</td>\n",
       "      <td>4</td>\n",
       "      <td>4</td>\n",
       "      <td>4</td>\n",
       "      <td>4</td>\n",
       "      <td>4</td>\n",
       "      <td>4</td>\n",
       "      <td>4</td>\n",
       "      <td>4</td>\n",
       "      <td>4</td>\n",
       "      <td>4</td>\n",
       "      <td>4</td>\n",
       "    </tr>\n",
       "    <tr>\n",
       "      <td>2019-01-02</td>\n",
       "      <td>2</td>\n",
       "      <td>2</td>\n",
       "      <td>2</td>\n",
       "      <td>2</td>\n",
       "      <td>2</td>\n",
       "      <td>2</td>\n",
       "      <td>2</td>\n",
       "      <td>2</td>\n",
       "      <td>2</td>\n",
       "      <td>2</td>\n",
       "      <td>2</td>\n",
       "      <td>2</td>\n",
       "      <td>2</td>\n",
       "    </tr>\n",
       "    <tr>\n",
       "      <td>2019-01-03</td>\n",
       "      <td>5</td>\n",
       "      <td>5</td>\n",
       "      <td>5</td>\n",
       "      <td>5</td>\n",
       "      <td>5</td>\n",
       "      <td>5</td>\n",
       "      <td>5</td>\n",
       "      <td>5</td>\n",
       "      <td>5</td>\n",
       "      <td>5</td>\n",
       "      <td>5</td>\n",
       "      <td>5</td>\n",
       "      <td>5</td>\n",
       "    </tr>\n",
       "    <tr>\n",
       "      <td>2019-01-05</td>\n",
       "      <td>1</td>\n",
       "      <td>1</td>\n",
       "      <td>1</td>\n",
       "      <td>1</td>\n",
       "      <td>1</td>\n",
       "      <td>1</td>\n",
       "      <td>1</td>\n",
       "      <td>1</td>\n",
       "      <td>1</td>\n",
       "      <td>1</td>\n",
       "      <td>1</td>\n",
       "      <td>1</td>\n",
       "      <td>1</td>\n",
       "    </tr>\n",
       "    <tr>\n",
       "      <td>2019-01-06</td>\n",
       "      <td>2</td>\n",
       "      <td>2</td>\n",
       "      <td>2</td>\n",
       "      <td>2</td>\n",
       "      <td>2</td>\n",
       "      <td>2</td>\n",
       "      <td>2</td>\n",
       "      <td>2</td>\n",
       "      <td>2</td>\n",
       "      <td>2</td>\n",
       "      <td>2</td>\n",
       "      <td>2</td>\n",
       "      <td>2</td>\n",
       "    </tr>\n",
       "    <tr>\n",
       "      <td>...</td>\n",
       "      <td>...</td>\n",
       "      <td>...</td>\n",
       "      <td>...</td>\n",
       "      <td>...</td>\n",
       "      <td>...</td>\n",
       "      <td>...</td>\n",
       "      <td>...</td>\n",
       "      <td>...</td>\n",
       "      <td>...</td>\n",
       "      <td>...</td>\n",
       "      <td>...</td>\n",
       "      <td>...</td>\n",
       "      <td>...</td>\n",
       "    </tr>\n",
       "    <tr>\n",
       "      <td>2019-12-23</td>\n",
       "      <td>1</td>\n",
       "      <td>1</td>\n",
       "      <td>1</td>\n",
       "      <td>1</td>\n",
       "      <td>1</td>\n",
       "      <td>1</td>\n",
       "      <td>1</td>\n",
       "      <td>1</td>\n",
       "      <td>1</td>\n",
       "      <td>1</td>\n",
       "      <td>1</td>\n",
       "      <td>1</td>\n",
       "      <td>1</td>\n",
       "    </tr>\n",
       "    <tr>\n",
       "      <td>2019-12-24</td>\n",
       "      <td>2</td>\n",
       "      <td>2</td>\n",
       "      <td>2</td>\n",
       "      <td>2</td>\n",
       "      <td>2</td>\n",
       "      <td>2</td>\n",
       "      <td>2</td>\n",
       "      <td>2</td>\n",
       "      <td>2</td>\n",
       "      <td>2</td>\n",
       "      <td>2</td>\n",
       "      <td>2</td>\n",
       "      <td>2</td>\n",
       "    </tr>\n",
       "    <tr>\n",
       "      <td>2019-12-26</td>\n",
       "      <td>3</td>\n",
       "      <td>3</td>\n",
       "      <td>3</td>\n",
       "      <td>3</td>\n",
       "      <td>3</td>\n",
       "      <td>3</td>\n",
       "      <td>3</td>\n",
       "      <td>3</td>\n",
       "      <td>3</td>\n",
       "      <td>3</td>\n",
       "      <td>3</td>\n",
       "      <td>3</td>\n",
       "      <td>3</td>\n",
       "    </tr>\n",
       "    <tr>\n",
       "      <td>2019-12-27</td>\n",
       "      <td>4</td>\n",
       "      <td>4</td>\n",
       "      <td>4</td>\n",
       "      <td>4</td>\n",
       "      <td>4</td>\n",
       "      <td>4</td>\n",
       "      <td>4</td>\n",
       "      <td>4</td>\n",
       "      <td>4</td>\n",
       "      <td>4</td>\n",
       "      <td>4</td>\n",
       "      <td>4</td>\n",
       "      <td>4</td>\n",
       "    </tr>\n",
       "    <tr>\n",
       "      <td>2019-12-28</td>\n",
       "      <td>2</td>\n",
       "      <td>2</td>\n",
       "      <td>2</td>\n",
       "      <td>2</td>\n",
       "      <td>2</td>\n",
       "      <td>2</td>\n",
       "      <td>2</td>\n",
       "      <td>2</td>\n",
       "      <td>2</td>\n",
       "      <td>2</td>\n",
       "      <td>2</td>\n",
       "      <td>2</td>\n",
       "      <td>2</td>\n",
       "    </tr>\n",
       "  </tbody>\n",
       "</table>\n",
       "<p>324 rows × 13 columns</p>\n",
       "</div>"
      ],
      "text/plain": [
       "                 date_commande  date_envoi_depuis_entrepot  isoWeekDay  \\\n",
       "date_calendaire                                                          \n",
       "2019-01-01                   4                           4           4   \n",
       "2019-01-02                   2                           2           2   \n",
       "2019-01-03                   5                           5           5   \n",
       "2019-01-05                   1                           1           1   \n",
       "2019-01-06                   2                           2           2   \n",
       "...                        ...                         ...         ...   \n",
       "2019-12-23                   1                           1           1   \n",
       "2019-12-24                   2                           2           2   \n",
       "2019-12-26                   3                           3           3   \n",
       "2019-12-27                   4                           4           4   \n",
       "2019-12-28                   2                           2           2   \n",
       "\n",
       "                 isoWeekDay_1  isoWeekDay_2  isoWeekDay_3  isoWeekDay_4  \\\n",
       "date_calendaire                                                           \n",
       "2019-01-01                  4             4             4             4   \n",
       "2019-01-02                  2             2             2             2   \n",
       "2019-01-03                  5             5             5             5   \n",
       "2019-01-05                  1             1             1             1   \n",
       "2019-01-06                  2             2             2             2   \n",
       "...                       ...           ...           ...           ...   \n",
       "2019-12-23                  1             1             1             1   \n",
       "2019-12-24                  2             2             2             2   \n",
       "2019-12-26                  3             3             3             3   \n",
       "2019-12-27                  4             4             4             4   \n",
       "2019-12-28                  2             2             2             2   \n",
       "\n",
       "                 isoWeekDay_5  isoWeekDay_6  isoWeekDay_7  hour  month  \\\n",
       "date_calendaire                                                          \n",
       "2019-01-01                  4             4             4     4      4   \n",
       "2019-01-02                  2             2             2     2      2   \n",
       "2019-01-03                  5             5             5     5      5   \n",
       "2019-01-05                  1             1             1     1      1   \n",
       "2019-01-06                  2             2             2     2      2   \n",
       "...                       ...           ...           ...   ...    ...   \n",
       "2019-12-23                  1             1             1     1      1   \n",
       "2019-12-24                  2             2             2     2      2   \n",
       "2019-12-26                  3             3             3     3      3   \n",
       "2019-12-27                  4             4             4     4      4   \n",
       "2019-12-28                  2             2             2     2      2   \n",
       "\n",
       "                 jour_du_mois  \n",
       "date_calendaire                \n",
       "2019-01-01                  4  \n",
       "2019-01-02                  2  \n",
       "2019-01-03                  5  \n",
       "2019-01-05                  1  \n",
       "2019-01-06                  2  \n",
       "...                       ...  \n",
       "2019-12-23                  1  \n",
       "2019-12-24                  2  \n",
       "2019-12-26                  3  \n",
       "2019-12-27                  4  \n",
       "2019-12-28                  2  \n",
       "\n",
       "[324 rows x 13 columns]"
      ]
     },
     "execution_count": 136,
     "metadata": {},
     "output_type": "execute_result"
    }
   ],
   "source": [
    "df2.groupby(\"date_calendaire\").count()"
   ]
  },
  {
   "cell_type": "code",
   "execution_count": null,
   "metadata": {},
   "outputs": [],
   "source": []
  },
  {
   "cell_type": "code",
   "execution_count": null,
   "metadata": {},
   "outputs": [],
   "source": []
  },
  {
   "cell_type": "code",
   "execution_count": null,
   "metadata": {},
   "outputs": [],
   "source": []
  },
  {
   "cell_type": "code",
   "execution_count": null,
   "metadata": {},
   "outputs": [],
   "source": []
  },
  {
   "cell_type": "code",
   "execution_count": null,
   "metadata": {},
   "outputs": [],
   "source": []
  },
  {
   "cell_type": "code",
   "execution_count": null,
   "metadata": {},
   "outputs": [],
   "source": []
  }
 ],
 "metadata": {
  "kernelspec": {
   "display_name": "Python 3",
   "language": "python",
   "name": "python3"
  },
  "language_info": {
   "codemirror_mode": {
    "name": "ipython",
    "version": 3
   },
   "file_extension": ".py",
   "mimetype": "text/x-python",
   "name": "python",
   "nbconvert_exporter": "python",
   "pygments_lexer": "ipython3",
   "version": "3.7.1"
  }
 },
 "nbformat": 4,
 "nbformat_minor": 2
}
