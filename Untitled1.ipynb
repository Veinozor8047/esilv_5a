{
 "cells": [
  {
   "cell_type": "code",
   "execution_count": 1,
   "metadata": {},
   "outputs": [],
   "source": [
    "import subprocess"
   ]
  },
  {
   "cell_type": "code",
   "execution_count": 3,
   "metadata": {},
   "outputs": [
    {
     "name": "stdout",
     "output_type": "stream",
     "text": [
      "/Users/romain/Informatique/esilv/5a_2019_2020\r\n"
     ]
    }
   ],
   "source": [
    "!pwd"
   ]
  },
  {
   "cell_type": "code",
   "execution_count": 2,
   "metadata": {},
   "outputs": [
    {
     "data": {
      "text/plain": [
       "b'On branch master\\nAll conflicts fixed but you are still merging.\\n  (use \"git commit\" to conclude merge)\\n\\nChanges to be committed:\\n\\n\\tnew file:   url_meteo\\n\\nChanges not staged for commit:\\n  (use \"git add <file>...\" to update what will be committed)\\n  (use \"git checkout -- <file>...\" to discard changes in working directory)\\n\\n\\tmodified:   .DS_Store\\n\\tmodified:   .ipynb_checkpoints/20190913_ibo3_webscrapping-checkpoint.ipynb\\n\\tmodified:   20190913_ibo3_webscrapping.ipynb\\n\\tmodified:   TD2_webscrapping.ipynb\\n\\nUntracked files:\\n  (use \"git add <file>...\" to include in what will be committed)\\n\\n\\tchromedriver 3\\n\\tchromedriver_mac64 (5).zip\\n\\timage_0.jpg\\n\\timage_1.jpg\\n\\timage_10.jpg\\n\\timage_11.jpg\\n\\timage_12.jpg\\n\\timage_13.jpg\\n\\timage_14.jpg\\n\\timage_15.jpg\\n\\timage_16.jpg\\n\\timage_17.jpg\\n\\timage_18.jpg\\n\\timage_19.jpg\\n\\timage_2.jpg\\n\\timage_20.jpg\\n\\timage_21.jpg\\n\\timage_22.jpg\\n\\timage_23.jpg\\n\\timage_24.jpg\\n\\timage_25.jpg\\n\\timage_26.jpg\\n\\timage_27.jpg\\n\\timage_28.jpg\\n\\timage_29.jpg\\n\\timage_3.jpg\\n\\timage_30.jpg\\n\\timage_31.jpg\\n\\timage_32.jpg\\n\\timage_4.jpg\\n\\timage_5.jpg\\n\\timage_6.jpg\\n\\timage_7.jpg\\n\\timage_8.jpg\\n\\timage_9.jpg\\n\\ttest.jpg\\n\\n'"
      ]
     },
     "execution_count": 2,
     "metadata": {},
     "output_type": "execute_result"
    }
   ],
   "source": [
    "subprocess.check_output(\"git status\".split())"
   ]
  },
  {
   "cell_type": "code",
   "execution_count": 250,
   "metadata": {},
   "outputs": [],
   "source": [
    "def push(message, delay=20):\n",
    "    \"\"\"\n",
    "    Save current notebook and push whole current dir to origin/master (use it in notebooks)\n",
    "    \n",
    "    Param:\n",
    "        message : commit's message\n",
    "    \n",
    "    Return:\n",
    "        None\n",
    "    \"\"\"\n",
    "    assert(len(message.strip())>10)\n",
    "    import subprocess\n",
    "    from IPython.display import display, Javascript\n",
    "    \n",
    "    cmds = [  \"git add .\",\n",
    "              \"git commit -m \", \n",
    "              \"git push origin master\"]\n",
    "    \n",
    "    # save current notebook\n",
    "    display(Javascript('IPython.notebook.save_checkpoint();'))\n",
    "    \n",
    "    # Apply the git commands:\n",
    "    for cmd in cmds:\n",
    "        cmd = cmd.split()\n",
    "        if \"commit\" in cmd: \n",
    "            cmd.append( f\"'{message}'\") \n",
    "        print(\" \".join(cmd)) # let user know what is on-going\n",
    "        subprocess.check_output(cmd)\n",
    "    print(f\"Going to wait for {delay} sec to let github work before verying the push\")\n",
    "    time.sleep(delay)\n",
    "    nb_iter = 1\n",
    "    while (not verif_push(delay*nb_iter)) & (nb_iter<5):\n",
    "        print(\"Github not ready, waiting again.\")\n",
    "        time.sleep(delay)\n",
    "        nb_iter +=1\n",
    "        \n",
    "        "
   ]
  },
  {
   "cell_type": "code",
   "execution_count": null,
   "metadata": {},
   "outputs": [],
   "source": [
    "push(\"premier push td 13 sept 2019\")"
   ]
  },
  {
   "cell_type": "markdown",
   "metadata": {},
   "source": [
    "# 0) installation de package manquant\n",
    "1. appel système avec le point d'exclamation\n",
    "2. appel de l'installateur de package : \n",
    "\n",
    "-pip (python classique )\n",
    "\n",
    "-conda (python anaconda)\n",
    "\n",
    "3. paramétrage de l'installateur avec l'option pour accepter les conditions par défaut d'installation des packages :  -y\n",
    "\n",
    "Exemple : !conda install -y regex\n",
    "\n",
    "#### Sinon, aller voir dans anaconda navigator pour une interface graphique"
   ]
  },
  {
   "cell_type": "code",
   "execution_count": 30,
   "metadata": {},
   "outputs": [
    {
     "name": "stdout",
     "output_type": "stream",
     "text": [
      "Collecting package metadata (repodata.json): done\n",
      "Solving environment: done\n",
      "\n",
      "# All requested packages already installed.\n",
      "\n"
     ]
    }
   ],
   "source": [
    "!conda install -y regex"
   ]
  },
  {
   "cell_type": "markdown",
   "metadata": {},
   "source": [
    "## usage de jupyter : fusion de cellules \n",
    "# MAJ + M"
   ]
  },
  {
   "cell_type": "markdown",
   "metadata": {},
   "source": [
    "# 1) regular expressions"
   ]
  },
  {
   "cell_type": "code",
   "execution_count": 31,
   "metadata": {},
   "outputs": [],
   "source": [
    "import regex as re\n",
    "url =\"https://github.com/romainjouin/esilv_5a.git\""
   ]
  },
  {
   "cell_type": "markdown",
   "metadata": {},
   "source": [
    "## 1.1) regex greedy : le .* prend tout ce qu'il peut"
   ]
  },
  {
   "cell_type": "code",
   "execution_count": 25,
   "metadata": {},
   "outputs": [
    {
     "data": {
      "text/plain": [
       "['https://github.com/romainjouin/esilv_5a.git coucou .gitahttps://github.com/romainjouin/esilv_5a.git']"
      ]
     },
     "execution_count": 25,
     "metadata": {},
     "output_type": "execute_result"
    }
   ],
   "source": [
    "pattern = \"https://.*\\.git\"\n",
    "model   = re.compile(pattern)\n",
    "text    = url + \" coucou .gita\"+url\n",
    "model.findall(text)"
   ]
  },
  {
   "cell_type": "markdown",
   "metadata": {},
   "source": [
    "## 1.2) regex lazzy : le .*? s'arrête dès qu'il peut"
   ]
  },
  {
   "cell_type": "code",
   "execution_count": 27,
   "metadata": {},
   "outputs": [
    {
     "data": {
      "text/plain": [
       "['https://github.com/romainjouin/esilv_5a.git',\n",
       " 'https://github.com/romainjouin/esilv_5a.git']"
      ]
     },
     "execution_count": 27,
     "metadata": {},
     "output_type": "execute_result"
    }
   ],
   "source": [
    "recherche = \".*?\"\n",
    "pattern   = f\"https://{recherche}\\.git\"\n",
    "model     = re.compile(pattern)\n",
    "model.findall(text)"
   ]
  },
  {
   "cell_type": "markdown",
   "metadata": {},
   "source": [
    "# 2) webscrapping"
   ]
  },
  {
   "cell_type": "code",
   "execution_count": 49,
   "metadata": {},
   "outputs": [],
   "source": [
    "import requests               # module de requête http\n",
    "page = re.request('get', url) # on récupère une page \n",
    "html = page.text              # on récupère le contenu html de la page"
   ]
  },
  {
   "cell_type": "markdown",
   "metadata": {},
   "source": [
    "### type de html => string => on peut l'analyser avec des regex !"
   ]
  },
  {
   "cell_type": "code",
   "execution_count": 47,
   "metadata": {},
   "outputs": [
    {
     "data": {
      "text/plain": [
       "str"
      ]
     },
     "execution_count": 47,
     "metadata": {},
     "output_type": "execute_result"
    }
   ],
   "source": [
    "type(html)"
   ]
  },
  {
   "cell_type": "markdown",
   "metadata": {},
   "source": [
    "## 2.1) regex pour la récupération des liens \n",
    "un lien html => (<a href=> < /a>)"
   ]
  },
  {
   "cell_type": "code",
   "execution_count": 50,
   "metadata": {},
   "outputs": [],
   "source": [
    "import regex as re"
   ]
  },
  {
   "cell_type": "code",
   "execution_count": 60,
   "metadata": {},
   "outputs": [
    {
     "data": {
      "text/plain": [
       "93"
      ]
     },
     "execution_count": 60,
     "metadata": {},
     "output_type": "execute_result"
    }
   ],
   "source": [
    "pattern_lien = \"<a.*/a>\"\n",
    "model        = re.compile(pattern_lien)\n",
    "liens        = model.findall(html)\n",
    "len(liens)#[:3]"
   ]
  },
  {
   "cell_type": "markdown",
   "metadata": {},
   "source": [
    "Question d'axel: comment récupérer les liens qui ne comprennent pas le mot github ?\n",
    "- changer la regex en ajoutant un point d'exclamation (signifie la négation) avant le .* (idée de nicolas / alexis pense que ça march'ra pas mais il ne veut pas dire de bêtises)\n",
    "- Simon : prendre tous les liens, une seconde regex avec les .git => filtre inversé avec la seconde regex\n",
    "- Lindsay : ne pas utiliser une seconde rgex est il envisageable ?? Très bonne idée !! -> comment faire ? Romain propose de faire un filtre"
   ]
  },
  {
   "cell_type": "markdown",
   "metadata": {},
   "source": [
    "## 2.2) regex sur regex (simon)"
   ]
  },
  {
   "cell_type": "code",
   "execution_count": 61,
   "metadata": {},
   "outputs": [
    {
     "data": {
      "text/plain": [
       "['  <link rel=\"dns-prefetch\" href=\"https://github.git',\n",
       " '  <link rel=\"dns-prefetch\" href=\"https://avatars0.git',\n",
       " '  <link rel=\"dns-prefetch\" href=\"https://avatars1.git']"
      ]
     },
     "execution_count": 61,
     "metadata": {},
     "output_type": "execute_result"
    }
   ],
   "source": [
    "seconde_regex = \".*?\\.git\"\n",
    "\n",
    "second_model = re.compile(seconde_regex)\n",
    "liens_git = second_model.findall(html)\n",
    "liens_git[:3]"
   ]
  },
  {
   "cell_type": "code",
   "execution_count": 65,
   "metadata": {},
   "outputs": [
    {
     "data": {
      "text/plain": [
       "['<a href=\"#start-of-content\" tabindex=\"1\" class=\"px-2 py-4 bg-blue text-white show-on-focus js-skip-to-content\">Skip to content</a>',\n",
       " '<a href=\"/features\" class=\"py-2 lh-condensed-ultra d-block link-gray-dark no-underline h5 Bump-link--hover\" data-ga-click=\"(Logged out) Header, go to Features\">Features <span class=\"Bump-link-symbol float-right text-normal text-gray-light\">&rarr;</span></a>',\n",
       " '<a href=\"/features/code-review/\" class=\"py-2 lh-condensed-ultra d-block link-gray no-underline f5\" data-ga-click=\"(Logged out) Header, go to Code review\">Code review</a>']"
      ]
     },
     "execution_count": 65,
     "metadata": {},
     "output_type": "execute_result"
    }
   ],
   "source": [
    "[lien for lien in liens if not second_model.findall(lien)][:3]"
   ]
  },
  {
   "cell_type": "markdown",
   "metadata": {},
   "source": [
    "## 2.3) filtre (romain)"
   ]
  },
  {
   "cell_type": "code",
   "execution_count": 74,
   "metadata": {},
   "outputs": [],
   "source": [
    "l1 = list(filter(lambda lien: \".git\" not in lien, liens)) \n",
    "l2 = [lien for lien in liens if not second_model.findall(lien)]"
   ]
  },
  {
   "cell_type": "code",
   "execution_count": 75,
   "metadata": {},
   "outputs": [
    {
     "data": {
      "text/plain": [
       "(83, 83)"
      ]
     },
     "execution_count": 75,
     "metadata": {},
     "output_type": "execute_result"
    }
   ],
   "source": [
    "len(l1), len(l2)"
   ]
  },
  {
   "cell_type": "code",
   "execution_count": 76,
   "metadata": {},
   "outputs": [
    {
     "data": {
      "text/plain": [
       "True"
      ]
     },
     "execution_count": 76,
     "metadata": {},
     "output_type": "execute_result"
    }
   ],
   "source": [
    "l1==l2"
   ]
  },
  {
   "cell_type": "markdown",
   "metadata": {},
   "source": [
    "# 3) mieux que les regex : la soupe !"
   ]
  },
  {
   "cell_type": "code",
   "execution_count": 77,
   "metadata": {},
   "outputs": [],
   "source": [
    "from bs4 import BeautifulSoup"
   ]
  },
  {
   "cell_type": "code",
   "execution_count": 78,
   "metadata": {},
   "outputs": [],
   "source": [
    "soup = BeautifulSoup(html)"
   ]
  },
  {
   "cell_type": "markdown",
   "metadata": {},
   "source": [
    "## 3.1) trouver tous les liens"
   ]
  },
  {
   "cell_type": "code",
   "execution_count": 90,
   "metadata": {},
   "outputs": [
    {
     "data": {
      "text/plain": [
       "122"
      ]
     },
     "execution_count": 90,
     "metadata": {},
     "output_type": "execute_result"
    }
   ],
   "source": [
    "selector = \"a\"\n",
    "liens    = soup.find_all(selector)\n",
    "len(liens)"
   ]
  },
  {
   "cell_type": "markdown",
   "metadata": {},
   "source": [
    "## 3.3) trouver les éléments du dom qui ont une certaine classe"
   ]
  },
  {
   "cell_type": "code",
   "execution_count": 92,
   "metadata": {},
   "outputs": [
    {
     "data": {
      "text/plain": [
       "2"
      ]
     },
     "execution_count": 92,
     "metadata": {},
     "output_type": "execute_result"
    }
   ],
   "source": [
    "selector = \"px-2\"\n",
    "nodes    = soup.find_all(class_=selector)\n",
    "len(nodes)"
   ]
  },
  {
   "cell_type": "markdown",
   "metadata": {},
   "source": [
    "## 3.4) trouver les éléments avec deux classes données"
   ]
  },
  {
   "cell_type": "code",
   "execution_count": 104,
   "metadata": {},
   "outputs": [
    {
     "data": {
      "text/plain": [
       "32"
      ]
     },
     "execution_count": 104,
     "metadata": {},
     "output_type": "execute_result"
    }
   ],
   "source": [
    "selector = {'class':['py-2', 'lh-condensed-ultra']}\n",
    "nodes    = soup.find_all(True, selector)\n",
    "len(nodes)"
   ]
  },
  {
   "cell_type": "markdown",
   "metadata": {},
   "source": [
    "# 4) exploration des noeuds"
   ]
  },
  {
   "cell_type": "code",
   "execution_count": 107,
   "metadata": {},
   "outputs": [],
   "source": [
    "un_noeud = nodes[0]"
   ]
  },
  {
   "cell_type": "code",
   "execution_count": 112,
   "metadata": {},
   "outputs": [
    {
     "data": {
      "text/plain": [
       "bs4.element.Tag"
      ]
     },
     "execution_count": 112,
     "metadata": {},
     "output_type": "execute_result"
    }
   ],
   "source": [
    "type(un_noeud)"
   ]
  },
  {
   "cell_type": "markdown",
   "metadata": {},
   "source": [
    "## 4.1) les noeuds ont des textes"
   ]
  },
  {
   "cell_type": "code",
   "execution_count": 111,
   "metadata": {},
   "outputs": [
    {
     "data": {
      "text/plain": [
       "'\\n\\n\\n\\n\\n\\n\\n\\n\\n\\n\\n\\n\\n\\n\\n\\n\\n\\n                    Why GitHub?\\n                    \\n\\n\\n\\n\\nFeatures →\\n\\nCode review\\nProject management\\nIntegrations\\nActions\\nPackage registry\\nTeam management\\nSocial coding\\nDocumentation\\nCode hosting\\n\\n\\nCustomer stories →\\nSecurity →\\n\\n\\n\\n\\n\\nEnterprise\\n\\n\\n\\n\\n                    Explore\\n                    \\n\\n\\n\\n\\n\\nExplore GitHub →\\n\\nLearn & contribute\\n\\nTopics\\nCollections\\nTrending\\nLearning Lab\\nOpen source guides\\n\\nConnect with others\\n\\nEvents\\nCommunity forum\\nGitHub Education\\n\\n\\n\\n\\n\\nMarketplace\\n\\n\\n\\n\\n                    Pricing\\n                    \\n\\n\\n\\n\\nPlans →\\n\\nCompare plans\\nContact Sales\\n\\n\\nNonprofit →\\nEducation →\\n\\n\\n\\n\\n\\n\\n\\n\\n\\n\\n\\n\\n\\n\\n\\n\\n\\n\\n\\n\\n\\n\\n\\n\\n\\n\\n\\n\\n\\n        In this repository\\n      \\n\\n        All GitHub\\n      \\n↵\\n\\n\\n      Jump to\\n      ↵\\n\\n\\n\\n\\n\\n\\nNo suggested jump to results\\n\\n\\n\\n\\n\\n\\n\\n\\n\\n\\n\\n\\n\\n\\n\\n        In this repository\\n      \\n\\n        All GitHub\\n      \\n↵\\n\\n\\n      Jump to\\n      ↵\\n\\n\\n\\n\\n\\n\\n\\n\\n\\n\\n\\n\\n\\n\\n\\n        In this repository\\n      \\n\\n        All GitHub\\n      \\n↵\\n\\n\\n      Jump to\\n      ↵\\n\\n\\n\\n\\n\\n\\n \\n\\n\\n\\n          Sign\\xa0in\\n        \\n\\n            Sign\\xa0up\\n          \\n\\n\\n\\n'"
      ]
     },
     "execution_count": 111,
     "metadata": {},
     "output_type": "execute_result"
    }
   ],
   "source": [
    "un_noeud.text"
   ]
  },
  {
   "cell_type": "code",
   "execution_count": 117,
   "metadata": {},
   "outputs": [
    {
     "data": {
      "text/plain": [
       "1044"
      ]
     },
     "execution_count": 117,
     "metadata": {},
     "output_type": "execute_result"
    }
   ],
   "source": [
    "len(un_noeud.text)"
   ]
  },
  {
   "cell_type": "markdown",
   "metadata": {},
   "source": [
    "## 4.2) on peut se balader dans le DOM "
   ]
  },
  {
   "cell_type": "code",
   "execution_count": 115,
   "metadata": {},
   "outputs": [
    {
     "data": {
      "text/plain": [
       "1063"
      ]
     },
     "execution_count": 115,
     "metadata": {},
     "output_type": "execute_result"
    }
   ],
   "source": [
    "len(un_noeud.parent.text)"
   ]
  },
  {
   "cell_type": "code",
   "execution_count": 120,
   "metadata": {},
   "outputs": [
    {
     "data": {
      "text/plain": [
       "'\\n'"
      ]
     },
     "execution_count": 120,
     "metadata": {},
     "output_type": "execute_result"
    }
   ],
   "source": [
    "str(child)"
   ]
  },
  {
   "cell_type": "code",
   "execution_count": 132,
   "metadata": {},
   "outputs": [
    {
     "name": "stdout",
     "output_type": "stream",
     "text": [
      "\n",
      "\n",
      "<div class=\"container-lg d-flex px-3\">\n",
      "<div class=\"d-flex flex-justify-between flex-items-center\">\n",
      "<a aria-label=\"Homepage\" class=\"mr-4\" data-ga-click=\"(Logged out) Header, go to homepage, icon:logo-wordmark\" href=\"https://github.com/\">\n",
      "<svg aria-hidden=\"true\" class=\"octicon octicon-mark-github text-white\" height=\"32\" version=\"1.1\" viewbox=\"0 0 16 16\" width=\"32\"><path d=\"M8 0C3.58 0 0 3.58 0 8c0 3.54 2.29 6.53 5.47 7.59.4.07.55-.17.55-.38 0-.19-.01-.82-.01-1.49-2.01.37-2.53-.49-2.69-.94-.09-.23-.48-.94-.82-1.13-.28-.15-.68-.52-.01-.53.63-.01 1.08.58 1.23.82.72 1.21 1.87.87 2.33.66.07-.52.28-.87.51-1.07-1.78-.2-3.64-.89-3.64-3.95 0-.87.31-1.59.82-2.15-.08-.2-.36-1.02.08-2.12 0 0 .67-.21 2.2.82.64-.18 1.32-.27 2-.27.68 0 1.36.09 2 .27 1.53-1.04 2.2-.82 2.2-.82.44 1.1.16 1.92.08 2.12.51.56.82 1.27.82 2.15 0 3.07-1.87 3.75-3.65 3.95.29.25.54.73.54 1.48 0 1.07-.01 1.93-.01 2.2 0 .21.15.46.55.38A8.013 8.013 0 0 0 16 8c0-4.42-3.58-8-8-8z\" fill-rule=\"evenodd\"></path></svg>\n",
      "</a>\n",
      "</div>\n",
      "<div class=\"HeaderMenu HeaderMenu--logged-out d-flex flex-justify-between flex-items-center flex-auto\">\n",
      "<div class=\"d-none\">\n",
      "<button aria-expanded=\"false\" aria-label=\"Toggle navigation\" class=\"btn-link js-details-target\" type=\"button\">\n",
      "<svg aria-hidden=\"true\" class=\"octicon octicon-x text-gray\" height=\"24\" version=\"1.1\" viewbox=\"0 0 12 16\" width=\"18\"><path d=\"M7.48 8l3.75 3.75-1.48 1.48L6 9.48l-3.75 3.75-1.48-1.48L4.52 8 .77 4.25l1.48-1.48L6 6.52l3.75-3.75 1.48 1.48L7.48 8z\" fill-rule=\"evenodd\"></path></svg>\n",
      "</button>\n",
      "</div>\n",
      "<nav aria-label=\"Global\" class=\"mt-0\">\n",
      "<ul class=\"d-flex list-style-none\">\n",
      "<li class=\" mr-3 mr-lg-3 edge-item-fix position-relative flex-wrap flex-justify-between d-flex flex-items-center \">\n",
      "<details class=\"HeaderMenu-details details-overlay details-reset width-full\">\n",
      "<summary class=\"HeaderMenu-summary HeaderMenu-link px-0 py-3 border-0 no-wrap d-inline-block\">\n",
      "                    Why GitHub?\n",
      "                    <svg class=\"icon-chevon-down-mktg position-relative\" fill=\"none\" viewbox=\"0 0 14 8\" x=\"0px\" xml:space=\"preserve\" y=\"0px\">\n",
      "<path d=\"M1,1l6.2,6L13,1\"></path>\n",
      "</svg>\n",
      "</summary>\n",
      "<div class=\"dropdown-menu flex-auto rounded-1 bg-white px-0 mt-0 p-4 left-n4 position-absolute\">\n",
      "<a class=\"py-2 lh-condensed-ultra d-block link-gray-dark no-underline h5 Bump-link--hover\" data-ga-click=\"(Logged out) Header, go to Features\" href=\"/features\">Features <span class=\"Bump-link-symbol float-right text-normal text-gray-light\">→</span></a>\n",
      "<ul class=\"list-style-none f5 pb-3\">\n",
      "<li class=\"edge-item-fix\"><a class=\"py-2 lh-condensed-ultra d-block link-gray no-underline f5\" data-ga-click=\"(Logged out) Header, go to Code review\" href=\"/features/code-review/\">Code review</a></li>\n",
      "<li class=\"edge-item-fix\"><a class=\"py-2 lh-condensed-ultra d-block link-gray no-underline f5\" data-ga-click=\"(Logged out) Header, go to Project management\" href=\"/features/project-management/\">Project management</a></li>\n",
      "<li class=\"edge-item-fix\"><a class=\"py-2 lh-condensed-ultra d-block link-gray no-underline f5\" data-ga-click=\"(Logged out) Header, go to Integrations\" href=\"/features/integrations\">Integrations</a></li>\n",
      "<li class=\"edge-item-fix\"><a class=\"py-2 lh-condensed-ultra d-block link-gray no-underline f5\" data-ga-click=\"(Logged out) Header, go to Actions\" href=\"/features/actions\">Actions</a>\n",
      "</li><li class=\"edge-item-fix\"><a class=\"py-2 lh-condensed-ultra d-block link-gray no-underline f5\" data-ga-click=\"(Logged out) Header, go to Package Registry\" href=\"/features/package-registry\">Package registry</a>\n",
      "</li><li class=\"edge-item-fix\"><a class=\"py-2 lh-condensed-ultra d-block link-gray no-underline f5\" data-ga-click=\"(Logged out) Header, go to Team management\" href=\"/features#team-management\">Team management</a></li>\n",
      "<li class=\"edge-item-fix\"><a class=\"py-2 lh-condensed-ultra d-block link-gray no-underline f5\" data-ga-click=\"(Logged out) Header, go to Social coding\" href=\"/features#social-coding\">Social coding</a></li>\n",
      "<li class=\"edge-item-fix\"><a class=\"py-2 lh-condensed-ultra d-block link-gray no-underline f5\" data-ga-click=\"(Logged out) Header, go to Documentation\" href=\"/features#documentation\">Documentation</a></li>\n",
      "<li class=\"edge-item-fix\"><a class=\"py-2 lh-condensed-ultra d-block link-gray no-underline f5\" data-ga-click=\"(Logged out) Header, go to Code hosting\" href=\"/features#code-hosting\">Code hosting</a></li>\n",
      "</ul>\n",
      "<ul class=\"list-style-none mb-0 border-lg-top pt-lg-3\">\n",
      "<li class=\"edge-item-fix\"><a class=\"py-2 lh-condensed-ultra d-block no-underline link-gray-dark no-underline h5 Bump-link--hover\" data-ga-click=\"(Logged out) Header, go to Customer stories\" href=\"/customer-stories\">Customer stories <span class=\"Bump-link-symbol float-right text-normal text-gray-light\">→</span></a></li>\n",
      "<li class=\"edge-item-fix\"><a class=\"py-2 lh-condensed-ultra d-block no-underline link-gray-dark no-underline h5 Bump-link--hover\" data-ga-click=\"(Logged out) Header, go to Security\" href=\"/security\">Security <span class=\"Bump-link-symbol float-right text-normal text-gray-light\">→</span></a></li>\n",
      "</ul>\n",
      "</div>\n",
      "</details>\n",
      "</li>\n",
      "<li class=\" mr-3 mr-lg-3\">\n",
      "<a class=\"HeaderMenu-link no-underline py-3 d-block d-lg-inline-block\" data-ga-click=\"(Logged out) Header, go to Enterprise\" href=\"/enterprise\">Enterprise</a>\n",
      "</li>\n",
      "<li class=\" mr-3 mr-lg-3 edge-item-fix position-relative flex-wrap flex-justify-between d-flex flex-items-center \">\n",
      "<details class=\"HeaderMenu-details details-overlay details-reset width-full\">\n",
      "<summary class=\"HeaderMenu-summary HeaderMenu-link px-0 py-3 border-0 no-wrap d-inline-block\">\n",
      "                    Explore\n",
      "                    <svg class=\"icon-chevon-down-mktg position-relative\" fill=\"none\" viewbox=\"0 0 14 8\" x=\"0px\" xml:space=\"preserve\" y=\"0px\">\n",
      "<path d=\"M1,1l6.2,6L13,1\"></path>\n",
      "</svg>\n",
      "</summary>\n",
      "<div class=\"dropdown-menu flex-auto rounded-1 bg-white px-0 pt-2 pb-0 mt-0 p-4 left-n4 position-absolute\">\n",
      "<ul class=\"list-style-none mb-3\">\n",
      "<li class=\"edge-item-fix\"><a class=\"py-2 lh-condensed-ultra d-block link-gray-dark no-underline h5 Bump-link--hover\" data-ga-click=\"(Logged out) Header, go to Explore\" href=\"/explore\">Explore GitHub <span class=\"Bump-link-symbol float-right text-normal text-gray-light\">→</span></a></li>\n",
      "</ul>\n",
      "<h4 class=\"text-gray-light text-normal text-mono f5 mb-2 border-top pt-3\">Learn &amp; contribute</h4>\n",
      "<ul class=\"list-style-none mb-3\">\n",
      "<li class=\"edge-item-fix\"><a class=\"py-2 lh-condensed-ultra d-block link-gray no-underline f5\" data-ga-click=\"(Logged out) Header, go to Topics\" href=\"/topics\">Topics</a></li>\n",
      "<li class=\"edge-item-fix\"><a class=\"py-2 lh-condensed-ultra d-block link-gray no-underline f5\" data-ga-click=\"(Logged out) Header, go to Collections\" href=\"/collections\">Collections</a></li>\n",
      "<li class=\"edge-item-fix\"><a class=\"py-2 lh-condensed-ultra d-block link-gray no-underline f5\" data-ga-click=\"(Logged out) Header, go to Trending\" href=\"/trending\">Trending</a></li>\n",
      "<li class=\"edge-item-fix\"><a class=\"py-2 lh-condensed-ultra d-block link-gray no-underline f5\" data-ga-click=\"(Logged out) Header, go to Learning lab\" href=\"https://lab.github.com/\">Learning Lab</a></li>\n",
      "<li class=\"edge-item-fix\"><a class=\"py-2 lh-condensed-ultra d-block link-gray no-underline f5\" data-ga-click=\"(Logged out) Header, go to Open source guides\" href=\"https://opensource.guide\">Open source guides</a></li>\n",
      "</ul>\n",
      "<h4 class=\"text-gray-light text-normal text-mono f5 mb-2 border-top pt-3\">Connect with others</h4>\n",
      "<ul class=\"list-style-none mb-0\">\n",
      "<li class=\"edge-item-fix\"><a class=\"py-2 lh-condensed-ultra d-block link-gray no-underline f5\" data-ga-click=\"(Logged out) Header, go to Events\" href=\"https://github.com/events\">Events</a></li>\n",
      "<li class=\"edge-item-fix\"><a class=\"py-2 lh-condensed-ultra d-block link-gray no-underline f5\" data-ga-click=\"(Logged out) Header, go to Community forum\" href=\"https://github.community\">Community forum</a></li>\n",
      "<li class=\"edge-item-fix\"><a class=\"py-2 pb-0 lh-condensed-ultra d-block link-gray no-underline f5\" data-ga-click=\"(Logged out) Header, go to GitHub Education\" href=\"https://education.github.com\">GitHub Education</a></li>\n",
      "</ul>\n",
      "</div>\n",
      "</details>\n",
      "</li>\n",
      "<li class=\" mr-3 mr-lg-3\">\n",
      "<a class=\"HeaderMenu-link no-underline py-3 d-block d-lg-inline-block\" data-ga-click=\"(Logged out) Header, go to Marketplace\" href=\"/marketplace\">Marketplace</a>\n",
      "</li>\n",
      "<li class=\" mr-3 mr-lg-3 edge-item-fix position-relative flex-wrap flex-justify-between d-flex flex-items-center \">\n",
      "<details class=\"HeaderMenu-details details-overlay details-reset width-full\">\n",
      "<summary class=\"HeaderMenu-summary HeaderMenu-link px-0 py-3 border-0 no-wrap d-inline-block\">\n",
      "                    Pricing\n",
      "                    <svg class=\"icon-chevon-down-mktg position-relative\" fill=\"none\" viewbox=\"0 0 14 8\" x=\"0px\" xml:space=\"preserve\" y=\"0px\">\n",
      "<path d=\"M1,1l6.2,6L13,1\"></path>\n",
      "</svg>\n",
      "</summary>\n",
      "<div class=\"dropdown-menu flex-auto rounded-1 bg-white px-0 pt-2 pb-4 mt-0 p-4 left-n4 position-absolute\">\n",
      "<a class=\"pb-2 lh-condensed-ultra d-block link-gray-dark no-underline h5 Bump-link--hover\" data-ga-click=\"(Logged out) Header, go to Pricing\" href=\"/pricing\">Plans <span class=\"Bump-link-symbol float-right text-normal text-gray-light\">→</span></a>\n",
      "<ul class=\"list-style-none mb-3\">\n",
      "<li class=\"edge-item-fix\"><a class=\"py-2 lh-condensed-ultra d-block link-gray no-underline f5\" data-ga-click=\"(Logged out) Header, go to Compare plans\" href=\"/pricing#feature-comparison\">Compare plans</a></li>\n",
      "<li class=\"edge-item-fix\"><a class=\"py-2 lh-condensed-ultra d-block link-gray no-underline f5\" data-ga-click=\"(Logged out) Header, go to Contact Sales\" href=\"https://enterprise.github.com/contact\">Contact Sales</a></li>\n",
      "</ul>\n",
      "<ul class=\"list-style-none mb-0 border-top pt-3\">\n",
      "<li class=\"edge-item-fix\"><a class=\"py-2 lh-condensed-ultra d-block no-underline link-gray-dark no-underline h5 Bump-link--hover\" data-ga-click=\"(Logged out) Header, go to Nonprofits\" href=\"/nonprofit\">Nonprofit <span class=\"Bump-link-symbol float-right text-normal text-gray-light\">→</span></a></li>\n",
      "<li class=\"edge-item-fix\"><a class=\"py-2 pb-0 lh-condensed-ultra d-block no-underline link-gray-dark no-underline h5 Bump-link--hover\" data-ga-click=\"(Logged out) Header, go to Education\" href=\"https://education.github.com\">Education <span class=\"Bump-link-symbol float-right text-normal text-gray-light\">→</span></a></li>\n",
      "</ul>\n",
      "</div>\n",
      "</details>\n",
      "</li>\n",
      "</ul>\n",
      "</nav>\n",
      "<div class=\"d-flex flex-items-center px-0 text-center text-left\">\n",
      "<div class=\"d-lg-flex \">\n",
      "<div aria-expanded=\"false\" aria-haspopup=\"listbox\" aria-label=\"Search or jump to\" aria-owns=\"jump-to-results\" class=\"header-search mr-3 scoped-search site-scoped-search js-site-search position-relative js-jump-to\" role=\"combobox\">\n",
      "<div class=\"position-relative\">\n",
      "<!-- '\"` --><!-- </textarea></xmp> --><form accept-charset=\"UTF-8\" action=\"/romainjouin/esilv_5a/search\" aria-label=\"Site\" class=\"js-site-search-form\" data-scope-id=\"203671528\" data-scope-type=\"Repository\" data-scoped-search-url=\"/romainjouin/esilv_5a/search\" data-unscoped-search-url=\"/search\" method=\"get\" role=\"search\"><input name=\"utf8\" type=\"hidden\" value=\"✓\"/>\n",
      "<label class=\"form-control input-sm header-search-wrapper p-0 header-search-wrapper-jump-to position-relative d-flex flex-justify-between flex-items-center js-chromeless-input-container\">\n",
      "<input aria-autocomplete=\"list\" aria-controls=\"jump-to-results\" aria-label=\"Search\" autocapitalize=\"off\" autocomplete=\"off\" class=\"form-control input-sm header-search-input jump-to-field js-jump-to-field js-site-search-focus js-site-search-field is-clearable\" data-hotkey=\"s,/\" data-jump-to-suggestions-path=\"/_graphql/GetSuggestedNavigationDestinations#csrf-token=f08BGECxQ7w+Vq5ks1giJq9fUFrURv+xZoEouPCRfy9oWCXJjyBjPF4V5IZKCLd7kRUBrG3ap0lB+RzdfVZ1Eg==\" data-scoped-placeholder=\"Search\" data-unscoped-placeholder=\"Search GitHub\" name=\"q\" placeholder=\"Search\" spellcheck=\"false\" type=\"text\" value=\"\"/>\n",
      "<input class=\"js-site-search-type-field\" name=\"type\" type=\"hidden\"/>\n",
      "<img alt=\"\" class=\"mr-2 header-search-key-slash\" src=\"https://github.githubassets.com/images/search-key-slash.svg\"/>\n",
      "<div class=\"Box position-absolute overflow-hidden d-none jump-to-suggestions js-jump-to-suggestions-container\">\n",
      "<ul class=\"d-none js-jump-to-suggestions-template-container\">\n",
      "<li class=\"d-flex flex-justify-start flex-items-center p-0 f5 navigation-item js-navigation-item js-jump-to-suggestion\" role=\"option\">\n",
      "<a class=\"no-underline d-flex flex-auto flex-items-center jump-to-suggestions-path js-jump-to-suggestion-path js-navigation-open p-2\" href=\"\" tabindex=\"-1\">\n",
      "<div class=\"jump-to-octicon js-jump-to-octicon flex-shrink-0 mr-2 text-center d-none\">\n",
      "<svg aria-label=\"Repository\" class=\"octicon octicon-repo flex-shrink-0 js-jump-to-octicon-repo d-none\" height=\"16\" role=\"img\" title=\"Repository\" version=\"1.1\" viewbox=\"0 0 12 16\" width=\"16\"><path d=\"M4 9H3V8h1v1zm0-3H3v1h1V6zm0-2H3v1h1V4zm0-2H3v1h1V2zm8-1v12c0 .55-.45 1-1 1H6v2l-1.5-1.5L3 16v-2H1c-.55 0-1-.45-1-1V1c0-.55.45-1 1-1h10c.55 0 1 .45 1 1zm-1 10H1v2h2v-1h3v1h5v-2zm0-10H2v9h9V1z\" fill-rule=\"evenodd\"></path></svg>\n",
      "<svg aria-label=\"Project\" class=\"octicon octicon-project flex-shrink-0 js-jump-to-octicon-project d-none\" height=\"16\" role=\"img\" title=\"Project\" version=\"1.1\" viewbox=\"0 0 15 16\" width=\"16\"><path d=\"M10 12h3V2h-3v10zm-4-2h3V2H6v8zm-4 4h3V2H2v12zm-1 1h13V1H1v14zM14 0H1a1 1 0 0 0-1 1v14a1 1 0 0 0 1 1h13a1 1 0 0 0 1-1V1a1 1 0 0 0-1-1z\" fill-rule=\"evenodd\"></path></svg>\n",
      "<svg aria-label=\"Search\" class=\"octicon octicon-search flex-shrink-0 js-jump-to-octicon-search d-none\" height=\"16\" role=\"img\" title=\"Search\" version=\"1.1\" viewbox=\"0 0 16 16\" width=\"16\"><path d=\"M15.7 13.3l-3.81-3.83A5.93 5.93 0 0 0 13 6c0-3.31-2.69-6-6-6S1 2.69 1 6s2.69 6 6 6c1.3 0 2.48-.41 3.47-1.11l3.83 3.81c.19.2.45.3.7.3.25 0 .52-.09.7-.3a.996.996 0 0 0 0-1.41v.01zM7 10.7c-2.59 0-4.7-2.11-4.7-4.7 0-2.59 2.11-4.7 4.7-4.7 2.59 0 4.7 2.11 4.7 4.7 0 2.59-2.11 4.7-4.7 4.7z\" fill-rule=\"evenodd\"></path></svg>\n",
      "</div>\n",
      "<img alt=\"\" aria-label=\"Team\" class=\"avatar mr-2 flex-shrink-0 js-jump-to-suggestion-avatar d-none\" height=\"28\" src=\"\" width=\"28\"/>\n",
      "<div class=\"jump-to-suggestion-name js-jump-to-suggestion-name flex-auto overflow-hidden text-left no-wrap css-truncate css-truncate-target\">\n",
      "</div>\n",
      "<div class=\"border rounded-1 flex-shrink-0 bg-gray px-1 text-gray-light ml-1 f6 d-none js-jump-to-badge-search\">\n",
      "<span aria-label=\"in this repository\" class=\"js-jump-to-badge-search-text-default d-none\">\n",
      "        In this repository\n",
      "      </span>\n",
      "<span aria-label=\"in all of GitHub\" class=\"js-jump-to-badge-search-text-global d-none\">\n",
      "        All GitHub\n",
      "      </span>\n",
      "<span aria-hidden=\"true\" class=\"d-inline-block ml-1 v-align-middle\">↵</span>\n",
      "</div>\n",
      "<div aria-hidden=\"true\" class=\"border rounded-1 flex-shrink-0 bg-gray px-1 text-gray-light ml-1 f6 d-none d-on-nav-focus js-jump-to-badge-jump\">\n",
      "      Jump to\n",
      "      <span class=\"d-inline-block ml-1 v-align-middle\">↵</span>\n",
      "</div>\n",
      "</a>\n",
      "</li>\n",
      "</ul>\n",
      "<ul class=\"d-none js-jump-to-no-results-template-container\">\n",
      "<li class=\"d-flex flex-justify-center flex-items-center f5 d-none js-jump-to-suggestion p-2\">\n",
      "<span class=\"text-gray\">No suggested jump to results</span>\n",
      "</li>\n",
      "</ul>\n",
      "<ul class=\"p-0 m-0 js-navigation-container jump-to-suggestions-results-container js-jump-to-suggestions-results-container\" id=\"jump-to-results\" role=\"listbox\">\n",
      "<li class=\"d-flex flex-justify-start flex-items-center p-0 f5 navigation-item js-navigation-item js-jump-to-scoped-search d-none\" role=\"option\">\n",
      "<a class=\"no-underline d-flex flex-auto flex-items-center jump-to-suggestions-path js-jump-to-suggestion-path js-navigation-open p-2\" href=\"\" tabindex=\"-1\">\n",
      "<div class=\"jump-to-octicon js-jump-to-octicon flex-shrink-0 mr-2 text-center d-none\">\n",
      "<svg aria-label=\"Repository\" class=\"octicon octicon-repo flex-shrink-0 js-jump-to-octicon-repo d-none\" height=\"16\" role=\"img\" title=\"Repository\" version=\"1.1\" viewbox=\"0 0 12 16\" width=\"16\"><path d=\"M4 9H3V8h1v1zm0-3H3v1h1V6zm0-2H3v1h1V4zm0-2H3v1h1V2zm8-1v12c0 .55-.45 1-1 1H6v2l-1.5-1.5L3 16v-2H1c-.55 0-1-.45-1-1V1c0-.55.45-1 1-1h10c.55 0 1 .45 1 1zm-1 10H1v2h2v-1h3v1h5v-2zm0-10H2v9h9V1z\" fill-rule=\"evenodd\"></path></svg>\n",
      "<svg aria-label=\"Project\" class=\"octicon octicon-project flex-shrink-0 js-jump-to-octicon-project d-none\" height=\"16\" role=\"img\" title=\"Project\" version=\"1.1\" viewbox=\"0 0 15 16\" width=\"16\"><path d=\"M10 12h3V2h-3v10zm-4-2h3V2H6v8zm-4 4h3V2H2v12zm-1 1h13V1H1v14zM14 0H1a1 1 0 0 0-1 1v14a1 1 0 0 0 1 1h13a1 1 0 0 0 1-1V1a1 1 0 0 0-1-1z\" fill-rule=\"evenodd\"></path></svg>\n",
      "<svg aria-label=\"Search\" class=\"octicon octicon-search flex-shrink-0 js-jump-to-octicon-search d-none\" height=\"16\" role=\"img\" title=\"Search\" version=\"1.1\" viewbox=\"0 0 16 16\" width=\"16\"><path d=\"M15.7 13.3l-3.81-3.83A5.93 5.93 0 0 0 13 6c0-3.31-2.69-6-6-6S1 2.69 1 6s2.69 6 6 6c1.3 0 2.48-.41 3.47-1.11l3.83 3.81c.19.2.45.3.7.3.25 0 .52-.09.7-.3a.996.996 0 0 0 0-1.41v.01zM7 10.7c-2.59 0-4.7-2.11-4.7-4.7 0-2.59 2.11-4.7 4.7-4.7 2.59 0 4.7 2.11 4.7 4.7 0 2.59-2.11 4.7-4.7 4.7z\" fill-rule=\"evenodd\"></path></svg>\n",
      "</div>\n",
      "<img alt=\"\" aria-label=\"Team\" class=\"avatar mr-2 flex-shrink-0 js-jump-to-suggestion-avatar d-none\" height=\"28\" src=\"\" width=\"28\"/>\n",
      "<div class=\"jump-to-suggestion-name js-jump-to-suggestion-name flex-auto overflow-hidden text-left no-wrap css-truncate css-truncate-target\">\n",
      "</div>\n",
      "<div class=\"border rounded-1 flex-shrink-0 bg-gray px-1 text-gray-light ml-1 f6 d-none js-jump-to-badge-search\">\n",
      "<span aria-label=\"in this repository\" class=\"js-jump-to-badge-search-text-default d-none\">\n",
      "        In this repository\n",
      "      </span>\n",
      "<span aria-label=\"in all of GitHub\" class=\"js-jump-to-badge-search-text-global d-none\">\n",
      "        All GitHub\n",
      "      </span>\n",
      "<span aria-hidden=\"true\" class=\"d-inline-block ml-1 v-align-middle\">↵</span>\n",
      "</div>\n",
      "<div aria-hidden=\"true\" class=\"border rounded-1 flex-shrink-0 bg-gray px-1 text-gray-light ml-1 f6 d-none d-on-nav-focus js-jump-to-badge-jump\">\n",
      "      Jump to\n",
      "      <span class=\"d-inline-block ml-1 v-align-middle\">↵</span>\n",
      "</div>\n",
      "</a>\n",
      "</li>\n",
      "<li class=\"d-flex flex-justify-start flex-items-center p-0 f5 navigation-item js-navigation-item js-jump-to-global-search d-none\" role=\"option\">\n",
      "<a class=\"no-underline d-flex flex-auto flex-items-center jump-to-suggestions-path js-jump-to-suggestion-path js-navigation-open p-2\" href=\"\" tabindex=\"-1\">\n",
      "<div class=\"jump-to-octicon js-jump-to-octicon flex-shrink-0 mr-2 text-center d-none\">\n",
      "<svg aria-label=\"Repository\" class=\"octicon octicon-repo flex-shrink-0 js-jump-to-octicon-repo d-none\" height=\"16\" role=\"img\" title=\"Repository\" version=\"1.1\" viewbox=\"0 0 12 16\" width=\"16\"><path d=\"M4 9H3V8h1v1zm0-3H3v1h1V6zm0-2H3v1h1V4zm0-2H3v1h1V2zm8-1v12c0 .55-.45 1-1 1H6v2l-1.5-1.5L3 16v-2H1c-.55 0-1-.45-1-1V1c0-.55.45-1 1-1h10c.55 0 1 .45 1 1zm-1 10H1v2h2v-1h3v1h5v-2zm0-10H2v9h9V1z\" fill-rule=\"evenodd\"></path></svg>\n",
      "<svg aria-label=\"Project\" class=\"octicon octicon-project flex-shrink-0 js-jump-to-octicon-project d-none\" height=\"16\" role=\"img\" title=\"Project\" version=\"1.1\" viewbox=\"0 0 15 16\" width=\"16\"><path d=\"M10 12h3V2h-3v10zm-4-2h3V2H6v8zm-4 4h3V2H2v12zm-1 1h13V1H1v14zM14 0H1a1 1 0 0 0-1 1v14a1 1 0 0 0 1 1h13a1 1 0 0 0 1-1V1a1 1 0 0 0-1-1z\" fill-rule=\"evenodd\"></path></svg>\n",
      "<svg aria-label=\"Search\" class=\"octicon octicon-search flex-shrink-0 js-jump-to-octicon-search d-none\" height=\"16\" role=\"img\" title=\"Search\" version=\"1.1\" viewbox=\"0 0 16 16\" width=\"16\"><path d=\"M15.7 13.3l-3.81-3.83A5.93 5.93 0 0 0 13 6c0-3.31-2.69-6-6-6S1 2.69 1 6s2.69 6 6 6c1.3 0 2.48-.41 3.47-1.11l3.83 3.81c.19.2.45.3.7.3.25 0 .52-.09.7-.3a.996.996 0 0 0 0-1.41v.01zM7 10.7c-2.59 0-4.7-2.11-4.7-4.7 0-2.59 2.11-4.7 4.7-4.7 2.59 0 4.7 2.11 4.7 4.7 0 2.59-2.11 4.7-4.7 4.7z\" fill-rule=\"evenodd\"></path></svg>\n",
      "</div>\n",
      "<img alt=\"\" aria-label=\"Team\" class=\"avatar mr-2 flex-shrink-0 js-jump-to-suggestion-avatar d-none\" height=\"28\" src=\"\" width=\"28\"/>\n",
      "<div class=\"jump-to-suggestion-name js-jump-to-suggestion-name flex-auto overflow-hidden text-left no-wrap css-truncate css-truncate-target\">\n",
      "</div>\n",
      "<div class=\"border rounded-1 flex-shrink-0 bg-gray px-1 text-gray-light ml-1 f6 d-none js-jump-to-badge-search\">\n",
      "<span aria-label=\"in this repository\" class=\"js-jump-to-badge-search-text-default d-none\">\n",
      "        In this repository\n",
      "      </span>\n",
      "<span aria-label=\"in all of GitHub\" class=\"js-jump-to-badge-search-text-global d-none\">\n",
      "        All GitHub\n",
      "      </span>\n",
      "<span aria-hidden=\"true\" class=\"d-inline-block ml-1 v-align-middle\">↵</span>\n",
      "</div>\n",
      "<div aria-hidden=\"true\" class=\"border rounded-1 flex-shrink-0 bg-gray px-1 text-gray-light ml-1 f6 d-none d-on-nav-focus js-jump-to-badge-jump\">\n",
      "      Jump to\n",
      "      <span class=\"d-inline-block ml-1 v-align-middle\">↵</span>\n",
      "</div>\n",
      "</a>\n",
      "</li>\n",
      "</ul>\n",
      "</div>\n",
      "</label>\n",
      "</form> </div>\n",
      "</div>\n",
      "</div>\n",
      "<a class=\"HeaderMenu-link no-underline mr-3\" data-ga-click=\"(Logged out) Header, clicked Sign in, text:sign-in\" data-hydro-click='{\"event_type\":\"authentication.click\",\"payload\":{\"location_in_page\":\"site header menu\",\"repository_id\":null,\"auth_type\":\"SIGN_UP\",\"client_id\":null,\"originating_request_id\":\"2DF5:262E7:122AF9E:1BF5F15:5D7BA5F8\",\"originating_url\":\"https://github.com/romainjouin/esilv_5a\",\"referrer\":null,\"user_id\":null}}' data-hydro-click-hmac=\"36763c9956b577ba337648744447a17385c12af2a4e74dfbcd8c768fe05c1b16\" href=\"/login?return_to=%2Fromainjouin%2Fesilv_5a\">\n",
      "          Sign in\n",
      "        </a>\n",
      "<a class=\"HeaderMenu-link d-inline-block no-underline border border-gray-dark rounded-1 px-2 py-1\" data-ga-click=\"(Logged out) Header, clicked Sign up, text:sign-up\" data-hydro-click='{\"event_type\":\"authentication.click\",\"payload\":{\"location_in_page\":\"site header menu\",\"repository_id\":null,\"auth_type\":\"SIGN_UP\",\"client_id\":null,\"originating_request_id\":\"2DF5:262E7:122AF9E:1BF5F15:5D7BA5F8\",\"originating_url\":\"https://github.com/romainjouin/esilv_5a\",\"referrer\":null,\"user_id\":null}}' data-hydro-click-hmac=\"36763c9956b577ba337648744447a17385c12af2a4e74dfbcd8c768fe05c1b16\" href=\"/join\">\n",
      "            Sign up\n",
      "          </a>\n",
      "</div>\n",
      "</div>\n",
      "</div>\n",
      "\n",
      "\n"
     ]
    }
   ],
   "source": [
    "for child in un_noeud.children:\n",
    "    try:\n",
    "        print(child)\n",
    "    except Exception as e:\n",
    "        pass"
   ]
  },
  {
   "cell_type": "code",
   "execution_count": 136,
   "metadata": {},
   "outputs": [
    {
     "data": {
      "text/plain": [
       "bs4.element.Tag"
      ]
     },
     "execution_count": 136,
     "metadata": {},
     "output_type": "execute_result"
    }
   ],
   "source": [
    "_ = list(un_noeud.children)[1]\n",
    "type(_)"
   ]
  },
  {
   "cell_type": "code",
   "execution_count": 141,
   "metadata": {},
   "outputs": [
    {
     "data": {
      "text/plain": [
       "5"
      ]
     },
     "execution_count": 141,
     "metadata": {},
     "output_type": "execute_result"
    }
   ],
   "source": [
    "len(list(_.children))"
   ]
  },
  {
   "cell_type": "markdown",
   "metadata": {},
   "source": [
    "# 5) analyse météo\n",
    "url sur https://github.com/romainjouin/esilv_5a/blob/master/url_meteo"
   ]
  },
  {
   "cell_type": "code",
   "execution_count": 142,
   "metadata": {},
   "outputs": [],
   "source": [
    "url   = \"https://www.infoclimat.fr/observations-meteo/archives/7/septembre/2019/paris-montsouris/07156.html\"\n",
    "page  = requests.request(\"get\", url )\n",
    "html  = page.text\n",
    "soup  = BeautifulSoup(html)"
   ]
  },
  {
   "cell_type": "markdown",
   "metadata": {},
   "source": [
    "## 5.1) vérifier la tête de la page récupérée en l'enregistrant dans un fichier afin de pouvoir l'ouvrir via un navigateur"
   ]
  },
  {
   "cell_type": "code",
   "execution_count": 146,
   "metadata": {},
   "outputs": [],
   "source": [
    "with open(\"meteo.html\", \"a\") as f:\n",
    "    f.writelines(html)"
   ]
  },
  {
   "cell_type": "markdown",
   "metadata": {},
   "source": [
    "## 5.2) récupérer le tableau de données"
   ]
  },
  {
   "cell_type": "code",
   "execution_count": 150,
   "metadata": {},
   "outputs": [],
   "source": [
    "hour         = 17\n",
    "css_selector = f'tr.cdata-hour{hour} td'\n",
    "table_row    = soup.select(css_selector)"
   ]
  },
  {
   "cell_type": "code",
   "execution_count": 158,
   "metadata": {},
   "outputs": [],
   "source": [
    "table_row_data = [cellule.text for cellule in table_row]"
   ]
  },
  {
   "cell_type": "code",
   "execution_count": 159,
   "metadata": {},
   "outputs": [
    {
     "data": {
      "text/plain": [
       "['19h',\n",
       " '17.7 °C',\n",
       " '0 mm/1h',\n",
       " '51%',\n",
       " '7.4 °C',\n",
       " '18 km/h(39.6 km/h)',\n",
       " '1021.1hPa',\n",
       " '20 km']"
      ]
     },
     "execution_count": 159,
     "metadata": {},
     "output_type": "execute_result"
    }
   ],
   "source": [
    "table_row_data"
   ]
  },
  {
   "cell_type": "markdown",
   "metadata": {},
   "source": [
    "## 5.3) transformer en fonction"
   ]
  },
  {
   "cell_type": "code",
   "execution_count": 160,
   "metadata": {},
   "outputs": [],
   "source": [
    "def get_data_hour(soup, hour):\n",
    "    css_selector   = f'tr.cdata-hour{hour} td'\n",
    "    table_row      = soup.select(css_selector)\n",
    "    table_row_data = [cellule.text for cellule in table_row]\n",
    "    return table_row_data"
   ]
  },
  {
   "cell_type": "markdown",
   "metadata": {},
   "source": [
    "## Comment récupérer toutes les heures ? \n",
    "- Alexis : faire une boucle avec itération classique\n",
    "- Nicolas : prendre toute la table, et faire des splits \n",
    "- Romain : changer le selecteur pour qu'il prennent toutes les heures\n",
    "- Junhui : avec une expression régulière\n",
    "- "
   ]
  },
  {
   "cell_type": "markdown",
   "metadata": {},
   "source": [
    "### alexis :"
   ]
  },
  {
   "cell_type": "code",
   "execution_count": 163,
   "metadata": {},
   "outputs": [],
   "source": [
    "liste = []\n",
    "for hour in range(24):\n",
    "    liste.append(get_data_hour(soup, hour))"
   ]
  },
  {
   "cell_type": "markdown",
   "metadata": {},
   "source": [
    "## comprehension list "
   ]
  },
  {
   "cell_type": "code",
   "execution_count": 167,
   "metadata": {},
   "outputs": [],
   "source": [
    "liste = [get_data_hour(soup, hour) for hour in range(24)]"
   ]
  },
  {
   "cell_type": "markdown",
   "metadata": {},
   "source": [
    "### map"
   ]
  },
  {
   "cell_type": "code",
   "execution_count": 194,
   "metadata": {},
   "outputs": [],
   "source": [
    "liste = list(map(lambda x: get_data_hour(soup, x), range(24)))"
   ]
  },
  {
   "cell_type": "markdown",
   "metadata": {},
   "source": [
    "# 6) Tout mettre dans pandas"
   ]
  },
  {
   "cell_type": "code",
   "execution_count": 195,
   "metadata": {},
   "outputs": [
    {
     "data": {
      "text/html": [
       "<div>\n",
       "<style scoped>\n",
       "    .dataframe tbody tr th:only-of-type {\n",
       "        vertical-align: middle;\n",
       "    }\n",
       "\n",
       "    .dataframe tbody tr th {\n",
       "        vertical-align: top;\n",
       "    }\n",
       "\n",
       "    .dataframe thead th {\n",
       "        text-align: right;\n",
       "    }\n",
       "</style>\n",
       "<table border=\"1\" class=\"dataframe\">\n",
       "  <thead>\n",
       "    <tr style=\"text-align: right;\">\n",
       "      <th></th>\n",
       "      <th>0</th>\n",
       "      <th>1</th>\n",
       "      <th>2</th>\n",
       "      <th>3</th>\n",
       "      <th>4</th>\n",
       "      <th>5</th>\n",
       "      <th>6</th>\n",
       "      <th>7</th>\n",
       "    </tr>\n",
       "  </thead>\n",
       "  <tbody>\n",
       "    <tr>\n",
       "      <th>10</th>\n",
       "      <td>12h</td>\n",
       "      <td>17.8 °C</td>\n",
       "      <td>0 mm/1h</td>\n",
       "      <td>66%</td>\n",
       "      <td>11.4 °C</td>\n",
       "      <td>11 km/h(25.2 km/h)</td>\n",
       "      <td>1021.1hPa</td>\n",
       "      <td>20 km</td>\n",
       "    </tr>\n",
       "    <tr>\n",
       "      <th>11</th>\n",
       "      <td>13h</td>\n",
       "      <td>17.4 °C</td>\n",
       "      <td>0 mm/1h</td>\n",
       "      <td>58%</td>\n",
       "      <td>9 °C</td>\n",
       "      <td>14 km/h(28.8 km/h)</td>\n",
       "      <td>1021.2hPa</td>\n",
       "      <td>20 km</td>\n",
       "    </tr>\n",
       "    <tr>\n",
       "      <th>12</th>\n",
       "      <td>14h</td>\n",
       "      <td>19.2 °C</td>\n",
       "      <td>0 mm/1h</td>\n",
       "      <td>45%</td>\n",
       "      <td>7 °C</td>\n",
       "      <td>14 km/h(36 km/h)</td>\n",
       "      <td>1020.9hPa</td>\n",
       "      <td>20 km</td>\n",
       "    </tr>\n",
       "    <tr>\n",
       "      <th>13</th>\n",
       "      <td>15h</td>\n",
       "      <td>18.7 °C</td>\n",
       "      <td>0 mm/1h</td>\n",
       "      <td>46%</td>\n",
       "      <td>6.8 °C</td>\n",
       "      <td>18 km/h(36 km/h)</td>\n",
       "      <td>1020.8hPa</td>\n",
       "      <td>20 km</td>\n",
       "    </tr>\n",
       "    <tr>\n",
       "      <th>14</th>\n",
       "      <td>16h</td>\n",
       "      <td>18.3 °C</td>\n",
       "      <td>0 mm/1h</td>\n",
       "      <td>52%</td>\n",
       "      <td>8.3 °C</td>\n",
       "      <td>18 km/h(36 km/h)</td>\n",
       "      <td>1020.7hPa</td>\n",
       "      <td>20 km</td>\n",
       "    </tr>\n",
       "    <tr>\n",
       "      <th>15</th>\n",
       "      <td>17h</td>\n",
       "      <td>18.3 °C</td>\n",
       "      <td>0 mm/1h</td>\n",
       "      <td>49%</td>\n",
       "      <td>7.4 °C</td>\n",
       "      <td>14 km/h(36 km/h)</td>\n",
       "      <td>1020.8hPa</td>\n",
       "      <td>20 km</td>\n",
       "    </tr>\n",
       "    <tr>\n",
       "      <th>16</th>\n",
       "      <td>18h</td>\n",
       "      <td>17.8 °C</td>\n",
       "      <td>0 mm/1h</td>\n",
       "      <td>51%</td>\n",
       "      <td>7.5 °C</td>\n",
       "      <td>18 km/h(36 km/h)</td>\n",
       "      <td>1021.0hPa</td>\n",
       "      <td>20 km</td>\n",
       "    </tr>\n",
       "    <tr>\n",
       "      <th>17</th>\n",
       "      <td>19h</td>\n",
       "      <td>17.7 °C</td>\n",
       "      <td>0 mm/1h</td>\n",
       "      <td>51%</td>\n",
       "      <td>7.4 °C</td>\n",
       "      <td>18 km/h(39.6 km/h)</td>\n",
       "      <td>1021.1hPa</td>\n",
       "      <td>20 km</td>\n",
       "    </tr>\n",
       "    <tr>\n",
       "      <th>18</th>\n",
       "      <td>20h</td>\n",
       "      <td>16.8 °C</td>\n",
       "      <td>0 mm/1h</td>\n",
       "      <td>59%</td>\n",
       "      <td>8.7 °C</td>\n",
       "      <td>22 km/h(43.2 km/h)</td>\n",
       "      <td>1021.6hPa</td>\n",
       "      <td>20 km</td>\n",
       "    </tr>\n",
       "    <tr>\n",
       "      <th>19</th>\n",
       "      <td>21h</td>\n",
       "      <td>15.4 °C</td>\n",
       "      <td>0 mm/1h</td>\n",
       "      <td>62%</td>\n",
       "      <td>8.2 °C</td>\n",
       "      <td>14 km/h(46.8 km/h)</td>\n",
       "      <td>1022.2hPa</td>\n",
       "      <td>20 km</td>\n",
       "    </tr>\n",
       "    <tr>\n",
       "      <th>20</th>\n",
       "      <td>22h</td>\n",
       "      <td>14.8 °C</td>\n",
       "      <td>0 mm/1h</td>\n",
       "      <td>67%</td>\n",
       "      <td>8.7 °C</td>\n",
       "      <td>18 km/h(36 km/h)</td>\n",
       "      <td>1022.8hPa</td>\n",
       "      <td>20 km</td>\n",
       "    </tr>\n",
       "    <tr>\n",
       "      <th>21</th>\n",
       "      <td>23h</td>\n",
       "      <td>14.9 °C</td>\n",
       "      <td>0 mm/1h</td>\n",
       "      <td>69%</td>\n",
       "      <td>9.3 °C</td>\n",
       "      <td>14 km/h(39.6 km/h)</td>\n",
       "      <td>1023.0hPa</td>\n",
       "      <td>20 km</td>\n",
       "    </tr>\n",
       "    <tr>\n",
       "      <th>22</th>\n",
       "      <td>00h</td>\n",
       "      <td>14.3 °C</td>\n",
       "      <td>0 mm/1h</td>\n",
       "      <td>73%</td>\n",
       "      <td>9.5 °C</td>\n",
       "      <td>18 km/h(39.6 km/h)</td>\n",
       "      <td>1023.2hPa</td>\n",
       "      <td>20 km</td>\n",
       "    </tr>\n",
       "    <tr>\n",
       "      <th>23</th>\n",
       "      <td>01h</td>\n",
       "      <td>13.9 °C</td>\n",
       "      <td>0 mm/1h</td>\n",
       "      <td>76%</td>\n",
       "      <td>9.7 °C</td>\n",
       "      <td>14 km/h(32.4 km/h)</td>\n",
       "      <td>1023.0hPa</td>\n",
       "      <td>20 km</td>\n",
       "    </tr>\n",
       "  </tbody>\n",
       "</table>\n",
       "</div>"
      ],
      "text/plain": [
       "      0        1        2    3        4                   5          6      7\n",
       "10  12h  17.8 °C  0 mm/1h  66%  11.4 °C  11 km/h(25.2 km/h)  1021.1hPa  20 km\n",
       "11  13h  17.4 °C  0 mm/1h  58%     9 °C  14 km/h(28.8 km/h)  1021.2hPa  20 km\n",
       "12  14h  19.2 °C  0 mm/1h  45%     7 °C    14 km/h(36 km/h)  1020.9hPa  20 km\n",
       "13  15h  18.7 °C  0 mm/1h  46%   6.8 °C    18 km/h(36 km/h)  1020.8hPa  20 km\n",
       "14  16h  18.3 °C  0 mm/1h  52%   8.3 °C    18 km/h(36 km/h)  1020.7hPa  20 km\n",
       "15  17h  18.3 °C  0 mm/1h  49%   7.4 °C    14 km/h(36 km/h)  1020.8hPa  20 km\n",
       "16  18h  17.8 °C  0 mm/1h  51%   7.5 °C    18 km/h(36 km/h)  1021.0hPa  20 km\n",
       "17  19h  17.7 °C  0 mm/1h  51%   7.4 °C  18 km/h(39.6 km/h)  1021.1hPa  20 km\n",
       "18  20h  16.8 °C  0 mm/1h  59%   8.7 °C  22 km/h(43.2 km/h)  1021.6hPa  20 km\n",
       "19  21h  15.4 °C  0 mm/1h  62%   8.2 °C  14 km/h(46.8 km/h)  1022.2hPa  20 km\n",
       "20  22h  14.8 °C  0 mm/1h  67%   8.7 °C    18 km/h(36 km/h)  1022.8hPa  20 km\n",
       "21  23h  14.9 °C  0 mm/1h  69%   9.3 °C  14 km/h(39.6 km/h)  1023.0hPa  20 km\n",
       "22  00h  14.3 °C  0 mm/1h  73%   9.5 °C  18 km/h(39.6 km/h)  1023.2hPa  20 km\n",
       "23  01h  13.9 °C  0 mm/1h  76%   9.7 °C  14 km/h(32.4 km/h)  1023.0hPa  20 km"
      ]
     },
     "execution_count": 195,
     "metadata": {},
     "output_type": "execute_result"
    }
   ],
   "source": [
    "import pandas as pd\n",
    "\n",
    "df  = pd.DataFrame(liste)\n",
    "df2 = df.dropna() # suppression des lignes vides\n",
    "df2"
   ]
  },
  {
   "cell_type": "markdown",
   "metadata": {},
   "source": [
    "## 6.1) Rajouter des noms de colonnes à ma dataFrame pandas"
   ]
  },
  {
   "cell_type": "code",
   "execution_count": 199,
   "metadata": {},
   "outputs": [
    {
     "data": {
      "text/plain": [
       "['01h',\n",
       " '13.9 °C',\n",
       " '0 mm/1h',\n",
       " '76%',\n",
       " '9.7 °C',\n",
       " '14 km/h(32.4 km/h)',\n",
       " '1023.0hPa',\n",
       " '20 km']"
      ]
     },
     "execution_count": 199,
     "metadata": {},
     "output_type": "execute_result"
    }
   ],
   "source": [
    "example = liste[-1]\n",
    "example"
   ]
  },
  {
   "cell_type": "code",
   "execution_count": 200,
   "metadata": {},
   "outputs": [],
   "source": [
    "# trouver le dernier chiffre de chaque valeur, et extraire l'unité qui le suit"
   ]
  },
  {
   "cell_type": "code",
   "execution_count": 205,
   "metadata": {},
   "outputs": [],
   "source": [
    "import string"
   ]
  },
  {
   "cell_type": "code",
   "execution_count": 216,
   "metadata": {},
   "outputs": [
    {
     "data": {
      "text/plain": [
       "'13.9 °C'"
      ]
     },
     "execution_count": 216,
     "metadata": {},
     "output_type": "execute_result"
    }
   ],
   "source": [
    "mesure = example[1]\n",
    "mesure"
   ]
  },
  {
   "cell_type": "code",
   "execution_count": 229,
   "metadata": {},
   "outputs": [],
   "source": [
    "def get_unite(mesure):\n",
    "    mesure          = mesure.strip()\n",
    "    mesure_inversee = mesure[::-1]\n",
    "    for indice, car in enumerate(mesure_inversee):\n",
    "        if car in string.digits:\n",
    "            break\n",
    "    unite_inversee = mesure_inversee[:indice]\n",
    "    unite_correcte = unite_inversee[::-1]\n",
    "    return unite_correcte"
   ]
  },
  {
   "cell_type": "code",
   "execution_count": 234,
   "metadata": {},
   "outputs": [
    {
     "data": {
      "text/plain": [
       "['h', ' °C', 'mm/h', '%', ' °C', ' km/h)', 'hPa', ' km']"
      ]
     },
     "execution_count": 234,
     "metadata": {},
     "output_type": "execute_result"
    }
   ],
   "source": [
    "nouvelles_colonnes    = [get_unite(mesure) for mesure in example]\n",
    "nouvelles_colonnes[2] = \"mm/h\"\n",
    "nouvelles_colonnes"
   ]
  },
  {
   "cell_type": "code",
   "execution_count": 235,
   "metadata": {},
   "outputs": [
    {
     "data": {
      "text/html": [
       "<div>\n",
       "<style scoped>\n",
       "    .dataframe tbody tr th:only-of-type {\n",
       "        vertical-align: middle;\n",
       "    }\n",
       "\n",
       "    .dataframe tbody tr th {\n",
       "        vertical-align: top;\n",
       "    }\n",
       "\n",
       "    .dataframe thead th {\n",
       "        text-align: right;\n",
       "    }\n",
       "</style>\n",
       "<table border=\"1\" class=\"dataframe\">\n",
       "  <thead>\n",
       "    <tr style=\"text-align: right;\">\n",
       "      <th></th>\n",
       "      <th>h</th>\n",
       "      <th>°C</th>\n",
       "      <th>mm/h</th>\n",
       "      <th>%</th>\n",
       "      <th>°C</th>\n",
       "      <th>km/h)</th>\n",
       "      <th>hPa</th>\n",
       "      <th>km</th>\n",
       "    </tr>\n",
       "  </thead>\n",
       "  <tbody>\n",
       "    <tr>\n",
       "      <th>10</th>\n",
       "      <td>12h</td>\n",
       "      <td>17.8 °C</td>\n",
       "      <td>0 mm/1h</td>\n",
       "      <td>66%</td>\n",
       "      <td>11.4 °C</td>\n",
       "      <td>11 km/h(25.2 km/h)</td>\n",
       "      <td>1021.1hPa</td>\n",
       "      <td>20 km</td>\n",
       "    </tr>\n",
       "    <tr>\n",
       "      <th>11</th>\n",
       "      <td>13h</td>\n",
       "      <td>17.4 °C</td>\n",
       "      <td>0 mm/1h</td>\n",
       "      <td>58%</td>\n",
       "      <td>9 °C</td>\n",
       "      <td>14 km/h(28.8 km/h)</td>\n",
       "      <td>1021.2hPa</td>\n",
       "      <td>20 km</td>\n",
       "    </tr>\n",
       "    <tr>\n",
       "      <th>12</th>\n",
       "      <td>14h</td>\n",
       "      <td>19.2 °C</td>\n",
       "      <td>0 mm/1h</td>\n",
       "      <td>45%</td>\n",
       "      <td>7 °C</td>\n",
       "      <td>14 km/h(36 km/h)</td>\n",
       "      <td>1020.9hPa</td>\n",
       "      <td>20 km</td>\n",
       "    </tr>\n",
       "    <tr>\n",
       "      <th>13</th>\n",
       "      <td>15h</td>\n",
       "      <td>18.7 °C</td>\n",
       "      <td>0 mm/1h</td>\n",
       "      <td>46%</td>\n",
       "      <td>6.8 °C</td>\n",
       "      <td>18 km/h(36 km/h)</td>\n",
       "      <td>1020.8hPa</td>\n",
       "      <td>20 km</td>\n",
       "    </tr>\n",
       "    <tr>\n",
       "      <th>14</th>\n",
       "      <td>16h</td>\n",
       "      <td>18.3 °C</td>\n",
       "      <td>0 mm/1h</td>\n",
       "      <td>52%</td>\n",
       "      <td>8.3 °C</td>\n",
       "      <td>18 km/h(36 km/h)</td>\n",
       "      <td>1020.7hPa</td>\n",
       "      <td>20 km</td>\n",
       "    </tr>\n",
       "    <tr>\n",
       "      <th>15</th>\n",
       "      <td>17h</td>\n",
       "      <td>18.3 °C</td>\n",
       "      <td>0 mm/1h</td>\n",
       "      <td>49%</td>\n",
       "      <td>7.4 °C</td>\n",
       "      <td>14 km/h(36 km/h)</td>\n",
       "      <td>1020.8hPa</td>\n",
       "      <td>20 km</td>\n",
       "    </tr>\n",
       "    <tr>\n",
       "      <th>16</th>\n",
       "      <td>18h</td>\n",
       "      <td>17.8 °C</td>\n",
       "      <td>0 mm/1h</td>\n",
       "      <td>51%</td>\n",
       "      <td>7.5 °C</td>\n",
       "      <td>18 km/h(36 km/h)</td>\n",
       "      <td>1021.0hPa</td>\n",
       "      <td>20 km</td>\n",
       "    </tr>\n",
       "    <tr>\n",
       "      <th>17</th>\n",
       "      <td>19h</td>\n",
       "      <td>17.7 °C</td>\n",
       "      <td>0 mm/1h</td>\n",
       "      <td>51%</td>\n",
       "      <td>7.4 °C</td>\n",
       "      <td>18 km/h(39.6 km/h)</td>\n",
       "      <td>1021.1hPa</td>\n",
       "      <td>20 km</td>\n",
       "    </tr>\n",
       "    <tr>\n",
       "      <th>18</th>\n",
       "      <td>20h</td>\n",
       "      <td>16.8 °C</td>\n",
       "      <td>0 mm/1h</td>\n",
       "      <td>59%</td>\n",
       "      <td>8.7 °C</td>\n",
       "      <td>22 km/h(43.2 km/h)</td>\n",
       "      <td>1021.6hPa</td>\n",
       "      <td>20 km</td>\n",
       "    </tr>\n",
       "    <tr>\n",
       "      <th>19</th>\n",
       "      <td>21h</td>\n",
       "      <td>15.4 °C</td>\n",
       "      <td>0 mm/1h</td>\n",
       "      <td>62%</td>\n",
       "      <td>8.2 °C</td>\n",
       "      <td>14 km/h(46.8 km/h)</td>\n",
       "      <td>1022.2hPa</td>\n",
       "      <td>20 km</td>\n",
       "    </tr>\n",
       "    <tr>\n",
       "      <th>20</th>\n",
       "      <td>22h</td>\n",
       "      <td>14.8 °C</td>\n",
       "      <td>0 mm/1h</td>\n",
       "      <td>67%</td>\n",
       "      <td>8.7 °C</td>\n",
       "      <td>18 km/h(36 km/h)</td>\n",
       "      <td>1022.8hPa</td>\n",
       "      <td>20 km</td>\n",
       "    </tr>\n",
       "    <tr>\n",
       "      <th>21</th>\n",
       "      <td>23h</td>\n",
       "      <td>14.9 °C</td>\n",
       "      <td>0 mm/1h</td>\n",
       "      <td>69%</td>\n",
       "      <td>9.3 °C</td>\n",
       "      <td>14 km/h(39.6 km/h)</td>\n",
       "      <td>1023.0hPa</td>\n",
       "      <td>20 km</td>\n",
       "    </tr>\n",
       "    <tr>\n",
       "      <th>22</th>\n",
       "      <td>00h</td>\n",
       "      <td>14.3 °C</td>\n",
       "      <td>0 mm/1h</td>\n",
       "      <td>73%</td>\n",
       "      <td>9.5 °C</td>\n",
       "      <td>18 km/h(39.6 km/h)</td>\n",
       "      <td>1023.2hPa</td>\n",
       "      <td>20 km</td>\n",
       "    </tr>\n",
       "    <tr>\n",
       "      <th>23</th>\n",
       "      <td>01h</td>\n",
       "      <td>13.9 °C</td>\n",
       "      <td>0 mm/1h</td>\n",
       "      <td>76%</td>\n",
       "      <td>9.7 °C</td>\n",
       "      <td>14 km/h(32.4 km/h)</td>\n",
       "      <td>1023.0hPa</td>\n",
       "      <td>20 km</td>\n",
       "    </tr>\n",
       "  </tbody>\n",
       "</table>\n",
       "</div>"
      ],
      "text/plain": [
       "      h       °C     mm/h    %       °C               km/h)        hPa     km\n",
       "10  12h  17.8 °C  0 mm/1h  66%  11.4 °C  11 km/h(25.2 km/h)  1021.1hPa  20 km\n",
       "11  13h  17.4 °C  0 mm/1h  58%     9 °C  14 km/h(28.8 km/h)  1021.2hPa  20 km\n",
       "12  14h  19.2 °C  0 mm/1h  45%     7 °C    14 km/h(36 km/h)  1020.9hPa  20 km\n",
       "13  15h  18.7 °C  0 mm/1h  46%   6.8 °C    18 km/h(36 km/h)  1020.8hPa  20 km\n",
       "14  16h  18.3 °C  0 mm/1h  52%   8.3 °C    18 km/h(36 km/h)  1020.7hPa  20 km\n",
       "15  17h  18.3 °C  0 mm/1h  49%   7.4 °C    14 km/h(36 km/h)  1020.8hPa  20 km\n",
       "16  18h  17.8 °C  0 mm/1h  51%   7.5 °C    18 km/h(36 km/h)  1021.0hPa  20 km\n",
       "17  19h  17.7 °C  0 mm/1h  51%   7.4 °C  18 km/h(39.6 km/h)  1021.1hPa  20 km\n",
       "18  20h  16.8 °C  0 mm/1h  59%   8.7 °C  22 km/h(43.2 km/h)  1021.6hPa  20 km\n",
       "19  21h  15.4 °C  0 mm/1h  62%   8.2 °C  14 km/h(46.8 km/h)  1022.2hPa  20 km\n",
       "20  22h  14.8 °C  0 mm/1h  67%   8.7 °C    18 km/h(36 km/h)  1022.8hPa  20 km\n",
       "21  23h  14.9 °C  0 mm/1h  69%   9.3 °C  14 km/h(39.6 km/h)  1023.0hPa  20 km\n",
       "22  00h  14.3 °C  0 mm/1h  73%   9.5 °C  18 km/h(39.6 km/h)  1023.2hPa  20 km\n",
       "23  01h  13.9 °C  0 mm/1h  76%   9.7 °C  14 km/h(32.4 km/h)  1023.0hPa  20 km"
      ]
     },
     "execution_count": 235,
     "metadata": {},
     "output_type": "execute_result"
    }
   ],
   "source": [
    "import pandas as pd\n",
    "\n",
    "df  = pd.DataFrame(liste, columns=nouvelles_colonnes)\n",
    "df2 = df.dropna() # suppression des lignes vides\n",
    "df2"
   ]
  },
  {
   "cell_type": "code",
   "execution_count": 243,
   "metadata": {},
   "outputs": [
    {
     "data": {
      "text/plain": [
       "10    66%\n",
       "11    58%\n",
       "12    45%\n",
       "13    46%\n",
       "14    52%\n",
       "15    49%\n",
       "16    51%\n",
       "17    51%\n",
       "18    59%\n",
       "19    62%\n",
       "20    67%\n",
       "21    69%\n",
       "22    73%\n",
       "23    76%\n",
       "Name: %, dtype: object"
      ]
     },
     "execution_count": 243,
     "metadata": {},
     "output_type": "execute_result"
    }
   ],
   "source": [
    "col_percent"
   ]
  },
  {
   "cell_type": "code",
   "execution_count": 244,
   "metadata": {},
   "outputs": [
    {
     "name": "stderr",
     "output_type": "stream",
     "text": [
      "/anaconda3/lib/python3.7/site-packages/ipykernel_launcher.py:3: SettingWithCopyWarning: \n",
      "A value is trying to be set on a copy of a slice from a DataFrame\n",
      "\n",
      "See the caveats in the documentation: http://pandas.pydata.org/pandas-docs/stable/indexing.html#indexing-view-versus-copy\n",
      "  This is separate from the ipykernel package so we can avoid doing imports until\n"
     ]
    },
    {
     "data": {
      "text/html": [
       "<div>\n",
       "<style scoped>\n",
       "    .dataframe tbody tr th:only-of-type {\n",
       "        vertical-align: middle;\n",
       "    }\n",
       "\n",
       "    .dataframe tbody tr th {\n",
       "        vertical-align: top;\n",
       "    }\n",
       "\n",
       "    .dataframe thead th {\n",
       "        text-align: right;\n",
       "    }\n",
       "</style>\n",
       "<table border=\"1\" class=\"dataframe\">\n",
       "  <thead>\n",
       "    <tr style=\"text-align: right;\">\n",
       "      <th></th>\n",
       "      <th>h</th>\n",
       "      <th>°C</th>\n",
       "      <th>mm/h</th>\n",
       "      <th>%</th>\n",
       "      <th>°C</th>\n",
       "      <th>km/h)</th>\n",
       "      <th>hPa</th>\n",
       "      <th>km</th>\n",
       "    </tr>\n",
       "  </thead>\n",
       "  <tbody>\n",
       "    <tr>\n",
       "      <th>10</th>\n",
       "      <td>12h</td>\n",
       "      <td>17.8 °C</td>\n",
       "      <td>0 mm/1h</td>\n",
       "      <td>66</td>\n",
       "      <td>11.4 °C</td>\n",
       "      <td>11 km/h(25.2 km/h)</td>\n",
       "      <td>1021.1hPa</td>\n",
       "      <td>20 km</td>\n",
       "    </tr>\n",
       "    <tr>\n",
       "      <th>11</th>\n",
       "      <td>13h</td>\n",
       "      <td>17.4 °C</td>\n",
       "      <td>0 mm/1h</td>\n",
       "      <td>58</td>\n",
       "      <td>9 °C</td>\n",
       "      <td>14 km/h(28.8 km/h)</td>\n",
       "      <td>1021.2hPa</td>\n",
       "      <td>20 km</td>\n",
       "    </tr>\n",
       "    <tr>\n",
       "      <th>12</th>\n",
       "      <td>14h</td>\n",
       "      <td>19.2 °C</td>\n",
       "      <td>0 mm/1h</td>\n",
       "      <td>45</td>\n",
       "      <td>7 °C</td>\n",
       "      <td>14 km/h(36 km/h)</td>\n",
       "      <td>1020.9hPa</td>\n",
       "      <td>20 km</td>\n",
       "    </tr>\n",
       "    <tr>\n",
       "      <th>13</th>\n",
       "      <td>15h</td>\n",
       "      <td>18.7 °C</td>\n",
       "      <td>0 mm/1h</td>\n",
       "      <td>46</td>\n",
       "      <td>6.8 °C</td>\n",
       "      <td>18 km/h(36 km/h)</td>\n",
       "      <td>1020.8hPa</td>\n",
       "      <td>20 km</td>\n",
       "    </tr>\n",
       "    <tr>\n",
       "      <th>14</th>\n",
       "      <td>16h</td>\n",
       "      <td>18.3 °C</td>\n",
       "      <td>0 mm/1h</td>\n",
       "      <td>52</td>\n",
       "      <td>8.3 °C</td>\n",
       "      <td>18 km/h(36 km/h)</td>\n",
       "      <td>1020.7hPa</td>\n",
       "      <td>20 km</td>\n",
       "    </tr>\n",
       "    <tr>\n",
       "      <th>15</th>\n",
       "      <td>17h</td>\n",
       "      <td>18.3 °C</td>\n",
       "      <td>0 mm/1h</td>\n",
       "      <td>49</td>\n",
       "      <td>7.4 °C</td>\n",
       "      <td>14 km/h(36 km/h)</td>\n",
       "      <td>1020.8hPa</td>\n",
       "      <td>20 km</td>\n",
       "    </tr>\n",
       "    <tr>\n",
       "      <th>16</th>\n",
       "      <td>18h</td>\n",
       "      <td>17.8 °C</td>\n",
       "      <td>0 mm/1h</td>\n",
       "      <td>51</td>\n",
       "      <td>7.5 °C</td>\n",
       "      <td>18 km/h(36 km/h)</td>\n",
       "      <td>1021.0hPa</td>\n",
       "      <td>20 km</td>\n",
       "    </tr>\n",
       "    <tr>\n",
       "      <th>17</th>\n",
       "      <td>19h</td>\n",
       "      <td>17.7 °C</td>\n",
       "      <td>0 mm/1h</td>\n",
       "      <td>51</td>\n",
       "      <td>7.4 °C</td>\n",
       "      <td>18 km/h(39.6 km/h)</td>\n",
       "      <td>1021.1hPa</td>\n",
       "      <td>20 km</td>\n",
       "    </tr>\n",
       "    <tr>\n",
       "      <th>18</th>\n",
       "      <td>20h</td>\n",
       "      <td>16.8 °C</td>\n",
       "      <td>0 mm/1h</td>\n",
       "      <td>59</td>\n",
       "      <td>8.7 °C</td>\n",
       "      <td>22 km/h(43.2 km/h)</td>\n",
       "      <td>1021.6hPa</td>\n",
       "      <td>20 km</td>\n",
       "    </tr>\n",
       "    <tr>\n",
       "      <th>19</th>\n",
       "      <td>21h</td>\n",
       "      <td>15.4 °C</td>\n",
       "      <td>0 mm/1h</td>\n",
       "      <td>62</td>\n",
       "      <td>8.2 °C</td>\n",
       "      <td>14 km/h(46.8 km/h)</td>\n",
       "      <td>1022.2hPa</td>\n",
       "      <td>20 km</td>\n",
       "    </tr>\n",
       "    <tr>\n",
       "      <th>20</th>\n",
       "      <td>22h</td>\n",
       "      <td>14.8 °C</td>\n",
       "      <td>0 mm/1h</td>\n",
       "      <td>67</td>\n",
       "      <td>8.7 °C</td>\n",
       "      <td>18 km/h(36 km/h)</td>\n",
       "      <td>1022.8hPa</td>\n",
       "      <td>20 km</td>\n",
       "    </tr>\n",
       "    <tr>\n",
       "      <th>21</th>\n",
       "      <td>23h</td>\n",
       "      <td>14.9 °C</td>\n",
       "      <td>0 mm/1h</td>\n",
       "      <td>69</td>\n",
       "      <td>9.3 °C</td>\n",
       "      <td>14 km/h(39.6 km/h)</td>\n",
       "      <td>1023.0hPa</td>\n",
       "      <td>20 km</td>\n",
       "    </tr>\n",
       "    <tr>\n",
       "      <th>22</th>\n",
       "      <td>00h</td>\n",
       "      <td>14.3 °C</td>\n",
       "      <td>0 mm/1h</td>\n",
       "      <td>73</td>\n",
       "      <td>9.5 °C</td>\n",
       "      <td>18 km/h(39.6 km/h)</td>\n",
       "      <td>1023.2hPa</td>\n",
       "      <td>20 km</td>\n",
       "    </tr>\n",
       "    <tr>\n",
       "      <th>23</th>\n",
       "      <td>01h</td>\n",
       "      <td>13.9 °C</td>\n",
       "      <td>0 mm/1h</td>\n",
       "      <td>76</td>\n",
       "      <td>9.7 °C</td>\n",
       "      <td>14 km/h(32.4 km/h)</td>\n",
       "      <td>1023.0hPa</td>\n",
       "      <td>20 km</td>\n",
       "    </tr>\n",
       "  </tbody>\n",
       "</table>\n",
       "</div>"
      ],
      "text/plain": [
       "      h       °C     mm/h   %       °C               km/h)        hPa     km\n",
       "10  12h  17.8 °C  0 mm/1h  66  11.4 °C  11 km/h(25.2 km/h)  1021.1hPa  20 km\n",
       "11  13h  17.4 °C  0 mm/1h  58     9 °C  14 km/h(28.8 km/h)  1021.2hPa  20 km\n",
       "12  14h  19.2 °C  0 mm/1h  45     7 °C    14 km/h(36 km/h)  1020.9hPa  20 km\n",
       "13  15h  18.7 °C  0 mm/1h  46   6.8 °C    18 km/h(36 km/h)  1020.8hPa  20 km\n",
       "14  16h  18.3 °C  0 mm/1h  52   8.3 °C    18 km/h(36 km/h)  1020.7hPa  20 km\n",
       "15  17h  18.3 °C  0 mm/1h  49   7.4 °C    14 km/h(36 km/h)  1020.8hPa  20 km\n",
       "16  18h  17.8 °C  0 mm/1h  51   7.5 °C    18 km/h(36 km/h)  1021.0hPa  20 km\n",
       "17  19h  17.7 °C  0 mm/1h  51   7.4 °C  18 km/h(39.6 km/h)  1021.1hPa  20 km\n",
       "18  20h  16.8 °C  0 mm/1h  59   8.7 °C  22 km/h(43.2 km/h)  1021.6hPa  20 km\n",
       "19  21h  15.4 °C  0 mm/1h  62   8.2 °C  14 km/h(46.8 km/h)  1022.2hPa  20 km\n",
       "20  22h  14.8 °C  0 mm/1h  67   8.7 °C    18 km/h(36 km/h)  1022.8hPa  20 km\n",
       "21  23h  14.9 °C  0 mm/1h  69   9.3 °C  14 km/h(39.6 km/h)  1023.0hPa  20 km\n",
       "22  00h  14.3 °C  0 mm/1h  73   9.5 °C  18 km/h(39.6 km/h)  1023.2hPa  20 km\n",
       "23  01h  13.9 °C  0 mm/1h  76   9.7 °C  14 km/h(32.4 km/h)  1023.0hPa  20 km"
      ]
     },
     "execution_count": 244,
     "metadata": {},
     "output_type": "execute_result"
    }
   ],
   "source": [
    "col_percent = df2[\"%\"]\n",
    "col_percent = col_percent.apply(lambda x: int(x[:-1]))\n",
    "df2.loc[:,\"%\"] =col_percent\n",
    "df2"
   ]
  },
  {
   "cell_type": "code",
   "execution_count": 245,
   "metadata": {},
   "outputs": [],
   "source": [
    "%matplotlib inline"
   ]
  },
  {
   "cell_type": "code",
   "execution_count": 248,
   "metadata": {},
   "outputs": [],
   "source": [
    "import seaborn as sns"
   ]
  },
  {
   "cell_type": "code",
   "execution_count": 249,
   "metadata": {},
   "outputs": [
    {
     "data": {
      "image/png": "[encoded data removed]",
      "text/plain": [
       "<Figure size 432x288 with 1 Axes>"
      ]
     },
     "metadata": {
      "needs_background": "light"
     },
     "output_type": "display_data"
    }
   ],
   "source": [
    "df2[\"%\"].plot(title=\"% d'humidité\")\n",
    "sns.despine()"
   ]
  },
  {
   "cell_type": "code",
   "execution_count": null,
   "metadata": {},
   "outputs": [],
   "source": [
    "pattern = \"[a-zA-Z]*$\""
   ]
  }
 ],
 "metadata": {
  "kernelspec": {
   "display_name": "Python 3",
   "language": "python",
   "name": "python3"
  },
  "language_info": {
   "codemirror_mode": {
    "name": "ipython",
    "version": 3
   },
   "file_extension": ".py",
   "mimetype": "text/x-python",
   "name": "python",
   "nbconvert_exporter": "python",
   "pygments_lexer": "ipython3",
   "version": "3.7.1"
  }
 },
 "nbformat": 4,
 "nbformat_minor": 2
}
