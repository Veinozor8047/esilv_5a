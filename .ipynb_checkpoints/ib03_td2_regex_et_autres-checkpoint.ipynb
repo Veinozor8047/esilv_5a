{
 "cells": [
  {
   "cell_type": "code",
   "execution_count": 1,
   "metadata": {},
   "outputs": [],
   "source": [
    "def push(message):\n",
    "    \"\"\"\n",
    "    Save current notebook and push whole current dir to origin/master (use it in notebooks)\n",
    "    \n",
    "    Param:\n",
    "        message : commit's message\n",
    "    \n",
    "    Return:\n",
    "        None\n",
    "    \"\"\"\n",
    "    assert(len(message.strip())>10)\n",
    "    import subprocess\n",
    "    from IPython.display import display, Javascript\n",
    "    \n",
    "    cmds = [  \"git add .\",\n",
    "              \"git commit -m \", \n",
    "              \"git push origin master\"]\n",
    "    \n",
    "    # save current notebook\n",
    "    display(Javascript('IPython.notebook.save_checkpoint();'))\n",
    "    \n",
    "    # Apply the git commands:\n",
    "    for cmd in cmds:\n",
    "        cmd = cmd.split()\n",
    "        if \"commit\" in cmd: \n",
    "            cmd.append( f\"'{message}'\") \n",
    "        print(\" \".join(cmd)) # let user know what is on-going\n",
    "        subprocess.check_output(cmd)"
   ]
  },
  {
   "cell_type": "markdown",
   "metadata": {},
   "source": [
    "# 1) récupérer le remote du repo git"
   ]
  },
  {
   "cell_type": "code",
   "execution_count": 129,
   "metadata": {},
   "outputs": [],
   "source": [
    "def get_git_conf():\n",
    "    \"\"\"\n",
    "    S'appuie sur le repo git du dir courant pour trouver les remote (commande systeme)\n",
    "    \"\"\"\n",
    "    import subprocess\n",
    "    cmd     = f\"git remote -v \" \n",
    "    remotes = subprocess.check_output(cmd.split())\n",
    "    return str(remotes)"
   ]
  },
  {
   "cell_type": "code",
   "execution_count": 30,
   "metadata": {},
   "outputs": [
    {
     "data": {
      "text/plain": [
       "\"b'origin\\\\thttps://github.com/romainjouin/esilv_5a.git (fetch)\\\\norigin\\\\thttps://github.com/romainjouin/esilv_5a.git (push)\\\\n'\""
      ]
     },
     "execution_count": 30,
     "metadata": {},
     "output_type": "execute_result"
    }
   ],
   "source": [
    "remotes = str(remotes)\n",
    "remotes"
   ]
  },
  {
   "cell_type": "markdown",
   "metadata": {},
   "source": [
    "# 2) récupérer l'url\n",
    "- parcourir élément par élémént puis comparer l'élément d'avant et l'élémént suivant, pour récupérer l'url\n",
    "- regex : \n",
    "- Split sur le \\t puis un split sur l'espace \n",
    "- Trouver l'index de https, de .git, et faire un extract"
   ]
  },
  {
   "cell_type": "markdown",
   "metadata": {},
   "source": [
    "## 2.1) élément par élément : idée de Louis"
   ]
  },
  {
   "cell_type": "code",
   "execution_count": 38,
   "metadata": {},
   "outputs": [
    {
     "data": {
      "text/plain": [
       "'https://github.com/romainjouin/esilv_5a'"
      ]
     },
     "execution_count": 38,
     "metadata": {},
     "output_type": "execute_result"
    }
   ],
   "source": [
    "for indice, caractere in enumerate(remotes) :\n",
    "    if remotes[indice:indice+5] == \"https\":\n",
    "        debut_http = indice\n",
    "    if remotes[indice:indice+4] == \".git\":\n",
    "        fin_http = indice\n",
    "remotes[debut_http:fin_http]\n",
    "    "
   ]
  },
  {
   "cell_type": "markdown",
   "metadata": {},
   "source": [
    "## 2.2) regex, par sébastien"
   ]
  },
  {
   "cell_type": "code",
   "execution_count": 122,
   "metadata": {},
   "outputs": [],
   "source": [
    "def extract_remote_url(remotes):\n",
    "    \"\"\"\n",
    "    Extrait une chaîne https.*git dans une string.\n",
    "    \n",
    "    Param:\n",
    "        remotes : résultat de la fonction get_git_conf()\n",
    "    \n",
    "    Return:\n",
    "        string\n",
    "    \"\"\"\n",
    "    import regex as re\n",
    "    pattern = \"(https.*?)\\.git\"\n",
    "    model   = re.compile(pattern)\n",
    "    return model.findall(remotes)[0]"
   ]
  },
  {
   "cell_type": "code",
   "execution_count": 123,
   "metadata": {},
   "outputs": [
    {
     "data": {
      "text/plain": [
       "\"b'origin\\\\thttps://github.com/romainjouin/esilv_5a.git (fetch)\\\\norigin\\\\thttps://github.com/romainjouin/esilv_5a.git (push)\\\\n'\""
      ]
     },
     "execution_count": 123,
     "metadata": {},
     "output_type": "execute_result"
    }
   ],
   "source": [
    "remotes = get_git_conf()\n",
    "remotes"
   ]
  },
  {
   "cell_type": "code",
   "execution_count": 124,
   "metadata": {},
   "outputs": [
    {
     "data": {
      "text/plain": [
       "'https://github.com/romainjouin/esilv_5a'"
      ]
     },
     "execution_count": 124,
     "metadata": {},
     "output_type": "execute_result"
    }
   ],
   "source": [
    "extract_remote_url(remotes)"
   ]
  },
  {
   "cell_type": "markdown",
   "metadata": {},
   "source": [
    "## 2.3) split : idée de Sasha"
   ]
  },
  {
   "cell_type": "code",
   "execution_count": 33,
   "metadata": {},
   "outputs": [
    {
     "data": {
      "text/plain": [
       "'https://github.com/romainjouin/esilv_5a'"
      ]
     },
     "execution_count": 33,
     "metadata": {},
     "output_type": "execute_result"
    }
   ],
   "source": [
    "remotes.split(\"\\\\t\")[1].split(\".git\")[0]"
   ]
  },
  {
   "cell_type": "markdown",
   "metadata": {},
   "source": [
    "## 2.4) Trouver l'index de https, de .git, et faire un extract : idée d'emmanuel"
   ]
  },
  {
   "cell_type": "code",
   "execution_count": 91,
   "metadata": {},
   "outputs": [
    {
     "data": {
      "text/plain": [
       "'https://github.com/romainjouin/esilv_5a'"
      ]
     },
     "execution_count": 91,
     "metadata": {},
     "output_type": "execute_result"
    }
   ],
   "source": [
    "remotes[remotes.find(\"http\"):remotes.find(\".git\")]"
   ]
  },
  {
   "cell_type": "code",
   "execution_count": 110,
   "metadata": {},
   "outputs": [
    {
     "data": {
      "application/javascript": [
       "IPython.notebook.save_checkpoint();"
      ],
      "text/plain": [
       "<IPython.core.display.Javascript object>"
      ]
     },
     "metadata": {},
     "output_type": "display_data"
    },
    {
     "name": "stdout",
     "output_type": "stream",
     "text": [
      "git add .\n",
      "git commit -m 'regex réussie'\n",
      "git push origin master\n"
     ]
    }
   ],
   "source": [
    "push(\"regex réussie\")"
   ]
  },
  {
   "cell_type": "markdown",
   "metadata": {},
   "source": [
    "# 3) création d'une fonction pour vérifier que le push a marché"
   ]
  },
  {
   "cell_type": "code",
   "execution_count": null,
   "metadata": {},
   "outputs": [],
   "source": [
    "push(\"Test du verif_push\")\n",
    "verif_push()"
   ]
  },
  {
   "cell_type": "markdown",
   "metadata": {},
   "source": [
    "### gérer la virgule dans un print de flottant"
   ]
  },
  {
   "cell_type": "code",
   "execution_count": 261,
   "metadata": {},
   "outputs": [],
   "source": [
    "age_mini = 0.3\n",
    "\n",
    "print(f\"Age mini = {int(age_mini)}\")\n",
    "\n",
    "print(f\"Age mini = {age_mini:.0f}\")"
   ]
  },
  {
   "cell_type": "code",
   "execution_count": 266,
   "metadata": {},
   "outputs": [],
   "source": [
    "def verif_push(limite=10):\n",
    "    def calcule_age(noeud):\n",
    "        from datetime import datetime\n",
    "        format_date    = \"%Y-%m-%dT%H:%M:%SZ\"\n",
    "        date_noeud     = noeud.attrs[\"datetime\"]\n",
    "        datetime_noeud = datetime.strptime(date_noeud, format_date)\n",
    "        age            = datetime.now() - datetime_noeud\n",
    "        return age.total_seconds()\n",
    "    \n",
    "    import requests\n",
    "    \n",
    "    remotes      = get_git_conf()\n",
    "    url          = extract_remote_url(remotes)\n",
    "    print(f\"Checking {url}\")\n",
    "    pages        = requests.request('get', url)\n",
    "    html         = pages.text\n",
    "    soup         = BeautifulSoup(html)\n",
    "    css_selector = \"time-ago\"\n",
    "    noeuds       = soup.find_all(css_selector)\n",
    "    print(f\"Found {len(noeuds)} nodes\")\n",
    "    ages         = map(calcule_age, noeuds)\n",
    "    age_mini     = min(ages)\n",
    "    print(f\"Age mini = {age_mini:.0f} sec.\")\n",
    "    worked       = age_mini <limite\n",
    "    print(f\"Worked = {worked}\")\n",
    "    return worked"
   ]
  },
  {
   "cell_type": "code",
   "execution_count": 144,
   "metadata": {},
   "outputs": [],
   "source": [
    "from bs4 import BeautifulSoup"
   ]
  },
  {
   "cell_type": "code",
   "execution_count": 211,
   "metadata": {},
   "outputs": [],
   "source": [
    "html         = verif_push()\n",
    "soup         = BeautifulSoup(html)\n",
    "css_selector = \"age\"\n",
    "css_selector = \"time-ago\"\n",
    "noeuds       = soup.find_all(css_selector)\n"
   ]
  },
  {
   "cell_type": "code",
   "execution_count": 220,
   "metadata": {},
   "outputs": [
    {
     "name": "stdout",
     "output_type": "stream",
     "text": [
      ".................."
     ]
    }
   ],
   "source": [
    "for _ in noeuds:\n",
    "    print(\".\", end=\"\")"
   ]
  },
  {
   "cell_type": "code",
   "execution_count": 215,
   "metadata": {},
   "outputs": [],
   "source": [
    "premier_noeud = noeuds[0]"
   ]
  },
  {
   "cell_type": "code",
   "execution_count": 216,
   "metadata": {},
   "outputs": [],
   "source": [
    "from datetime import datetime"
   ]
  },
  {
   "cell_type": "markdown",
   "metadata": {},
   "source": [
    "## on a accès aux attributs d'un noeud html "
   ]
  },
  {
   "cell_type": "code",
   "execution_count": 217,
   "metadata": {},
   "outputs": [
    {
     "data": {
      "text/plain": [
       "'2019-09-13T12:11:58Z'"
      ]
     },
     "execution_count": 217,
     "metadata": {},
     "output_type": "execute_result"
    }
   ],
   "source": [
    "date = premier_noeud.attrs[\"datetime\"]\n",
    "date"
   ]
  },
  {
   "cell_type": "markdown",
   "metadata": {},
   "source": [
    "## 3.1) aller chercher la date et donc l'âge pour chaque noeud"
   ]
  },
  {
   "cell_type": "code",
   "execution_count": 210,
   "metadata": {},
   "outputs": [
    {
     "data": {
      "text/plain": [
       "datetime.timedelta(seconds=8693, microseconds=805546)"
      ]
     },
     "execution_count": 210,
     "metadata": {},
     "output_type": "execute_result"
    }
   ],
   "source": [
    "format_date     = \"%Y-%m-%dT%H:%M:%SZ\"\n",
    "date_commit     = datetime.strptime(date, format_date)\n",
    "date_maintenant = datetime.now()\n",
    "age             = date_maintenant - date_commit\n",
    "age"
   ]
  },
  {
   "cell_type": "markdown",
   "metadata": {},
   "source": [
    "\n",
    "## 3.2) calculer l'âge de chaque noeud : \n",
    "- enumerate (louis)\n",
    "- boucle for (louis again)\n",
    "- comprehension list\n",
    "- map"
   ]
  },
  {
   "cell_type": "markdown",
   "metadata": {},
   "source": [
    "### definition d'une fonction de calcul de l'âge"
   ]
  },
  {
   "cell_type": "code",
   "execution_count": 223,
   "metadata": {},
   "outputs": [],
   "source": [
    "def calcule_age(noeud):\n",
    "    from datetime import datetime\n",
    "    format_date    = \"%Y-%m-%dT%H:%M:%SZ\"\n",
    "    date_noeud     = noeud.attrs[\"datetime\"]\n",
    "    datetime_noeud = datetime.strptime(date_noeud, format_date)\n",
    "    \n",
    "    return datetime.now() - datetime_noeud"
   ]
  },
  {
   "cell_type": "markdown",
   "metadata": {},
   "source": [
    "### application de la fonction avec un map"
   ]
  },
  {
   "cell_type": "code",
   "execution_count": 225,
   "metadata": {},
   "outputs": [
    {
     "data": {
      "text/plain": [
       "<map at 0x12b391860>"
      ]
     },
     "execution_count": 225,
     "metadata": {},
     "output_type": "execute_result"
    }
   ],
   "source": [
    "map(calcule_age, noeuds)"
   ]
  },
  {
   "cell_type": "code",
   "execution_count": 226,
   "metadata": {},
   "outputs": [
    {
     "data": {
      "text/plain": [
       "[datetime.timedelta(seconds=9293, microseconds=12617),\n",
       " datetime.timedelta(days=1, seconds=85344, microseconds=12644),\n",
       " datetime.timedelta(seconds=14913, microseconds=12663),\n",
       " datetime.timedelta(days=2, seconds=12395, microseconds=12680),\n",
       " datetime.timedelta(days=2, seconds=12395, microseconds=12697),\n",
       " datetime.timedelta(seconds=9320, microseconds=12713),\n",
       " datetime.timedelta(days=1, seconds=85344, microseconds=12729),\n",
       " datetime.timedelta(days=1, seconds=85344, microseconds=12745),\n",
       " datetime.timedelta(days=1, seconds=85344, microseconds=12761),\n",
       " datetime.timedelta(days=1, seconds=85344, microseconds=12777),\n",
       " datetime.timedelta(days=1, seconds=85344, microseconds=12793),\n",
       " datetime.timedelta(days=1, seconds=85344, microseconds=12809),\n",
       " datetime.timedelta(days=1, seconds=85344, microseconds=12825),\n",
       " datetime.timedelta(seconds=9293, microseconds=12841),\n",
       " datetime.timedelta(days=1, seconds=85344, microseconds=12857),\n",
       " datetime.timedelta(seconds=9320, microseconds=12872),\n",
       " datetime.timedelta(days=2, seconds=12395, microseconds=12888),\n",
       " datetime.timedelta(days=2, seconds=12395, microseconds=12904)]"
      ]
     },
     "execution_count": 226,
     "metadata": {},
     "output_type": "execute_result"
    }
   ],
   "source": [
    "list(map(calcule_age, noeuds))"
   ]
  },
  {
   "cell_type": "markdown",
   "metadata": {},
   "source": [
    "### comprehension list"
   ]
  },
  {
   "cell_type": "code",
   "execution_count": 227,
   "metadata": {},
   "outputs": [
    {
     "data": {
      "text/plain": [
       "[datetime.timedelta(seconds=9357, microseconds=179773),\n",
       " datetime.timedelta(days=1, seconds=85408, microseconds=179795),\n",
       " datetime.timedelta(seconds=14977, microseconds=179811),\n",
       " datetime.timedelta(days=2, seconds=12459, microseconds=179826),\n",
       " datetime.timedelta(days=2, seconds=12459, microseconds=179840),\n",
       " datetime.timedelta(seconds=9384, microseconds=179854),\n",
       " datetime.timedelta(days=1, seconds=85408, microseconds=179867),\n",
       " datetime.timedelta(days=1, seconds=85408, microseconds=179881),\n",
       " datetime.timedelta(days=1, seconds=85408, microseconds=179895),\n",
       " datetime.timedelta(days=1, seconds=85408, microseconds=179908),\n",
       " datetime.timedelta(days=1, seconds=85408, microseconds=179922),\n",
       " datetime.timedelta(days=1, seconds=85408, microseconds=179935),\n",
       " datetime.timedelta(days=1, seconds=85408, microseconds=179949),\n",
       " datetime.timedelta(seconds=9357, microseconds=179962),\n",
       " datetime.timedelta(days=1, seconds=85408, microseconds=179975),\n",
       " datetime.timedelta(seconds=9384, microseconds=179988),\n",
       " datetime.timedelta(days=2, seconds=12459, microseconds=180002),\n",
       " datetime.timedelta(days=2, seconds=12459, microseconds=180015)]"
      ]
     },
     "execution_count": 227,
     "metadata": {},
     "output_type": "execute_result"
    }
   ],
   "source": [
    "ages = [ calcule_age(noeud) for noeud in noeuds]\n",
    "ages"
   ]
  },
  {
   "cell_type": "code",
   "execution_count": 254,
   "metadata": {},
   "outputs": [
    {
     "data": {
      "text/plain": [
       "datetime.timedelta(seconds=9357, microseconds=179962)"
      ]
     },
     "execution_count": 254,
     "metadata": {},
     "output_type": "execute_result"
    }
   ],
   "source": [
    "min(ages)"
   ]
  },
  {
   "cell_type": "markdown",
   "metadata": {},
   "source": [
    "## 3.3) trouver le noeud le plus jeune \n",
    "- filtre\n",
    "- itération (emmanuel)\n",
    "- un tri puis on prend le premier ou dernier membre (idée de thomas)\n",
    "- fonction max (sasha)"
   ]
  },
  {
   "cell_type": "code",
   "execution_count": 233,
   "metadata": {},
   "outputs": [
    {
     "data": {
      "text/plain": [
       "datetime.timedelta(seconds=9357, microseconds=179773)"
      ]
     },
     "execution_count": 233,
     "metadata": {},
     "output_type": "execute_result"
    }
   ],
   "source": [
    "getYounger(ages)"
   ]
  },
  {
   "cell_type": "markdown",
   "metadata": {},
   "source": [
    "### 3.3.1) itération"
   ]
  },
  {
   "cell_type": "code",
   "execution_count": 243,
   "metadata": {},
   "outputs": [],
   "source": [
    "def getYounger(ages):\n",
    "    younger=ages[0]\n",
    "    for age in ages: \n",
    "        if(age<younger): \n",
    "            younger = age\n",
    "    return younger"
   ]
  },
  {
   "cell_type": "markdown",
   "metadata": {},
   "source": [
    "### 3.3.2) min"
   ]
  },
  {
   "cell_type": "code",
   "execution_count": 241,
   "metadata": {},
   "outputs": [
    {
     "data": {
      "text/plain": [
       "datetime.timedelta(seconds=9357, microseconds=179962)"
      ]
     },
     "execution_count": 241,
     "metadata": {},
     "output_type": "execute_result"
    }
   ],
   "source": [
    "min(ages)"
   ]
  },
  {
   "cell_type": "markdown",
   "metadata": {},
   "source": [
    "### 3.3.3) sort / reverse"
   ]
  },
  {
   "cell_type": "code",
   "execution_count": 240,
   "metadata": {},
   "outputs": [
    {
     "data": {
      "text/plain": [
       "datetime.timedelta(seconds=9357, microseconds=179773)"
      ]
     },
     "execution_count": 240,
     "metadata": {},
     "output_type": "execute_result"
    }
   ],
   "source": [
    "ages.sort()\n",
    "ages.reverse()\n",
    "ages.pop()"
   ]
  },
  {
   "cell_type": "markdown",
   "metadata": {},
   "source": [
    "### 3.3.4) sorted"
   ]
  },
  {
   "cell_type": "code",
   "execution_count": 244,
   "metadata": {},
   "outputs": [
    {
     "data": {
      "text/plain": [
       "datetime.timedelta(seconds=9357, microseconds=179962)"
      ]
     },
     "execution_count": 244,
     "metadata": {},
     "output_type": "execute_result"
    }
   ],
   "source": [
    "sorted(ages)[0]"
   ]
  },
  {
   "cell_type": "markdown",
   "metadata": {},
   "source": [
    "## 3.4) trouver le nombre de secondes du timedelta"
   ]
  },
  {
   "cell_type": "code",
   "execution_count": 246,
   "metadata": {},
   "outputs": [
    {
     "data": {
      "text/plain": [
       "datetime.timedelta"
      ]
     },
     "execution_count": 246,
     "metadata": {},
     "output_type": "execute_result"
    }
   ],
   "source": [
    "type(sorted(ages)[0])"
   ]
  },
  {
   "cell_type": "code",
   "execution_count": 250,
   "metadata": {},
   "outputs": [
    {
     "data": {
      "text/plain": [
       "9357.179962"
      ]
     },
     "execution_count": 250,
     "metadata": {},
     "output_type": "execute_result"
    }
   ],
   "source": [
    "_ = sorted(ages)[0]\n",
    "_.total_seconds()"
   ]
  },
  {
   "cell_type": "code",
   "execution_count": 252,
   "metadata": {},
   "outputs": [],
   "source": [
    "age_mini = _"
   ]
  },
  {
   "cell_type": "code",
   "execution_count": 253,
   "metadata": {},
   "outputs": [
    {
     "data": {
      "text/plain": [
       "False"
      ]
     },
     "execution_count": 253,
     "metadata": {},
     "output_type": "execute_result"
    }
   ],
   "source": [
    "worked = age_mini.total_seconds() < 10\n",
    "worked"
   ]
  },
  {
   "cell_type": "markdown",
   "metadata": {},
   "source": [
    "## Possibilité d'aller voir les enfants / parents d'un noeud dans l'arbre du DOM"
   ]
  },
  {
   "cell_type": "code",
   "execution_count": 174,
   "metadata": {},
   "outputs": [
    {
     "name": "stdout",
     "output_type": "stream",
     "text": [
      "child2 = \n",
      "\n",
      "child2 = <time-ago datetime=\"2019-09-13T12:11:58Z\">Sep 13, 2019</time-ago>\n",
      "child2 = \n",
      "\n"
     ]
    }
   ],
   "source": [
    "for child in test.children:\n",
    "    for child2 in child:\n",
    "        print(f\"child2 = {child2}\")"
   ]
  },
  {
   "cell_type": "code",
   "execution_count": 164,
   "metadata": {},
   "outputs": [
    {
     "data": {
      "text/plain": [
       "'<td class=\"age\">\\n<span class=\"css-truncate css-truncate-target\"><time-ago datetime=\"2019-09-13T12:11:58Z\">Sep 13, 2019</time-ago></span>\\n</td>'"
      ]
     },
     "execution_count": 164,
     "metadata": {},
     "output_type": "execute_result"
    }
   ],
   "source": [
    "test = soup.find_all(class_=css_selector)[0]\n",
    "str(test), test"
   ]
  },
  {
   "cell_type": "code",
   "execution_count": 160,
   "metadata": {},
   "outputs": [
    {
     "ename": "TypeError",
     "evalue": "expected string or buffer",
     "output_type": "error",
     "traceback": [
      "\u001b[0;31m---------------------------------------------------------------------------\u001b[0m",
      "\u001b[0;31mTypeError\u001b[0m                                 Traceback (most recent call last)",
      "\u001b[0;32m<ipython-input-160-53c6929f11af>\u001b[0m in \u001b[0;36m<module>\u001b[0;34m\u001b[0m\n\u001b[1;32m      1\u001b[0m \u001b[0mpattern\u001b[0m \u001b[0;34m=\u001b[0m \u001b[0;34m\"T.*?Z\"\u001b[0m\u001b[0;34m\u001b[0m\u001b[0;34m\u001b[0m\u001b[0m\n\u001b[1;32m      2\u001b[0m \u001b[0mmodel\u001b[0m \u001b[0;34m=\u001b[0m \u001b[0mre\u001b[0m\u001b[0;34m.\u001b[0m\u001b[0mcompile\u001b[0m\u001b[0;34m(\u001b[0m\u001b[0mpattern\u001b[0m\u001b[0;34m)\u001b[0m\u001b[0;34m\u001b[0m\u001b[0;34m\u001b[0m\u001b[0m\n\u001b[0;32m----> 3\u001b[0;31m \u001b[0mheures\u001b[0m \u001b[0;34m=\u001b[0m \u001b[0mmodel\u001b[0m\u001b[0;34m.\u001b[0m\u001b[0mfindall\u001b[0m\u001b[0;34m(\u001b[0m\u001b[0mtest\u001b[0m\u001b[0;34m)\u001b[0m\u001b[0;34m\u001b[0m\u001b[0;34m\u001b[0m\u001b[0m\n\u001b[0m",
      "\u001b[0;31mTypeError\u001b[0m: expected string or buffer"
     ]
    }
   ],
   "source": [
    "pattern = \"T.*?Z\"\n",
    "model = re.compile(pattern)\n",
    "heures = model.findall(test)"
   ]
  },
  {
   "cell_type": "code",
   "execution_count": null,
   "metadata": {},
   "outputs": [],
   "source": []
  }
 ],
 "metadata": {
  "kernelspec": {
   "display_name": "Python 3",
   "language": "python",
   "name": "python3"
  },
  "language_info": {
   "codemirror_mode": {
    "name": "ipython",
    "version": 3
   },
   "file_extension": ".py",
   "mimetype": "text/x-python",
   "name": "python",
   "nbconvert_exporter": "python",
   "pygments_lexer": "ipython3",
   "version": "3.7.1"
  }
 },
 "nbformat": 4,
 "nbformat_minor": 2
}
