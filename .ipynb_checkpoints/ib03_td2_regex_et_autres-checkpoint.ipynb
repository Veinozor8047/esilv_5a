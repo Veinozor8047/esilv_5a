{
 "cells": [
  {
   "cell_type": "code",
   "execution_count": 1,
   "metadata": {},
   "outputs": [],
   "source": [
    "def push(message):\n",
    "    \"\"\"\n",
    "    Save current notebook and push whole current dir to origin/master (use it in notebooks)\n",
    "    \n",
    "    Param:\n",
    "        message : commit's message\n",
    "    \n",
    "    Return:\n",
    "        None\n",
    "    \"\"\"\n",
    "    assert(len(message.strip())>10)\n",
    "    import subprocess\n",
    "    from IPython.display import display, Javascript\n",
    "    \n",
    "    cmds = [  \"git add .\",\n",
    "              \"git commit -m \", \n",
    "              \"git push origin master\"]\n",
    "    \n",
    "    # save current notebook\n",
    "    display(Javascript('IPython.notebook.save_checkpoint();'))\n",
    "    \n",
    "    # Apply the git commands:\n",
    "    for cmd in cmds:\n",
    "        cmd = cmd.split()\n",
    "        if \"commit\" in cmd: \n",
    "            cmd.append( f\"'{message}'\") \n",
    "        print(\" \".join(cmd)) # let user know what is on-going\n",
    "        subprocess.check_output(cmd)"
   ]
  },
  {
   "cell_type": "markdown",
   "metadata": {},
   "source": [
    "# 1) récupérer le remote du repo git"
   ]
  },
  {
   "cell_type": "code",
   "execution_count": 129,
   "metadata": {},
   "outputs": [],
   "source": [
    "def get_git_conf():\n",
    "    \"\"\"\n",
    "    S'appuie sur le repo git du dir courant pour trouver les remote (commande systeme)\n",
    "    \"\"\"\n",
    "    import subprocess\n",
    "    cmd     = f\"git remote -v \" \n",
    "    remotes = subprocess.check_output(cmd.split())\n",
    "    return str(remotes)"
   ]
  },
  {
   "cell_type": "code",
   "execution_count": 30,
   "metadata": {},
   "outputs": [
    {
     "data": {
      "text/plain": [
       "\"b'origin\\\\thttps://github.com/romainjouin/esilv_5a.git (fetch)\\\\norigin\\\\thttps://github.com/romainjouin/esilv_5a.git (push)\\\\n'\""
      ]
     },
     "execution_count": 30,
     "metadata": {},
     "output_type": "execute_result"
    }
   ],
   "source": [
    "remotes = str(remotes)\n",
    "remotes"
   ]
  },
  {
   "cell_type": "markdown",
   "metadata": {},
   "source": [
    "# 2) récupérer l'url\n",
    "- parcourir élément par élémént puis comparer l'élément d'avant et l'élémént suivant, pour récupérer l'url\n",
    "- regex : \n",
    "- Split sur le \\t puis un split sur l'espace \n",
    "- Trouver l'index de https, de .git, et faire un extract"
   ]
  },
  {
   "cell_type": "markdown",
   "metadata": {},
   "source": [
    "## 2.1) élément par élément : idée de Louis"
   ]
  },
  {
   "cell_type": "code",
   "execution_count": 38,
   "metadata": {},
   "outputs": [
    {
     "data": {
      "text/plain": [
       "'https://github.com/romainjouin/esilv_5a'"
      ]
     },
     "execution_count": 38,
     "metadata": {},
     "output_type": "execute_result"
    }
   ],
   "source": [
    "for indice, caractere in enumerate(remotes) :\n",
    "    if remotes[indice:indice+5] == \"https\":\n",
    "        debut_http = indice\n",
    "    if remotes[indice:indice+4] == \".git\":\n",
    "        fin_http = indice\n",
    "remotes[debut_http:fin_http]\n",
    "    "
   ]
  },
  {
   "cell_type": "markdown",
   "metadata": {},
   "source": [
    "## 2.2) regex, par sébastien"
   ]
  },
  {
   "cell_type": "code",
   "execution_count": 122,
   "metadata": {},
   "outputs": [],
   "source": [
    "def extract_remote_url(remotes):\n",
    "    \"\"\"\n",
    "    Extrait une chaîne https.*git dans une string.\n",
    "    \n",
    "    Param:\n",
    "        remotes : résultat de la fonction get_git_conf()\n",
    "    \n",
    "    Return:\n",
    "        string\n",
    "    \"\"\"\n",
    "    import regex as re\n",
    "    pattern = \"(https.*?)\\.git\"\n",
    "    model   = re.compile(pattern)\n",
    "    return model.findall(remotes)[0]"
   ]
  },
  {
   "cell_type": "code",
   "execution_count": 123,
   "metadata": {},
   "outputs": [
    {
     "data": {
      "text/plain": [
       "\"b'origin\\\\thttps://github.com/romainjouin/esilv_5a.git (fetch)\\\\norigin\\\\thttps://github.com/romainjouin/esilv_5a.git (push)\\\\n'\""
      ]
     },
     "execution_count": 123,
     "metadata": {},
     "output_type": "execute_result"
    }
   ],
   "source": [
    "remotes = get_git_conf()\n",
    "remotes"
   ]
  },
  {
   "cell_type": "code",
   "execution_count": 124,
   "metadata": {},
   "outputs": [
    {
     "data": {
      "text/plain": [
       "'https://github.com/romainjouin/esilv_5a'"
      ]
     },
     "execution_count": 124,
     "metadata": {},
     "output_type": "execute_result"
    }
   ],
   "source": [
    "extract_remote_url(remotes)"
   ]
  },
  {
   "cell_type": "markdown",
   "metadata": {},
   "source": [
    "## 2.3) split : idée de Sasha"
   ]
  },
  {
   "cell_type": "code",
   "execution_count": 33,
   "metadata": {},
   "outputs": [
    {
     "data": {
      "text/plain": [
       "'https://github.com/romainjouin/esilv_5a'"
      ]
     },
     "execution_count": 33,
     "metadata": {},
     "output_type": "execute_result"
    }
   ],
   "source": [
    "remotes.split(\"\\\\t\")[1].split(\".git\")[0]"
   ]
  },
  {
   "cell_type": "markdown",
   "metadata": {},
   "source": [
    "## 2.4) Trouver l'index de https, de .git, et faire un extract : idée d'emmanuel"
   ]
  },
  {
   "cell_type": "code",
   "execution_count": 91,
   "metadata": {},
   "outputs": [
    {
     "data": {
      "text/plain": [
       "'https://github.com/romainjouin/esilv_5a'"
      ]
     },
     "execution_count": 91,
     "metadata": {},
     "output_type": "execute_result"
    }
   ],
   "source": [
    "remotes[remotes.find(\"http\"):remotes.find(\".git\")]"
   ]
  },
  {
   "cell_type": "code",
   "execution_count": 110,
   "metadata": {},
   "outputs": [
    {
     "data": {
      "application/javascript": [
       "IPython.notebook.save_checkpoint();"
      ],
      "text/plain": [
       "<IPython.core.display.Javascript object>"
      ]
     },
     "metadata": {},
     "output_type": "display_data"
    },
    {
     "name": "stdout",
     "output_type": "stream",
     "text": [
      "git add .\n",
      "git commit -m 'regex réussie'\n",
      "git push origin master\n"
     ]
    }
   ],
   "source": [
    "push(\"regex réussie\")"
   ]
  },
  {
   "cell_type": "code",
   "execution_count": 132,
   "metadata": {},
   "outputs": [],
   "source": [
    "def verif_push():\n",
    "    remotes = get_git_conf()\n",
    "    url     = extract_remote_url(remotes)\n",
    "    import request\n",
    "    pages = request.request('get', url)\n",
    "    return pages"
   ]
  },
  {
   "cell_type": "code",
   "execution_count": 136,
   "metadata": {},
   "outputs": [],
   "source": [
    "import sys"
   ]
  },
  {
   "cell_type": "code",
   "execution_count": null,
   "metadata": {},
   "outputs": [],
   "source": []
  },
  {
   "cell_type": "code",
   "execution_count": 134,
   "metadata": {},
   "outputs": [
    {
     "ename": "ModuleNotFoundError",
     "evalue": "No module named 'request'",
     "output_type": "error",
     "traceback": [
      "\u001b[0;31m---------------------------------------------------------------------------\u001b[0m",
      "\u001b[0;31mModuleNotFoundError\u001b[0m                       Traceback (most recent call last)",
      "\u001b[0;32m<ipython-input-134-e392607f0c42>\u001b[0m in \u001b[0;36m<module>\u001b[0;34m\u001b[0m\n\u001b[0;32m----> 1\u001b[0;31m \u001b[0;32mimport\u001b[0m \u001b[0mrequest\u001b[0m\u001b[0;34m\u001b[0m\u001b[0;34m\u001b[0m\u001b[0m\n\u001b[0m",
      "\u001b[0;31mModuleNotFoundError\u001b[0m: No module named 'request'"
     ]
    }
   ],
   "source": [
    "import request"
   ]
  },
  {
   "cell_type": "code",
   "execution_count": 133,
   "metadata": {},
   "outputs": [
    {
     "ename": "ModuleNotFoundError",
     "evalue": "No module named 'request'",
     "output_type": "error",
     "traceback": [
      "\u001b[0;31m---------------------------------------------------------------------------\u001b[0m",
      "\u001b[0;31mModuleNotFoundError\u001b[0m                       Traceback (most recent call last)",
      "\u001b[0;32m<ipython-input-133-5ebfea71262b>\u001b[0m in \u001b[0;36m<module>\u001b[0;34m\u001b[0m\n\u001b[0;32m----> 1\u001b[0;31m \u001b[0mverif_push\u001b[0m\u001b[0;34m(\u001b[0m\u001b[0;34m)\u001b[0m\u001b[0;34m\u001b[0m\u001b[0;34m\u001b[0m\u001b[0m\n\u001b[0m",
      "\u001b[0;32m<ipython-input-132-5b32af1ef685>\u001b[0m in \u001b[0;36mverif_push\u001b[0;34m()\u001b[0m\n\u001b[1;32m      2\u001b[0m     \u001b[0mremotes\u001b[0m \u001b[0;34m=\u001b[0m \u001b[0mget_git_conf\u001b[0m\u001b[0;34m(\u001b[0m\u001b[0;34m)\u001b[0m\u001b[0;34m\u001b[0m\u001b[0;34m\u001b[0m\u001b[0m\n\u001b[1;32m      3\u001b[0m     \u001b[0murl\u001b[0m     \u001b[0;34m=\u001b[0m \u001b[0mextract_remote_url\u001b[0m\u001b[0;34m(\u001b[0m\u001b[0mremotes\u001b[0m\u001b[0;34m)\u001b[0m\u001b[0;34m\u001b[0m\u001b[0;34m\u001b[0m\u001b[0m\n\u001b[0;32m----> 4\u001b[0;31m     \u001b[0;32mimport\u001b[0m \u001b[0mrequest\u001b[0m\u001b[0;34m\u001b[0m\u001b[0;34m\u001b[0m\u001b[0m\n\u001b[0m\u001b[1;32m      5\u001b[0m     \u001b[0mpages\u001b[0m \u001b[0;34m=\u001b[0m \u001b[0mrequest\u001b[0m\u001b[0;34m.\u001b[0m\u001b[0mrequest\u001b[0m\u001b[0;34m(\u001b[0m\u001b[0;34m'get'\u001b[0m\u001b[0;34m,\u001b[0m \u001b[0murl\u001b[0m\u001b[0;34m)\u001b[0m\u001b[0;34m\u001b[0m\u001b[0;34m\u001b[0m\u001b[0m\n\u001b[1;32m      6\u001b[0m     \u001b[0;32mreturn\u001b[0m \u001b[0mpages\u001b[0m\u001b[0;34m\u001b[0m\u001b[0;34m\u001b[0m\u001b[0m\n",
      "\u001b[0;31mModuleNotFoundError\u001b[0m: No module named 'request'"
     ]
    }
   ],
   "source": [
    "verif_push()"
   ]
  },
  {
   "cell_type": "code",
   "execution_count": null,
   "metadata": {},
   "outputs": [],
   "source": []
  }
 ],
 "metadata": {
  "kernelspec": {
   "display_name": "Python 3",
   "language": "python",
   "name": "python3"
  },
  "language_info": {
   "codemirror_mode": {
    "name": "ipython",
    "version": 3
   },
   "file_extension": ".py",
   "mimetype": "text/x-python",
   "name": "python",
   "nbconvert_exporter": "python",
   "pygments_lexer": "ipython3",
   "version": "3.7.1"
  }
 },
 "nbformat": 4,
 "nbformat_minor": 2
}
