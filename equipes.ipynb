{
 "cells": [
  {
   "cell_type": "code",
   "execution_count": 1,
   "metadata": {},
   "outputs": [
    {
     "data": {
      "text/plain": [
       "['equipe0',\n",
       " 'equipe1',\n",
       " 'equipe2',\n",
       " 'equipe3',\n",
       " 'equipe4',\n",
       " 'equipe5',\n",
       " 'equipe6',\n",
       " 'equipe7',\n",
       " 'equipe8',\n",
       " 'equipe9']"
      ]
     },
     "execution_count": 1,
     "metadata": {},
     "output_type": "execute_result"
    }
   ],
   "source": [
    "[f\"equipe{n}\" for n in range(10)]"
   ]
  },
  {
   "cell_type": "code",
   "execution_count": 4,
   "metadata": {},
   "outputs": [],
   "source": [
    "equipes = {'equipe1': [\"Clément\",\"ismail\",\"David\",\"Nicolas\"],\n",
    " 'equipe2': [\"Cyril\",\"Sasha\",\"Marina\",\"Abdallah\"],\n",
    " 'equipe3': [\"Thomas\",\"Emmanuel\",\"Johan\",\"Kevin\"],\n",
    " 'equipe4': [\"Florian\",\"Florian\",\"Alexandre\",\"Faycal\"],\n",
    " 'equipe5': [\"Muriel\",\"Louis\",\"Vincent\",\"Hippolyte\",\"Pierrick\"],\n",
    " 'equipe6': [\"Arthur\",\"Kevin\",\"Bastian\",\"James\"],\n",
    " 'equipe7': [\"Ge\",\"Paul\",\"Kilian\"],\n",
    " 'equipe8': [\"Jamaïca\",\"Philippe\",\"Jennifer\",\"Sabrina\"],\n",
    " 'equipe9': [\"Phan Arthur\",\"Sébastien\",\"Thomas\",\"\"],\n",
    "'equipe10': [\"François\",\"Joakim\",\"Thibaut\",\"Raphaël\"],\n",
    "}"
   ]
  },
  {
   "cell_type": "code",
   "execution_count": null,
   "metadata": {},
   "outputs": [],
   "source": [
    "exercices = {\n",
    "    \"telechargement_base\" : [\"equipe8\", \"equipe4\"],\n",
    "    \"transformer_en_float\" : [\"equipe2\", \"equipe1\"],\n",
    "    \n",
    "}"
   ]
  }
 ],
 "metadata": {
  "kernelspec": {
   "display_name": "Python 3",
   "language": "python",
   "name": "python3"
  },
  "language_info": {
   "codemirror_mode": {
    "name": "ipython",
    "version": 3
   },
   "file_extension": ".py",
   "mimetype": "text/x-python",
   "name": "python",
   "nbconvert_exporter": "python",
   "pygments_lexer": "ipython3",
   "version": "3.7.1"
  }
 },
 "nbformat": 4,
 "nbformat_minor": 2
}
