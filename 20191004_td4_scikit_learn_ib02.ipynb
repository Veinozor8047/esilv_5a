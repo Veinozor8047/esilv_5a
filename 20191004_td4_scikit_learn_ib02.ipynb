{
 "cells": [
  {
   "cell_type": "markdown",
   "metadata": {},
   "source": [
    "# 0) imports"
   ]
  },
  {
   "cell_type": "code",
   "execution_count": 1,
   "metadata": {},
   "outputs": [],
   "source": [
    "from sklearn import datasets"
   ]
  },
  {
   "cell_type": "markdown",
   "metadata": {},
   "source": [
    "# 1) loader les data"
   ]
  },
  {
   "cell_type": "code",
   "execution_count": 2,
   "metadata": {},
   "outputs": [
    {
     "data": {
      "text/plain": [
       "dict_keys(['data', 'target', 'feature_names', 'DESCR', 'filename'])"
      ]
     },
     "execution_count": 2,
     "metadata": {},
     "output_type": "execute_result"
    }
   ],
   "source": [
    "boston = datasets.load_boston()\n",
    "boston.keys()"
   ]
  },
  {
   "cell_type": "code",
   "execution_count": 3,
   "metadata": {},
   "outputs": [
    {
     "name": "stdout",
     "output_type": "stream",
     "text": [
      ".. _boston_dataset:\n",
      "\n",
      "Boston house prices dataset\n",
      "---------------------------\n",
      "\n",
      "**Data Set Characteristics:**  \n",
      "\n",
      "    :Number of Instances: 506 \n",
      "\n",
      "    :Number of Attributes: 13 numeric/categorical predictive. Median Value (attribute 14) is usually the target.\n",
      "\n",
      "    :Attribute Information (in order):\n",
      "        - CRIM     per capita crime rate by town\n",
      "        - ZN       proportion of residential land zoned for lots over 25,000 sq.ft.\n",
      "        - INDUS    proportion of non-retail business acres per town\n"
     ]
    }
   ],
   "source": [
    "print(\"\\n\".join(boston.DESCR.split(\"\\n\")[:15]))"
   ]
  },
  {
   "cell_type": "markdown",
   "metadata": {},
   "source": [
    "# 1.1) on récupére x et y "
   ]
  },
  {
   "cell_type": "code",
   "execution_count": 4,
   "metadata": {},
   "outputs": [],
   "source": [
    "X = boston.data\n",
    "y = boston.target"
   ]
  },
  {
   "cell_type": "markdown",
   "metadata": {},
   "source": [
    "## 1.2) on divise en jeu de test et d'apprentissage"
   ]
  },
  {
   "cell_type": "code",
   "execution_count": 5,
   "metadata": {},
   "outputs": [],
   "source": [
    "from sklearn.model_selection import train_test_split"
   ]
  },
  {
   "cell_type": "code",
   "execution_count": 6,
   "metadata": {},
   "outputs": [],
   "source": [
    "X_train, X_test, Y_train, Y_test = train_test_split(X, y )"
   ]
  },
  {
   "cell_type": "code",
   "execution_count": 7,
   "metadata": {},
   "outputs": [
    {
     "data": {
      "text/plain": [
       "((379, 13), (127, 13), (379,), (127,))"
      ]
     },
     "execution_count": 7,
     "metadata": {},
     "output_type": "execute_result"
    }
   ],
   "source": [
    "X_train.shape, X_test.shape, Y_train.shape, Y_test.shape"
   ]
  },
  {
   "cell_type": "markdown",
   "metadata": {},
   "source": [
    "# 2) Modélisation"
   ]
  },
  {
   "cell_type": "markdown",
   "metadata": {},
   "source": [
    "## 2.1) arbre de décision simple "
   ]
  },
  {
   "cell_type": "code",
   "execution_count": 8,
   "metadata": {},
   "outputs": [],
   "source": [
    "performances = {}"
   ]
  },
  {
   "cell_type": "code",
   "execution_count": 9,
   "metadata": {},
   "outputs": [],
   "source": [
    "from sklearn.tree import DecisionTreeRegressor\n",
    "\n",
    "algorithme = DecisionTreeRegressor()\n",
    "modele     = algorithme.fit(X_train, Y_train)\n",
    "score      = modele.score(X_test, Y_test)\n",
    "score\n",
    "performances[algorithme] = score"
   ]
  },
  {
   "cell_type": "markdown",
   "metadata": {},
   "source": [
    "## 2.2) création d'une fonction pour tester les algos"
   ]
  },
  {
   "cell_type": "code",
   "execution_count": 10,
   "metadata": {},
   "outputs": [],
   "source": [
    "def get_score(algorithme, X_train, X_test, Y_train, Y_test):\n",
    "    modele     = algorithme.fit(X_train, Y_train)\n",
    "    score      = modele.score(X_test, Y_test)\n",
    "    return score"
   ]
  },
  {
   "cell_type": "markdown",
   "metadata": {},
   "source": [
    "## 2.3) tester plusieurs algos"
   ]
  },
  {
   "cell_type": "code",
   "execution_count": 11,
   "metadata": {},
   "outputs": [],
   "source": [
    "algorithme = DecisionTreeRegressor(random_state=1)\n",
    "score = get_score(algorithme, X_train, X_test, Y_train, Y_test)\n",
    "score\n",
    "performances[algorithme] = score"
   ]
  },
  {
   "cell_type": "markdown",
   "metadata": {},
   "source": [
    "### 2.3.1) Random Forest"
   ]
  },
  {
   "cell_type": "code",
   "execution_count": 12,
   "metadata": {},
   "outputs": [],
   "source": [
    "from sklearn.ensemble import RandomForestRegressor\n",
    "hyperparametres = {\"n_estimators\" : 30}\n",
    "algorithme = RandomForestRegressor(**hyperparametres)\n",
    "score = get_score(algorithme, X_train, X_test, Y_train, Y_test)\n",
    "performances[algorithme] = score"
   ]
  },
  {
   "cell_type": "code",
   "execution_count": 13,
   "metadata": {},
   "outputs": [],
   "source": [
    "from sklearn.ensemble import RandomForestRegressor\n",
    "hyperparametres = {\"n_estimators\" : 30, \n",
    "                  \"max_features\"  :  3,\n",
    "                  \"max_depth\"     :  50,}\n",
    "algorithme = RandomForestRegressor(**hyperparametres)\n",
    "score = get_score(algorithme, X_train, X_test, Y_train, Y_test)\n",
    "performances[algorithme] = score"
   ]
  },
  {
   "cell_type": "markdown",
   "metadata": {},
   "source": [
    "### 2.3.2) ExtraTreesRegressor"
   ]
  },
  {
   "cell_type": "code",
   "execution_count": 14,
   "metadata": {},
   "outputs": [
    {
     "name": "stderr",
     "output_type": "stream",
     "text": [
      "/anaconda3/lib/python3.7/site-packages/sklearn/ensemble/forest.py:246: FutureWarning: The default value of n_estimators will change from 10 in version 0.20 to 100 in 0.22.\n",
      "  \"10 in version 0.20 to 100 in 0.22.\", FutureWarning)\n"
     ]
    }
   ],
   "source": [
    "from sklearn.ensemble import ExtraTreesRegressor\n",
    "\n",
    "algorithme = ExtraTreesRegressor()\n",
    "score      = get_score(algorithme, X_train, X_test, Y_train, Y_test)\n",
    "performances[algorithme] = score"
   ]
  },
  {
   "cell_type": "markdown",
   "metadata": {},
   "source": [
    "### 2.3.3) catboost\n",
    "installation : \n",
    "!pip install catboost "
   ]
  },
  {
   "cell_type": "code",
   "execution_count": 16,
   "metadata": {},
   "outputs": [],
   "source": [
    "from catboost import CatBoostRegressor"
   ]
  },
  {
   "cell_type": "code",
   "execution_count": 17,
   "metadata": {},
   "outputs": [
    {
     "name": "stdout",
     "output_type": "stream",
     "text": [
      "0:\tlearn: 9.1085824\ttotal: 66.2ms\tremaining: 1m 6s\n",
      "1:\tlearn: 8.9677534\ttotal: 71.3ms\tremaining: 35.6s\n",
      "2:\tlearn: 8.7991006\ttotal: 77ms\tremaining: 25.6s\n",
      "3:\tlearn: 8.6636201\ttotal: 82.4ms\tremaining: 20.5s\n",
      "4:\tlearn: 8.5300206\ttotal: 88.4ms\tremaining: 17.6s\n",
      "5:\tlearn: 8.3725787\ttotal: 93.9ms\tremaining: 15.6s\n",
      "6:\tlearn: 8.2126112\ttotal: 99.1ms\tremaining: 14.1s\n",
      "7:\tlearn: 8.0911903\ttotal: 106ms\tremaining: 13.1s\n",
      "8:\tlearn: 7.9630083\ttotal: 111ms\tremaining: 12.2s\n",
      "9:\tlearn: 7.8199497\ttotal: 116ms\tremaining: 11.5s\n",
      "10:\tlearn: 7.6939513\ttotal: 122ms\tremaining: 11s\n",
      "11:\tlearn: 7.5675543\ttotal: 128ms\tremaining: 10.5s\n",
      "12:\tlearn: 7.4550915\ttotal: 133ms\tremaining: 10.1s\n",
      "13:\tlearn: 7.3372074\ttotal: 138ms\tremaining: 9.74s\n",
      "14:\tlearn: 7.2141507\ttotal: 143ms\tremaining: 9.4s\n",
      "15:\tlearn: 7.1100395\ttotal: 149ms\tremaining: 9.15s\n",
      "16:\tlearn: 7.0286937\ttotal: 154ms\tremaining: 8.92s\n",
      "17:\tlearn: 6.9694673\ttotal: 159ms\tremaining: 8.7s\n",
      "18:\tlearn: 6.9019124\ttotal: 165ms\tremaining: 8.5s\n",
      "19:\tlearn: 6.7979241\ttotal: 170ms\tremaining: 8.34s\n",
      "20:\tlearn: 6.7017016\ttotal: 175ms\tremaining: 8.17s\n",
      "21:\tlearn: 6.6110006\ttotal: 181ms\tremaining: 8.03s\n",
      "22:\tlearn: 6.5341714\ttotal: 187ms\tremaining: 7.93s\n",
      "23:\tlearn: 6.4399650\ttotal: 192ms\tremaining: 7.82s\n",
      "24:\tlearn: 6.3523973\ttotal: 198ms\tremaining: 7.7s\n",
      "25:\tlearn: 6.2713317\ttotal: 203ms\tremaining: 7.59s\n",
      "26:\tlearn: 6.1955558\ttotal: 208ms\tremaining: 7.49s\n",
      "27:\tlearn: 6.1461516\ttotal: 213ms\tremaining: 7.4s\n",
      "28:\tlearn: 6.0652531\ttotal: 219ms\tremaining: 7.32s\n",
      "29:\tlearn: 5.9908457\ttotal: 224ms\tremaining: 7.24s\n",
      "30:\tlearn: 5.9214687\ttotal: 230ms\tremaining: 7.17s\n",
      "31:\tlearn: 5.8670381\ttotal: 235ms\tremaining: 7.1s\n",
      "32:\tlearn: 5.7918254\ttotal: 241ms\tremaining: 7.05s\n",
      "33:\tlearn: 5.7194817\ttotal: 246ms\tremaining: 6.99s\n",
      "34:\tlearn: 5.6476102\ttotal: 251ms\tremaining: 6.92s\n",
      "35:\tlearn: 5.5832032\ttotal: 256ms\tremaining: 6.86s\n",
      "36:\tlearn: 5.5177965\ttotal: 262ms\tremaining: 6.83s\n",
      "37:\tlearn: 5.4621245\ttotal: 271ms\tremaining: 6.85s\n",
      "38:\tlearn: 5.4120257\ttotal: 278ms\tremaining: 6.85s\n",
      "39:\tlearn: 5.3585151\ttotal: 285ms\tremaining: 6.85s\n",
      "40:\tlearn: 5.3013043\ttotal: 292ms\tremaining: 6.82s\n",
      "41:\tlearn: 5.2493659\ttotal: 298ms\tremaining: 6.8s\n",
      "42:\tlearn: 5.2039729\ttotal: 304ms\tremaining: 6.78s\n",
      "43:\tlearn: 5.1367979\ttotal: 313ms\tremaining: 6.79s\n",
      "44:\tlearn: 5.0952434\ttotal: 320ms\tremaining: 6.79s\n",
      "45:\tlearn: 5.0634884\ttotal: 328ms\tremaining: 6.81s\n",
      "46:\tlearn: 5.0136785\ttotal: 335ms\tremaining: 6.8s\n",
      "47:\tlearn: 4.9742223\ttotal: 341ms\tremaining: 6.77s\n",
      "48:\tlearn: 4.9310180\ttotal: 347ms\tremaining: 6.72s\n",
      "49:\tlearn: 4.9085688\ttotal: 351ms\tremaining: 6.67s\n",
      "50:\tlearn: 4.8581173\ttotal: 356ms\tremaining: 6.63s\n",
      "51:\tlearn: 4.8327414\ttotal: 363ms\tremaining: 6.62s\n",
      "52:\tlearn: 4.7900677\ttotal: 369ms\tremaining: 6.6s\n",
      "53:\tlearn: 4.7414495\ttotal: 376ms\tremaining: 6.59s\n",
      "54:\tlearn: 4.7101855\ttotal: 381ms\tremaining: 6.54s\n",
      "55:\tlearn: 4.6712147\ttotal: 387ms\tremaining: 6.52s\n",
      "56:\tlearn: 4.6498528\ttotal: 393ms\tremaining: 6.5s\n",
      "57:\tlearn: 4.6040003\ttotal: 398ms\tremaining: 6.47s\n",
      "58:\tlearn: 4.5628855\ttotal: 404ms\tremaining: 6.44s\n",
      "59:\tlearn: 4.5340399\ttotal: 409ms\tremaining: 6.4s\n",
      "60:\tlearn: 4.5031009\ttotal: 414ms\tremaining: 6.37s\n",
      "61:\tlearn: 4.4581688\ttotal: 419ms\tremaining: 6.34s\n",
      "62:\tlearn: 4.4256509\ttotal: 424ms\tremaining: 6.31s\n",
      "63:\tlearn: 4.3931640\ttotal: 430ms\tremaining: 6.29s\n",
      "64:\tlearn: 4.3557134\ttotal: 436ms\tremaining: 6.27s\n",
      "65:\tlearn: 4.3182730\ttotal: 441ms\tremaining: 6.24s\n",
      "66:\tlearn: 4.2706604\ttotal: 447ms\tremaining: 6.22s\n",
      "67:\tlearn: 4.2089825\ttotal: 452ms\tremaining: 6.19s\n",
      "68:\tlearn: 4.1853067\ttotal: 457ms\tremaining: 6.17s\n",
      "69:\tlearn: 4.1577078\ttotal: 465ms\tremaining: 6.17s\n",
      "70:\tlearn: 4.1348486\ttotal: 473ms\tremaining: 6.19s\n",
      "71:\tlearn: 4.1058305\ttotal: 480ms\tremaining: 6.19s\n",
      "72:\tlearn: 4.0711546\ttotal: 487ms\tremaining: 6.18s\n",
      "73:\tlearn: 4.0344636\ttotal: 494ms\tremaining: 6.18s\n",
      "74:\tlearn: 3.9950103\ttotal: 500ms\tremaining: 6.16s\n",
      "75:\tlearn: 3.9541576\ttotal: 506ms\tremaining: 6.15s\n",
      "76:\tlearn: 3.9284604\ttotal: 512ms\tremaining: 6.14s\n",
      "77:\tlearn: 3.8948542\ttotal: 518ms\tremaining: 6.12s\n",
      "78:\tlearn: 3.8714537\ttotal: 523ms\tremaining: 6.1s\n",
      "79:\tlearn: 3.8492274\ttotal: 528ms\tremaining: 6.08s\n",
      "80:\tlearn: 3.8195627\ttotal: 534ms\tremaining: 6.05s\n",
      "81:\tlearn: 3.7871533\ttotal: 539ms\tremaining: 6.03s\n",
      "82:\tlearn: 3.7620871\ttotal: 540ms\tremaining: 5.97s\n",
      "83:\tlearn: 3.7398113\ttotal: 547ms\tremaining: 5.96s\n",
      "84:\tlearn: 3.7206845\ttotal: 553ms\tremaining: 5.95s\n",
      "85:\tlearn: 3.6911770\ttotal: 558ms\tremaining: 5.93s\n",
      "86:\tlearn: 3.6663038\ttotal: 564ms\tremaining: 5.92s\n",
      "87:\tlearn: 3.6442843\ttotal: 569ms\tremaining: 5.9s\n",
      "88:\tlearn: 3.6225283\ttotal: 575ms\tremaining: 5.88s\n",
      "89:\tlearn: 3.6090171\ttotal: 580ms\tremaining: 5.87s\n",
      "90:\tlearn: 3.5848064\ttotal: 586ms\tremaining: 5.85s\n",
      "91:\tlearn: 3.5582986\ttotal: 591ms\tremaining: 5.84s\n",
      "92:\tlearn: 3.5450472\ttotal: 597ms\tremaining: 5.82s\n",
      "93:\tlearn: 3.5283558\ttotal: 602ms\tremaining: 5.8s\n",
      "94:\tlearn: 3.5171424\ttotal: 607ms\tremaining: 5.78s\n",
      "95:\tlearn: 3.4951644\ttotal: 612ms\tremaining: 5.77s\n",
      "96:\tlearn: 3.4719701\ttotal: 618ms\tremaining: 5.75s\n",
      "97:\tlearn: 3.4496415\ttotal: 623ms\tremaining: 5.73s\n",
      "98:\tlearn: 3.4318124\ttotal: 629ms\tremaining: 5.72s\n",
      "99:\tlearn: 3.4184538\ttotal: 635ms\tremaining: 5.71s\n",
      "100:\tlearn: 3.4019619\ttotal: 640ms\tremaining: 5.7s\n",
      "101:\tlearn: 3.3824775\ttotal: 645ms\tremaining: 5.68s\n",
      "102:\tlearn: 3.3673260\ttotal: 651ms\tremaining: 5.67s\n",
      "103:\tlearn: 3.3501599\ttotal: 658ms\tremaining: 5.67s\n",
      "104:\tlearn: 3.3306727\ttotal: 666ms\tremaining: 5.68s\n",
      "105:\tlearn: 3.3013373\ttotal: 674ms\tremaining: 5.69s\n",
      "106:\tlearn: 3.2817905\ttotal: 680ms\tremaining: 5.68s\n",
      "107:\tlearn: 3.2651250\ttotal: 685ms\tremaining: 5.66s\n",
      "108:\tlearn: 3.2440125\ttotal: 691ms\tremaining: 5.64s\n",
      "109:\tlearn: 3.2292567\ttotal: 697ms\tremaining: 5.64s\n",
      "110:\tlearn: 3.2182423\ttotal: 703ms\tremaining: 5.63s\n",
      "111:\tlearn: 3.1982862\ttotal: 709ms\tremaining: 5.62s\n",
      "112:\tlearn: 3.1858501\ttotal: 714ms\tremaining: 5.61s\n",
      "113:\tlearn: 3.1630247\ttotal: 719ms\tremaining: 5.59s\n",
      "114:\tlearn: 3.1437003\ttotal: 726ms\tremaining: 5.58s\n",
      "115:\tlearn: 3.1263580\ttotal: 731ms\tremaining: 5.57s\n",
      "116:\tlearn: 3.1139437\ttotal: 736ms\tremaining: 5.56s\n",
      "117:\tlearn: 3.0999902\ttotal: 741ms\tremaining: 5.54s\n",
      "118:\tlearn: 3.0845633\ttotal: 747ms\tremaining: 5.53s\n",
      "119:\tlearn: 3.0683373\ttotal: 753ms\tremaining: 5.52s\n",
      "120:\tlearn: 3.0530199\ttotal: 758ms\tremaining: 5.51s\n",
      "121:\tlearn: 3.0378752\ttotal: 763ms\tremaining: 5.49s\n",
      "122:\tlearn: 3.0164627\ttotal: 768ms\tremaining: 5.48s\n",
      "123:\tlearn: 3.0030114\ttotal: 773ms\tremaining: 5.46s\n",
      "124:\tlearn: 2.9857021\ttotal: 779ms\tremaining: 5.45s\n",
      "125:\tlearn: 2.9719312\ttotal: 785ms\tremaining: 5.44s\n",
      "126:\tlearn: 2.9538994\ttotal: 790ms\tremaining: 5.43s\n",
      "127:\tlearn: 2.9409034\ttotal: 797ms\tremaining: 5.43s\n",
      "128:\tlearn: 2.9280027\ttotal: 802ms\tremaining: 5.42s\n",
      "129:\tlearn: 2.9135573\ttotal: 807ms\tremaining: 5.4s\n",
      "130:\tlearn: 2.9067143\ttotal: 813ms\tremaining: 5.39s\n",
      "131:\tlearn: 2.8951013\ttotal: 818ms\tremaining: 5.38s\n",
      "132:\tlearn: 2.8811118\ttotal: 824ms\tremaining: 5.37s\n",
      "133:\tlearn: 2.8706371\ttotal: 829ms\tremaining: 5.36s\n",
      "134:\tlearn: 2.8591749\ttotal: 835ms\tremaining: 5.35s\n",
      "135:\tlearn: 2.8441926\ttotal: 841ms\tremaining: 5.34s\n",
      "136:\tlearn: 2.8304842\ttotal: 847ms\tremaining: 5.33s\n",
      "137:\tlearn: 2.8161565\ttotal: 855ms\tremaining: 5.34s\n",
      "138:\tlearn: 2.8044003\ttotal: 862ms\tremaining: 5.34s\n",
      "139:\tlearn: 2.7944547\ttotal: 869ms\tremaining: 5.34s\n",
      "140:\tlearn: 2.7814135\ttotal: 878ms\tremaining: 5.35s\n",
      "141:\tlearn: 2.7743523\ttotal: 885ms\tremaining: 5.35s\n",
      "142:\tlearn: 2.7650747\ttotal: 894ms\tremaining: 5.36s\n",
      "143:\tlearn: 2.7545765\ttotal: 901ms\tremaining: 5.35s\n",
      "144:\tlearn: 2.7437412\ttotal: 908ms\tremaining: 5.36s\n",
      "145:\tlearn: 2.7250958\ttotal: 916ms\tremaining: 5.36s\n",
      "146:\tlearn: 2.7144482\ttotal: 924ms\tremaining: 5.36s\n",
      "147:\tlearn: 2.7017605\ttotal: 931ms\tremaining: 5.36s\n",
      "148:\tlearn: 2.6913643\ttotal: 938ms\tremaining: 5.36s\n",
      "149:\tlearn: 2.6794848\ttotal: 944ms\tremaining: 5.35s\n",
      "150:\tlearn: 2.6689145\ttotal: 950ms\tremaining: 5.34s\n",
      "151:\tlearn: 2.6603030\ttotal: 956ms\tremaining: 5.33s\n",
      "152:\tlearn: 2.6492022\ttotal: 961ms\tremaining: 5.32s\n",
      "153:\tlearn: 2.6357357\ttotal: 966ms\tremaining: 5.31s\n",
      "154:\tlearn: 2.6260990\ttotal: 972ms\tremaining: 5.3s\n",
      "155:\tlearn: 2.6205914\ttotal: 977ms\tremaining: 5.29s\n",
      "156:\tlearn: 2.6104747\ttotal: 984ms\tremaining: 5.28s\n",
      "157:\tlearn: 2.5988006\ttotal: 993ms\tremaining: 5.29s\n",
      "158:\tlearn: 2.5916443\ttotal: 999ms\tremaining: 5.28s\n",
      "159:\tlearn: 2.5861430\ttotal: 1s\tremaining: 5.27s\n",
      "160:\tlearn: 2.5754464\ttotal: 1.01s\tremaining: 5.26s\n",
      "161:\tlearn: 2.5657716\ttotal: 1.01s\tremaining: 5.25s\n",
      "162:\tlearn: 2.5570834\ttotal: 1.02s\tremaining: 5.23s\n",
      "163:\tlearn: 2.5481550\ttotal: 1.02s\tremaining: 5.22s\n",
      "164:\tlearn: 2.5407632\ttotal: 1.03s\tremaining: 5.21s\n",
      "165:\tlearn: 2.5318918\ttotal: 1.03s\tremaining: 5.2s\n"
     ]
    },
    {
     "name": "stdout",
     "output_type": "stream",
     "text": [
      "166:\tlearn: 2.5240253\ttotal: 1.04s\tremaining: 5.2s\n",
      "167:\tlearn: 2.5157919\ttotal: 1.05s\tremaining: 5.19s\n",
      "168:\tlearn: 2.5084750\ttotal: 1.06s\tremaining: 5.19s\n",
      "169:\tlearn: 2.5030782\ttotal: 1.06s\tremaining: 5.19s\n",
      "170:\tlearn: 2.4966784\ttotal: 1.07s\tremaining: 5.19s\n",
      "171:\tlearn: 2.4874357\ttotal: 1.07s\tremaining: 5.18s\n",
      "172:\tlearn: 2.4786908\ttotal: 1.08s\tremaining: 5.17s\n",
      "173:\tlearn: 2.4712108\ttotal: 1.09s\tremaining: 5.16s\n",
      "174:\tlearn: 2.4632384\ttotal: 1.09s\tremaining: 5.15s\n",
      "175:\tlearn: 2.4560296\ttotal: 1.1s\tremaining: 5.14s\n",
      "176:\tlearn: 2.4493900\ttotal: 1.1s\tremaining: 5.13s\n",
      "177:\tlearn: 2.4419642\ttotal: 1.11s\tremaining: 5.12s\n",
      "178:\tlearn: 2.4346643\ttotal: 1.12s\tremaining: 5.12s\n",
      "179:\tlearn: 2.4271968\ttotal: 1.12s\tremaining: 5.11s\n",
      "180:\tlearn: 2.4193538\ttotal: 1.13s\tremaining: 5.1s\n",
      "181:\tlearn: 2.4138381\ttotal: 1.13s\tremaining: 5.09s\n",
      "182:\tlearn: 2.4085106\ttotal: 1.14s\tremaining: 5.08s\n",
      "183:\tlearn: 2.4009798\ttotal: 1.14s\tremaining: 5.07s\n",
      "184:\tlearn: 2.3960471\ttotal: 1.15s\tremaining: 5.06s\n",
      "185:\tlearn: 2.3892117\ttotal: 1.15s\tremaining: 5.05s\n",
      "186:\tlearn: 2.3845412\ttotal: 1.16s\tremaining: 5.04s\n",
      "187:\tlearn: 2.3792314\ttotal: 1.16s\tremaining: 5.03s\n",
      "188:\tlearn: 2.3740552\ttotal: 1.17s\tremaining: 5.02s\n",
      "189:\tlearn: 2.3669539\ttotal: 1.17s\tremaining: 5.01s\n",
      "190:\tlearn: 2.3600660\ttotal: 1.18s\tremaining: 5s\n",
      "191:\tlearn: 2.3551863\ttotal: 1.19s\tremaining: 4.99s\n",
      "192:\tlearn: 2.3478830\ttotal: 1.19s\tremaining: 4.98s\n",
      "193:\tlearn: 2.3422671\ttotal: 1.2s\tremaining: 4.98s\n",
      "194:\tlearn: 2.3377455\ttotal: 1.2s\tremaining: 4.97s\n",
      "195:\tlearn: 2.3326046\ttotal: 1.21s\tremaining: 4.96s\n",
      "196:\tlearn: 2.3261300\ttotal: 1.21s\tremaining: 4.95s\n",
      "197:\tlearn: 2.3200633\ttotal: 1.22s\tremaining: 4.94s\n",
      "198:\tlearn: 2.3130258\ttotal: 1.22s\tremaining: 4.93s\n",
      "199:\tlearn: 2.3081945\ttotal: 1.23s\tremaining: 4.92s\n",
      "200:\tlearn: 2.3033683\ttotal: 1.24s\tremaining: 4.91s\n",
      "201:\tlearn: 2.2981163\ttotal: 1.24s\tremaining: 4.91s\n",
      "202:\tlearn: 2.2931015\ttotal: 1.25s\tremaining: 4.91s\n",
      "203:\tlearn: 2.2848517\ttotal: 1.25s\tremaining: 4.9s\n",
      "204:\tlearn: 2.2810323\ttotal: 1.26s\tremaining: 4.89s\n",
      "205:\tlearn: 2.2756501\ttotal: 1.27s\tremaining: 4.88s\n",
      "206:\tlearn: 2.2688471\ttotal: 1.27s\tremaining: 4.87s\n",
      "207:\tlearn: 2.2636580\ttotal: 1.28s\tremaining: 4.86s\n",
      "208:\tlearn: 2.2590550\ttotal: 1.28s\tremaining: 4.86s\n",
      "209:\tlearn: 2.2546074\ttotal: 1.29s\tremaining: 4.85s\n",
      "210:\tlearn: 2.2486774\ttotal: 1.29s\tremaining: 4.84s\n",
      "211:\tlearn: 2.2439972\ttotal: 1.3s\tremaining: 4.83s\n",
      "212:\tlearn: 2.2390385\ttotal: 1.31s\tremaining: 4.83s\n",
      "213:\tlearn: 2.2329601\ttotal: 1.31s\tremaining: 4.82s\n",
      "214:\tlearn: 2.2295723\ttotal: 1.32s\tremaining: 4.82s\n",
      "215:\tlearn: 2.2256324\ttotal: 1.32s\tremaining: 4.81s\n",
      "216:\tlearn: 2.2203327\ttotal: 1.33s\tremaining: 4.8s\n",
      "217:\tlearn: 2.2175582\ttotal: 1.33s\tremaining: 4.79s\n",
      "218:\tlearn: 2.2132945\ttotal: 1.34s\tremaining: 4.78s\n",
      "219:\tlearn: 2.2100170\ttotal: 1.34s\tremaining: 4.77s\n",
      "220:\tlearn: 2.2006701\ttotal: 1.35s\tremaining: 4.76s\n",
      "221:\tlearn: 2.1948405\ttotal: 1.35s\tremaining: 4.75s\n",
      "222:\tlearn: 2.1924425\ttotal: 1.36s\tremaining: 4.74s\n",
      "223:\tlearn: 2.1867858\ttotal: 1.37s\tremaining: 4.73s\n",
      "224:\tlearn: 2.1817580\ttotal: 1.37s\tremaining: 4.72s\n",
      "225:\tlearn: 2.1750342\ttotal: 1.38s\tremaining: 4.71s\n",
      "226:\tlearn: 2.1716203\ttotal: 1.38s\tremaining: 4.71s\n",
      "227:\tlearn: 2.1679308\ttotal: 1.39s\tremaining: 4.7s\n",
      "228:\tlearn: 2.1632738\ttotal: 1.39s\tremaining: 4.69s\n",
      "229:\tlearn: 2.1605849\ttotal: 1.4s\tremaining: 4.68s\n",
      "230:\tlearn: 2.1565632\ttotal: 1.4s\tremaining: 4.67s\n",
      "231:\tlearn: 2.1524763\ttotal: 1.41s\tremaining: 4.67s\n",
      "232:\tlearn: 2.1481722\ttotal: 1.41s\tremaining: 4.66s\n",
      "233:\tlearn: 2.1431383\ttotal: 1.42s\tremaining: 4.65s\n",
      "234:\tlearn: 2.1382257\ttotal: 1.42s\tremaining: 4.64s\n",
      "235:\tlearn: 2.1337552\ttotal: 1.43s\tremaining: 4.63s\n",
      "236:\tlearn: 2.1299506\ttotal: 1.44s\tremaining: 4.62s\n",
      "237:\tlearn: 2.1257986\ttotal: 1.44s\tremaining: 4.62s\n",
      "238:\tlearn: 2.1221794\ttotal: 1.45s\tremaining: 4.62s\n",
      "239:\tlearn: 2.1188436\ttotal: 1.46s\tremaining: 4.61s\n",
      "240:\tlearn: 2.1144012\ttotal: 1.46s\tremaining: 4.6s\n",
      "241:\tlearn: 2.1091518\ttotal: 1.47s\tremaining: 4.59s\n",
      "242:\tlearn: 2.1053628\ttotal: 1.47s\tremaining: 4.59s\n",
      "243:\tlearn: 2.1021057\ttotal: 1.48s\tremaining: 4.58s\n",
      "244:\tlearn: 2.0969245\ttotal: 1.48s\tremaining: 4.57s\n",
      "245:\tlearn: 2.0915147\ttotal: 1.49s\tremaining: 4.56s\n",
      "246:\tlearn: 2.0880510\ttotal: 1.49s\tremaining: 4.55s\n",
      "247:\tlearn: 2.0838854\ttotal: 1.5s\tremaining: 4.55s\n",
      "248:\tlearn: 2.0806571\ttotal: 1.5s\tremaining: 4.54s\n",
      "249:\tlearn: 2.0756893\ttotal: 1.51s\tremaining: 4.53s\n",
      "250:\tlearn: 2.0728214\ttotal: 1.51s\tremaining: 4.52s\n",
      "251:\tlearn: 2.0692100\ttotal: 1.52s\tremaining: 4.51s\n",
      "252:\tlearn: 2.0657439\ttotal: 1.52s\tremaining: 4.5s\n",
      "253:\tlearn: 2.0607375\ttotal: 1.53s\tremaining: 4.5s\n",
      "254:\tlearn: 2.0584184\ttotal: 1.54s\tremaining: 4.49s\n",
      "255:\tlearn: 2.0554290\ttotal: 1.54s\tremaining: 4.48s\n",
      "256:\tlearn: 2.0526679\ttotal: 1.55s\tremaining: 4.47s\n",
      "257:\tlearn: 2.0497615\ttotal: 1.55s\tremaining: 4.46s\n",
      "258:\tlearn: 2.0456076\ttotal: 1.56s\tremaining: 4.46s\n",
      "259:\tlearn: 2.0406872\ttotal: 1.56s\tremaining: 4.45s\n",
      "260:\tlearn: 2.0372011\ttotal: 1.57s\tremaining: 4.44s\n",
      "261:\tlearn: 2.0338389\ttotal: 1.57s\tremaining: 4.43s\n",
      "262:\tlearn: 2.0294663\ttotal: 1.58s\tremaining: 4.43s\n",
      "263:\tlearn: 2.0266319\ttotal: 1.58s\tremaining: 4.42s\n",
      "264:\tlearn: 2.0248674\ttotal: 1.59s\tremaining: 4.41s\n",
      "265:\tlearn: 2.0231276\ttotal: 1.59s\tremaining: 4.4s\n",
      "266:\tlearn: 2.0208699\ttotal: 1.6s\tremaining: 4.4s\n",
      "267:\tlearn: 2.0163559\ttotal: 1.61s\tremaining: 4.39s\n",
      "268:\tlearn: 2.0131404\ttotal: 1.61s\tremaining: 4.38s\n",
      "269:\tlearn: 2.0092671\ttotal: 1.62s\tremaining: 4.37s\n",
      "270:\tlearn: 2.0068347\ttotal: 1.62s\tremaining: 4.36s\n",
      "271:\tlearn: 2.0042757\ttotal: 1.63s\tremaining: 4.36s\n",
      "272:\tlearn: 2.0015672\ttotal: 1.63s\tremaining: 4.35s\n",
      "273:\tlearn: 1.9994563\ttotal: 1.64s\tremaining: 4.34s\n",
      "274:\tlearn: 1.9960928\ttotal: 1.65s\tremaining: 4.34s\n",
      "275:\tlearn: 1.9928166\ttotal: 1.65s\tremaining: 4.34s\n",
      "276:\tlearn: 1.9905807\ttotal: 1.66s\tremaining: 4.33s\n",
      "277:\tlearn: 1.9868470\ttotal: 1.67s\tremaining: 4.33s\n",
      "278:\tlearn: 1.9850015\ttotal: 1.67s\tremaining: 4.32s\n",
      "279:\tlearn: 1.9825496\ttotal: 1.68s\tremaining: 4.31s\n",
      "280:\tlearn: 1.9796187\ttotal: 1.68s\tremaining: 4.3s\n",
      "281:\tlearn: 1.9769410\ttotal: 1.69s\tremaining: 4.3s\n",
      "282:\tlearn: 1.9739104\ttotal: 1.69s\tremaining: 4.29s\n",
      "283:\tlearn: 1.9722694\ttotal: 1.7s\tremaining: 4.29s\n",
      "284:\tlearn: 1.9702496\ttotal: 1.71s\tremaining: 4.28s\n",
      "285:\tlearn: 1.9685732\ttotal: 1.71s\tremaining: 4.27s\n",
      "286:\tlearn: 1.9657128\ttotal: 1.72s\tremaining: 4.26s\n",
      "287:\tlearn: 1.9633128\ttotal: 1.72s\tremaining: 4.26s\n",
      "288:\tlearn: 1.9598453\ttotal: 1.73s\tremaining: 4.25s\n",
      "289:\tlearn: 1.9572667\ttotal: 1.73s\tremaining: 4.25s\n",
      "290:\tlearn: 1.9547376\ttotal: 1.74s\tremaining: 4.24s\n",
      "291:\tlearn: 1.9514634\ttotal: 1.75s\tremaining: 4.23s\n",
      "292:\tlearn: 1.9490600\ttotal: 1.75s\tremaining: 4.23s\n",
      "293:\tlearn: 1.9469934\ttotal: 1.76s\tremaining: 4.22s\n",
      "294:\tlearn: 1.9447927\ttotal: 1.76s\tremaining: 4.22s\n",
      "295:\tlearn: 1.9424031\ttotal: 1.77s\tremaining: 4.21s\n",
      "296:\tlearn: 1.9391149\ttotal: 1.78s\tremaining: 4.21s\n",
      "297:\tlearn: 1.9349530\ttotal: 1.78s\tremaining: 4.2s\n",
      "298:\tlearn: 1.9335611\ttotal: 1.79s\tremaining: 4.19s\n",
      "299:\tlearn: 1.9317199\ttotal: 1.79s\tremaining: 4.18s\n",
      "300:\tlearn: 1.9294461\ttotal: 1.8s\tremaining: 4.18s\n",
      "301:\tlearn: 1.9275363\ttotal: 1.8s\tremaining: 4.17s\n",
      "302:\tlearn: 1.9250008\ttotal: 1.81s\tremaining: 4.17s\n",
      "303:\tlearn: 1.9234352\ttotal: 1.82s\tremaining: 4.16s\n",
      "304:\tlearn: 1.9201981\ttotal: 1.82s\tremaining: 4.15s\n",
      "305:\tlearn: 1.9167002\ttotal: 1.83s\tremaining: 4.14s\n",
      "306:\tlearn: 1.9144686\ttotal: 1.83s\tremaining: 4.14s\n",
      "307:\tlearn: 1.9108047\ttotal: 1.84s\tremaining: 4.14s\n",
      "308:\tlearn: 1.9093200\ttotal: 1.85s\tremaining: 4.14s\n",
      "309:\tlearn: 1.9079142\ttotal: 1.86s\tremaining: 4.13s\n",
      "310:\tlearn: 1.9058552\ttotal: 1.86s\tremaining: 4.13s\n",
      "311:\tlearn: 1.9027729\ttotal: 1.87s\tremaining: 4.12s\n",
      "312:\tlearn: 1.9006333\ttotal: 1.87s\tremaining: 4.11s\n",
      "313:\tlearn: 1.8983150\ttotal: 1.88s\tremaining: 4.11s\n",
      "314:\tlearn: 1.8958950\ttotal: 1.89s\tremaining: 4.1s\n",
      "315:\tlearn: 1.8946961\ttotal: 1.89s\tremaining: 4.09s\n",
      "316:\tlearn: 1.8906041\ttotal: 1.9s\tremaining: 4.09s\n",
      "317:\tlearn: 1.8869613\ttotal: 1.9s\tremaining: 4.08s\n",
      "318:\tlearn: 1.8847231\ttotal: 1.91s\tremaining: 4.08s\n",
      "319:\tlearn: 1.8831028\ttotal: 1.91s\tremaining: 4.07s\n",
      "320:\tlearn: 1.8804942\ttotal: 1.92s\tremaining: 4.06s\n",
      "321:\tlearn: 1.8770639\ttotal: 1.93s\tremaining: 4.06s\n",
      "322:\tlearn: 1.8748713\ttotal: 1.93s\tremaining: 4.05s\n",
      "323:\tlearn: 1.8722348\ttotal: 1.94s\tremaining: 4.04s\n",
      "324:\tlearn: 1.8698402\ttotal: 1.94s\tremaining: 4.04s\n",
      "325:\tlearn: 1.8674001\ttotal: 1.95s\tremaining: 4.03s\n",
      "326:\tlearn: 1.8656643\ttotal: 1.96s\tremaining: 4.02s\n",
      "327:\tlearn: 1.8628128\ttotal: 1.96s\tremaining: 4.02s\n",
      "328:\tlearn: 1.8605572\ttotal: 1.97s\tremaining: 4.01s\n",
      "329:\tlearn: 1.8587748\ttotal: 1.97s\tremaining: 4s\n",
      "330:\tlearn: 1.8556040\ttotal: 1.98s\tremaining: 4s\n",
      "331:\tlearn: 1.8540464\ttotal: 1.98s\tremaining: 3.99s\n",
      "332:\tlearn: 1.8509935\ttotal: 1.99s\tremaining: 3.99s\n",
      "333:\tlearn: 1.8487150\ttotal: 2s\tremaining: 3.98s\n",
      "334:\tlearn: 1.8466651\ttotal: 2s\tremaining: 3.97s\n",
      "335:\tlearn: 1.8441358\ttotal: 2.01s\tremaining: 3.97s\n",
      "336:\tlearn: 1.8411275\ttotal: 2.01s\tremaining: 3.96s\n",
      "337:\tlearn: 1.8400223\ttotal: 2.02s\tremaining: 3.96s\n",
      "338:\tlearn: 1.8376972\ttotal: 2.02s\tremaining: 3.95s\n"
     ]
    },
    {
     "name": "stdout",
     "output_type": "stream",
     "text": [
      "339:\tlearn: 1.8350622\ttotal: 2.03s\tremaining: 3.95s\n",
      "340:\tlearn: 1.8324215\ttotal: 2.04s\tremaining: 3.94s\n",
      "341:\tlearn: 1.8313807\ttotal: 2.05s\tremaining: 3.94s\n",
      "342:\tlearn: 1.8294242\ttotal: 2.06s\tremaining: 3.94s\n",
      "343:\tlearn: 1.8276519\ttotal: 2.06s\tremaining: 3.93s\n",
      "344:\tlearn: 1.8251722\ttotal: 2.07s\tremaining: 3.92s\n",
      "345:\tlearn: 1.8215537\ttotal: 2.07s\tremaining: 3.92s\n",
      "346:\tlearn: 1.8191255\ttotal: 2.08s\tremaining: 3.91s\n",
      "347:\tlearn: 1.8172225\ttotal: 2.08s\tremaining: 3.9s\n",
      "348:\tlearn: 1.8157199\ttotal: 2.09s\tremaining: 3.9s\n",
      "349:\tlearn: 1.8138520\ttotal: 2.1s\tremaining: 3.89s\n",
      "350:\tlearn: 1.8101268\ttotal: 2.1s\tremaining: 3.88s\n",
      "351:\tlearn: 1.8083831\ttotal: 2.11s\tremaining: 3.88s\n",
      "352:\tlearn: 1.8050087\ttotal: 2.11s\tremaining: 3.87s\n",
      "353:\tlearn: 1.8040842\ttotal: 2.12s\tremaining: 3.87s\n",
      "354:\tlearn: 1.8031534\ttotal: 2.13s\tremaining: 3.86s\n",
      "355:\tlearn: 1.8015852\ttotal: 2.13s\tremaining: 3.86s\n",
      "356:\tlearn: 1.7987493\ttotal: 2.14s\tremaining: 3.85s\n",
      "357:\tlearn: 1.7966231\ttotal: 2.14s\tremaining: 3.84s\n",
      "358:\tlearn: 1.7934905\ttotal: 2.15s\tremaining: 3.84s\n",
      "359:\tlearn: 1.7909465\ttotal: 2.15s\tremaining: 3.83s\n",
      "360:\tlearn: 1.7898955\ttotal: 2.16s\tremaining: 3.83s\n",
      "361:\tlearn: 1.7884168\ttotal: 2.17s\tremaining: 3.82s\n",
      "362:\tlearn: 1.7872134\ttotal: 2.17s\tremaining: 3.82s\n",
      "363:\tlearn: 1.7852528\ttotal: 2.18s\tremaining: 3.82s\n",
      "364:\tlearn: 1.7835422\ttotal: 2.19s\tremaining: 3.81s\n",
      "365:\tlearn: 1.7820812\ttotal: 2.2s\tremaining: 3.81s\n",
      "366:\tlearn: 1.7801564\ttotal: 2.21s\tremaining: 3.81s\n",
      "367:\tlearn: 1.7788927\ttotal: 2.21s\tremaining: 3.81s\n",
      "368:\tlearn: 1.7776677\ttotal: 2.22s\tremaining: 3.8s\n",
      "369:\tlearn: 1.7747058\ttotal: 2.23s\tremaining: 3.8s\n",
      "370:\tlearn: 1.7729067\ttotal: 2.24s\tremaining: 3.8s\n",
      "371:\tlearn: 1.7708750\ttotal: 2.25s\tremaining: 3.8s\n",
      "372:\tlearn: 1.7689915\ttotal: 2.26s\tremaining: 3.79s\n",
      "373:\tlearn: 1.7667845\ttotal: 2.27s\tremaining: 3.79s\n",
      "374:\tlearn: 1.7657252\ttotal: 2.27s\tremaining: 3.79s\n",
      "375:\tlearn: 1.7639104\ttotal: 2.28s\tremaining: 3.79s\n",
      "376:\tlearn: 1.7617988\ttotal: 2.29s\tremaining: 3.78s\n",
      "377:\tlearn: 1.7603741\ttotal: 2.3s\tremaining: 3.78s\n",
      "378:\tlearn: 1.7591024\ttotal: 2.3s\tremaining: 3.77s\n",
      "379:\tlearn: 1.7566581\ttotal: 2.31s\tremaining: 3.77s\n",
      "380:\tlearn: 1.7555276\ttotal: 2.32s\tremaining: 3.77s\n",
      "381:\tlearn: 1.7545978\ttotal: 2.33s\tremaining: 3.77s\n",
      "382:\tlearn: 1.7522528\ttotal: 2.33s\tremaining: 3.76s\n",
      "383:\tlearn: 1.7510245\ttotal: 2.34s\tremaining: 3.76s\n",
      "384:\tlearn: 1.7498911\ttotal: 2.35s\tremaining: 3.75s\n",
      "385:\tlearn: 1.7483812\ttotal: 2.35s\tremaining: 3.74s\n",
      "386:\tlearn: 1.7469258\ttotal: 2.36s\tremaining: 3.74s\n",
      "387:\tlearn: 1.7452829\ttotal: 2.37s\tremaining: 3.73s\n",
      "388:\tlearn: 1.7445630\ttotal: 2.38s\tremaining: 3.73s\n",
      "389:\tlearn: 1.7421910\ttotal: 2.38s\tremaining: 3.73s\n",
      "390:\tlearn: 1.7404032\ttotal: 2.39s\tremaining: 3.72s\n",
      "391:\tlearn: 1.7391328\ttotal: 2.4s\tremaining: 3.72s\n",
      "392:\tlearn: 1.7361454\ttotal: 2.4s\tremaining: 3.71s\n",
      "393:\tlearn: 1.7352007\ttotal: 2.41s\tremaining: 3.71s\n",
      "394:\tlearn: 1.7338506\ttotal: 2.42s\tremaining: 3.7s\n",
      "395:\tlearn: 1.7318962\ttotal: 2.42s\tremaining: 3.69s\n",
      "396:\tlearn: 1.7304546\ttotal: 2.43s\tremaining: 3.69s\n",
      "397:\tlearn: 1.7290045\ttotal: 2.43s\tremaining: 3.68s\n",
      "398:\tlearn: 1.7276259\ttotal: 2.44s\tremaining: 3.68s\n",
      "399:\tlearn: 1.7256593\ttotal: 2.45s\tremaining: 3.67s\n",
      "400:\tlearn: 1.7238470\ttotal: 2.46s\tremaining: 3.67s\n",
      "401:\tlearn: 1.7222250\ttotal: 2.46s\tremaining: 3.66s\n",
      "402:\tlearn: 1.7206254\ttotal: 2.46s\tremaining: 3.65s\n",
      "403:\tlearn: 1.7196523\ttotal: 2.47s\tremaining: 3.65s\n",
      "404:\tlearn: 1.7183314\ttotal: 2.48s\tremaining: 3.64s\n",
      "405:\tlearn: 1.7171674\ttotal: 2.48s\tremaining: 3.63s\n",
      "406:\tlearn: 1.7155780\ttotal: 2.49s\tremaining: 3.62s\n",
      "407:\tlearn: 1.7144233\ttotal: 2.49s\tremaining: 3.62s\n",
      "408:\tlearn: 1.7127735\ttotal: 2.5s\tremaining: 3.61s\n",
      "409:\tlearn: 1.7117159\ttotal: 2.5s\tremaining: 3.6s\n",
      "410:\tlearn: 1.7104706\ttotal: 2.51s\tremaining: 3.6s\n",
      "411:\tlearn: 1.7090086\ttotal: 2.51s\tremaining: 3.59s\n",
      "412:\tlearn: 1.7067351\ttotal: 2.52s\tremaining: 3.58s\n",
      "413:\tlearn: 1.7058022\ttotal: 2.52s\tremaining: 3.57s\n",
      "414:\tlearn: 1.7034281\ttotal: 2.53s\tremaining: 3.57s\n",
      "415:\tlearn: 1.7026739\ttotal: 2.54s\tremaining: 3.56s\n",
      "416:\tlearn: 1.7008099\ttotal: 2.54s\tremaining: 3.55s\n",
      "417:\tlearn: 1.6990870\ttotal: 2.55s\tremaining: 3.55s\n",
      "418:\tlearn: 1.6982435\ttotal: 2.55s\tremaining: 3.54s\n",
      "419:\tlearn: 1.6972079\ttotal: 2.56s\tremaining: 3.53s\n",
      "420:\tlearn: 1.6960538\ttotal: 2.56s\tremaining: 3.52s\n",
      "421:\tlearn: 1.6936355\ttotal: 2.57s\tremaining: 3.52s\n",
      "422:\tlearn: 1.6923280\ttotal: 2.57s\tremaining: 3.51s\n",
      "423:\tlearn: 1.6916006\ttotal: 2.58s\tremaining: 3.5s\n",
      "424:\tlearn: 1.6905241\ttotal: 2.58s\tremaining: 3.5s\n",
      "425:\tlearn: 1.6896149\ttotal: 2.59s\tremaining: 3.49s\n",
      "426:\tlearn: 1.6877551\ttotal: 2.6s\tremaining: 3.48s\n",
      "427:\tlearn: 1.6872343\ttotal: 2.6s\tremaining: 3.48s\n",
      "428:\tlearn: 1.6857323\ttotal: 2.61s\tremaining: 3.47s\n",
      "429:\tlearn: 1.6843708\ttotal: 2.61s\tremaining: 3.46s\n",
      "430:\tlearn: 1.6829682\ttotal: 2.62s\tremaining: 3.46s\n",
      "431:\tlearn: 1.6813108\ttotal: 2.62s\tremaining: 3.45s\n",
      "432:\tlearn: 1.6806458\ttotal: 2.63s\tremaining: 3.45s\n",
      "433:\tlearn: 1.6776804\ttotal: 2.64s\tremaining: 3.44s\n",
      "434:\tlearn: 1.6768808\ttotal: 2.65s\tremaining: 3.44s\n",
      "435:\tlearn: 1.6749389\ttotal: 2.65s\tremaining: 3.43s\n",
      "436:\tlearn: 1.6728216\ttotal: 2.66s\tremaining: 3.42s\n",
      "437:\tlearn: 1.6713420\ttotal: 2.66s\tremaining: 3.41s\n",
      "438:\tlearn: 1.6702385\ttotal: 2.67s\tremaining: 3.41s\n",
      "439:\tlearn: 1.6689732\ttotal: 2.67s\tremaining: 3.4s\n",
      "440:\tlearn: 1.6669481\ttotal: 2.68s\tremaining: 3.39s\n",
      "441:\tlearn: 1.6657094\ttotal: 2.68s\tremaining: 3.39s\n",
      "442:\tlearn: 1.6644729\ttotal: 2.69s\tremaining: 3.38s\n",
      "443:\tlearn: 1.6637875\ttotal: 2.69s\tremaining: 3.37s\n",
      "444:\tlearn: 1.6630257\ttotal: 2.7s\tremaining: 3.37s\n",
      "445:\tlearn: 1.6623097\ttotal: 2.7s\tremaining: 3.36s\n",
      "446:\tlearn: 1.6603345\ttotal: 2.71s\tremaining: 3.35s\n",
      "447:\tlearn: 1.6580391\ttotal: 2.71s\tremaining: 3.34s\n",
      "448:\tlearn: 1.6563285\ttotal: 2.72s\tremaining: 3.34s\n",
      "449:\tlearn: 1.6545745\ttotal: 2.73s\tremaining: 3.33s\n",
      "450:\tlearn: 1.6529533\ttotal: 2.73s\tremaining: 3.33s\n",
      "451:\tlearn: 1.6515676\ttotal: 2.74s\tremaining: 3.32s\n",
      "452:\tlearn: 1.6505475\ttotal: 2.74s\tremaining: 3.31s\n",
      "453:\tlearn: 1.6493057\ttotal: 2.75s\tremaining: 3.31s\n",
      "454:\tlearn: 1.6482119\ttotal: 2.75s\tremaining: 3.3s\n",
      "455:\tlearn: 1.6469614\ttotal: 2.76s\tremaining: 3.29s\n",
      "456:\tlearn: 1.6458073\ttotal: 2.77s\tremaining: 3.29s\n",
      "457:\tlearn: 1.6449688\ttotal: 2.77s\tremaining: 3.28s\n",
      "458:\tlearn: 1.6440509\ttotal: 2.78s\tremaining: 3.27s\n",
      "459:\tlearn: 1.6422223\ttotal: 2.78s\tremaining: 3.27s\n",
      "460:\tlearn: 1.6413555\ttotal: 2.79s\tremaining: 3.26s\n",
      "461:\tlearn: 1.6393114\ttotal: 2.79s\tremaining: 3.25s\n",
      "462:\tlearn: 1.6378677\ttotal: 2.8s\tremaining: 3.24s\n",
      "463:\tlearn: 1.6374170\ttotal: 2.8s\tremaining: 3.24s\n",
      "464:\tlearn: 1.6359105\ttotal: 2.81s\tremaining: 3.23s\n",
      "465:\tlearn: 1.6343625\ttotal: 2.81s\tremaining: 3.23s\n",
      "466:\tlearn: 1.6331636\ttotal: 2.82s\tremaining: 3.22s\n",
      "467:\tlearn: 1.6315759\ttotal: 2.83s\tremaining: 3.22s\n",
      "468:\tlearn: 1.6307527\ttotal: 2.84s\tremaining: 3.21s\n",
      "469:\tlearn: 1.6293460\ttotal: 2.84s\tremaining: 3.21s\n",
      "470:\tlearn: 1.6286797\ttotal: 2.85s\tremaining: 3.2s\n",
      "471:\tlearn: 1.6273101\ttotal: 2.85s\tremaining: 3.19s\n",
      "472:\tlearn: 1.6250145\ttotal: 2.86s\tremaining: 3.19s\n",
      "473:\tlearn: 1.6240719\ttotal: 2.87s\tremaining: 3.18s\n",
      "474:\tlearn: 1.6228605\ttotal: 2.87s\tremaining: 3.17s\n",
      "475:\tlearn: 1.6217425\ttotal: 2.88s\tremaining: 3.17s\n",
      "476:\tlearn: 1.6198812\ttotal: 2.89s\tremaining: 3.17s\n",
      "477:\tlearn: 1.6192227\ttotal: 2.89s\tremaining: 3.16s\n",
      "478:\tlearn: 1.6176167\ttotal: 2.9s\tremaining: 3.15s\n",
      "479:\tlearn: 1.6168207\ttotal: 2.91s\tremaining: 3.15s\n",
      "480:\tlearn: 1.6142590\ttotal: 2.91s\tremaining: 3.14s\n",
      "481:\tlearn: 1.6126654\ttotal: 2.92s\tremaining: 3.14s\n",
      "482:\tlearn: 1.6115289\ttotal: 2.93s\tremaining: 3.13s\n",
      "483:\tlearn: 1.6096430\ttotal: 2.93s\tremaining: 3.13s\n",
      "484:\tlearn: 1.6087068\ttotal: 2.94s\tremaining: 3.12s\n",
      "485:\tlearn: 1.6071981\ttotal: 2.94s\tremaining: 3.11s\n",
      "486:\tlearn: 1.6062002\ttotal: 2.95s\tremaining: 3.11s\n",
      "487:\tlearn: 1.6055330\ttotal: 2.96s\tremaining: 3.1s\n",
      "488:\tlearn: 1.6037659\ttotal: 2.96s\tremaining: 3.1s\n",
      "489:\tlearn: 1.6022712\ttotal: 2.97s\tremaining: 3.09s\n",
      "490:\tlearn: 1.6003757\ttotal: 2.98s\tremaining: 3.09s\n",
      "491:\tlearn: 1.5983384\ttotal: 2.98s\tremaining: 3.08s\n",
      "492:\tlearn: 1.5977802\ttotal: 2.99s\tremaining: 3.07s\n",
      "493:\tlearn: 1.5973923\ttotal: 3s\tremaining: 3.07s\n",
      "494:\tlearn: 1.5958390\ttotal: 3s\tremaining: 3.06s\n",
      "495:\tlearn: 1.5949508\ttotal: 3.01s\tremaining: 3.06s\n",
      "496:\tlearn: 1.5939888\ttotal: 3.02s\tremaining: 3.05s\n",
      "497:\tlearn: 1.5931693\ttotal: 3.02s\tremaining: 3.05s\n",
      "498:\tlearn: 1.5910140\ttotal: 3.03s\tremaining: 3.05s\n",
      "499:\tlearn: 1.5896202\ttotal: 3.04s\tremaining: 3.04s\n",
      "500:\tlearn: 1.5881578\ttotal: 3.05s\tremaining: 3.04s\n",
      "501:\tlearn: 1.5866579\ttotal: 3.06s\tremaining: 3.03s\n",
      "502:\tlearn: 1.5854018\ttotal: 3.06s\tremaining: 3.03s\n",
      "503:\tlearn: 1.5846435\ttotal: 3.07s\tremaining: 3.02s\n",
      "504:\tlearn: 1.5832194\ttotal: 3.08s\tremaining: 3.02s\n",
      "505:\tlearn: 1.5824596\ttotal: 3.08s\tremaining: 3.01s\n",
      "506:\tlearn: 1.5800630\ttotal: 3.09s\tremaining: 3s\n",
      "507:\tlearn: 1.5776180\ttotal: 3.1s\tremaining: 3s\n",
      "508:\tlearn: 1.5759938\ttotal: 3.1s\tremaining: 2.99s\n",
      "509:\tlearn: 1.5738581\ttotal: 3.11s\tremaining: 2.99s\n",
      "510:\tlearn: 1.5727042\ttotal: 3.12s\tremaining: 2.98s\n",
      "511:\tlearn: 1.5724010\ttotal: 3.13s\tremaining: 2.98s\n",
      "512:\tlearn: 1.5710212\ttotal: 3.13s\tremaining: 2.98s\n",
      "513:\tlearn: 1.5707627\ttotal: 3.14s\tremaining: 2.97s\n",
      "514:\tlearn: 1.5701651\ttotal: 3.15s\tremaining: 2.96s\n",
      "515:\tlearn: 1.5690131\ttotal: 3.15s\tremaining: 2.96s\n",
      "516:\tlearn: 1.5677992\ttotal: 3.16s\tremaining: 2.95s\n",
      "517:\tlearn: 1.5665119\ttotal: 3.17s\tremaining: 2.95s\n",
      "518:\tlearn: 1.5648130\ttotal: 3.17s\tremaining: 2.94s\n",
      "519:\tlearn: 1.5639248\ttotal: 3.18s\tremaining: 2.94s\n",
      "520:\tlearn: 1.5624593\ttotal: 3.19s\tremaining: 2.93s\n",
      "521:\tlearn: 1.5612345\ttotal: 3.19s\tremaining: 2.92s\n",
      "522:\tlearn: 1.5594899\ttotal: 3.2s\tremaining: 2.92s\n",
      "523:\tlearn: 1.5583285\ttotal: 3.2s\tremaining: 2.91s\n",
      "524:\tlearn: 1.5558239\ttotal: 3.21s\tremaining: 2.9s\n",
      "525:\tlearn: 1.5535394\ttotal: 3.21s\tremaining: 2.9s\n"
     ]
    },
    {
     "name": "stdout",
     "output_type": "stream",
     "text": [
      "526:\tlearn: 1.5524292\ttotal: 3.22s\tremaining: 2.89s\n",
      "527:\tlearn: 1.5515541\ttotal: 3.23s\tremaining: 2.89s\n",
      "528:\tlearn: 1.5505501\ttotal: 3.24s\tremaining: 2.88s\n",
      "529:\tlearn: 1.5491280\ttotal: 3.24s\tremaining: 2.88s\n",
      "530:\tlearn: 1.5481974\ttotal: 3.25s\tremaining: 2.87s\n",
      "531:\tlearn: 1.5473512\ttotal: 3.25s\tremaining: 2.86s\n",
      "532:\tlearn: 1.5462328\ttotal: 3.26s\tremaining: 2.86s\n",
      "533:\tlearn: 1.5444982\ttotal: 3.27s\tremaining: 2.85s\n",
      "534:\tlearn: 1.5438466\ttotal: 3.27s\tremaining: 2.84s\n",
      "535:\tlearn: 1.5431009\ttotal: 3.28s\tremaining: 2.84s\n",
      "536:\tlearn: 1.5414543\ttotal: 3.29s\tremaining: 2.83s\n",
      "537:\tlearn: 1.5403078\ttotal: 3.29s\tremaining: 2.83s\n",
      "538:\tlearn: 1.5396747\ttotal: 3.3s\tremaining: 2.82s\n",
      "539:\tlearn: 1.5386090\ttotal: 3.3s\tremaining: 2.81s\n",
      "540:\tlearn: 1.5366200\ttotal: 3.31s\tremaining: 2.81s\n",
      "541:\tlearn: 1.5353235\ttotal: 3.31s\tremaining: 2.8s\n",
      "542:\tlearn: 1.5338315\ttotal: 3.32s\tremaining: 2.79s\n",
      "543:\tlearn: 1.5328072\ttotal: 3.32s\tremaining: 2.79s\n",
      "544:\tlearn: 1.5321100\ttotal: 3.33s\tremaining: 2.78s\n",
      "545:\tlearn: 1.5310264\ttotal: 3.33s\tremaining: 2.77s\n",
      "546:\tlearn: 1.5305680\ttotal: 3.34s\tremaining: 2.77s\n",
      "547:\tlearn: 1.5288130\ttotal: 3.35s\tremaining: 2.76s\n",
      "548:\tlearn: 1.5270171\ttotal: 3.35s\tremaining: 2.75s\n",
      "549:\tlearn: 1.5258180\ttotal: 3.36s\tremaining: 2.75s\n",
      "550:\tlearn: 1.5235971\ttotal: 3.36s\tremaining: 2.74s\n",
      "551:\tlearn: 1.5221836\ttotal: 3.37s\tremaining: 2.73s\n",
      "552:\tlearn: 1.5216233\ttotal: 3.37s\tremaining: 2.73s\n",
      "553:\tlearn: 1.5207712\ttotal: 3.38s\tremaining: 2.72s\n",
      "554:\tlearn: 1.5201848\ttotal: 3.38s\tremaining: 2.71s\n",
      "555:\tlearn: 1.5183586\ttotal: 3.39s\tremaining: 2.71s\n",
      "556:\tlearn: 1.5171397\ttotal: 3.4s\tremaining: 2.7s\n",
      "557:\tlearn: 1.5166912\ttotal: 3.4s\tremaining: 2.69s\n",
      "558:\tlearn: 1.5146615\ttotal: 3.41s\tremaining: 2.69s\n",
      "559:\tlearn: 1.5133370\ttotal: 3.41s\tremaining: 2.68s\n",
      "560:\tlearn: 1.5125265\ttotal: 3.42s\tremaining: 2.67s\n",
      "561:\tlearn: 1.5112566\ttotal: 3.42s\tremaining: 2.67s\n",
      "562:\tlearn: 1.5106706\ttotal: 3.43s\tremaining: 2.66s\n",
      "563:\tlearn: 1.5098961\ttotal: 3.44s\tremaining: 2.66s\n",
      "564:\tlearn: 1.5091040\ttotal: 3.44s\tremaining: 2.65s\n",
      "565:\tlearn: 1.5083074\ttotal: 3.45s\tremaining: 2.64s\n",
      "566:\tlearn: 1.5080499\ttotal: 3.46s\tremaining: 2.64s\n",
      "567:\tlearn: 1.5070765\ttotal: 3.46s\tremaining: 2.63s\n",
      "568:\tlearn: 1.5060992\ttotal: 3.46s\tremaining: 2.63s\n",
      "569:\tlearn: 1.5056842\ttotal: 3.47s\tremaining: 2.62s\n",
      "570:\tlearn: 1.5054593\ttotal: 3.48s\tremaining: 2.61s\n",
      "571:\tlearn: 1.5038310\ttotal: 3.48s\tremaining: 2.6s\n",
      "572:\tlearn: 1.5024234\ttotal: 3.49s\tremaining: 2.6s\n",
      "573:\tlearn: 1.5022019\ttotal: 3.49s\tremaining: 2.59s\n",
      "574:\tlearn: 1.5014548\ttotal: 3.5s\tremaining: 2.59s\n",
      "575:\tlearn: 1.5002581\ttotal: 3.51s\tremaining: 2.58s\n",
      "576:\tlearn: 1.4993423\ttotal: 3.51s\tremaining: 2.57s\n",
      "577:\tlearn: 1.4982645\ttotal: 3.52s\tremaining: 2.57s\n",
      "578:\tlearn: 1.4966466\ttotal: 3.52s\tremaining: 2.56s\n",
      "579:\tlearn: 1.4961802\ttotal: 3.53s\tremaining: 2.56s\n",
      "580:\tlearn: 1.4948895\ttotal: 3.54s\tremaining: 2.55s\n",
      "581:\tlearn: 1.4944206\ttotal: 3.54s\tremaining: 2.54s\n",
      "582:\tlearn: 1.4937215\ttotal: 3.55s\tremaining: 2.54s\n",
      "583:\tlearn: 1.4929147\ttotal: 3.55s\tremaining: 2.53s\n",
      "584:\tlearn: 1.4919168\ttotal: 3.56s\tremaining: 2.52s\n",
      "585:\tlearn: 1.4911180\ttotal: 3.56s\tremaining: 2.52s\n",
      "586:\tlearn: 1.4898750\ttotal: 3.57s\tremaining: 2.51s\n",
      "587:\tlearn: 1.4887491\ttotal: 3.58s\tremaining: 2.5s\n",
      "588:\tlearn: 1.4880546\ttotal: 3.58s\tremaining: 2.5s\n",
      "589:\tlearn: 1.4873945\ttotal: 3.59s\tremaining: 2.49s\n",
      "590:\tlearn: 1.4863965\ttotal: 3.59s\tremaining: 2.49s\n",
      "591:\tlearn: 1.4852308\ttotal: 3.6s\tremaining: 2.48s\n",
      "592:\tlearn: 1.4838667\ttotal: 3.61s\tremaining: 2.48s\n",
      "593:\tlearn: 1.4831526\ttotal: 3.61s\tremaining: 2.47s\n",
      "594:\tlearn: 1.4814429\ttotal: 3.62s\tremaining: 2.46s\n",
      "595:\tlearn: 1.4807677\ttotal: 3.63s\tremaining: 2.46s\n",
      "596:\tlearn: 1.4796193\ttotal: 3.64s\tremaining: 2.45s\n",
      "597:\tlearn: 1.4783494\ttotal: 3.64s\tremaining: 2.45s\n",
      "598:\tlearn: 1.4774028\ttotal: 3.65s\tremaining: 2.44s\n",
      "599:\tlearn: 1.4763603\ttotal: 3.66s\tremaining: 2.44s\n",
      "600:\tlearn: 1.4747317\ttotal: 3.66s\tremaining: 2.43s\n",
      "601:\tlearn: 1.4736761\ttotal: 3.67s\tremaining: 2.42s\n",
      "602:\tlearn: 1.4724070\ttotal: 3.67s\tremaining: 2.42s\n",
      "603:\tlearn: 1.4710108\ttotal: 3.68s\tremaining: 2.41s\n",
      "604:\tlearn: 1.4696416\ttotal: 3.69s\tremaining: 2.41s\n",
      "605:\tlearn: 1.4685341\ttotal: 3.69s\tremaining: 2.4s\n",
      "606:\tlearn: 1.4676608\ttotal: 3.7s\tremaining: 2.4s\n",
      "607:\tlearn: 1.4672699\ttotal: 3.71s\tremaining: 2.39s\n",
      "608:\tlearn: 1.4663709\ttotal: 3.71s\tremaining: 2.38s\n",
      "609:\tlearn: 1.4653317\ttotal: 3.72s\tremaining: 2.38s\n",
      "610:\tlearn: 1.4650635\ttotal: 3.72s\tremaining: 2.37s\n",
      "611:\tlearn: 1.4638541\ttotal: 3.73s\tremaining: 2.36s\n",
      "612:\tlearn: 1.4630906\ttotal: 3.73s\tremaining: 2.36s\n",
      "613:\tlearn: 1.4626504\ttotal: 3.74s\tremaining: 2.35s\n",
      "614:\tlearn: 1.4616006\ttotal: 3.74s\tremaining: 2.34s\n",
      "615:\tlearn: 1.4607320\ttotal: 3.75s\tremaining: 2.34s\n",
      "616:\tlearn: 1.4593605\ttotal: 3.75s\tremaining: 2.33s\n",
      "617:\tlearn: 1.4573579\ttotal: 3.76s\tremaining: 2.32s\n",
      "618:\tlearn: 1.4566327\ttotal: 3.77s\tremaining: 2.32s\n",
      "619:\tlearn: 1.4560653\ttotal: 3.77s\tremaining: 2.31s\n",
      "620:\tlearn: 1.4550878\ttotal: 3.78s\tremaining: 2.3s\n",
      "621:\tlearn: 1.4532390\ttotal: 3.78s\tremaining: 2.3s\n",
      "622:\tlearn: 1.4525377\ttotal: 3.79s\tremaining: 2.29s\n",
      "623:\tlearn: 1.4510511\ttotal: 3.79s\tremaining: 2.29s\n",
      "624:\tlearn: 1.4504076\ttotal: 3.8s\tremaining: 2.28s\n",
      "625:\tlearn: 1.4497826\ttotal: 3.8s\tremaining: 2.27s\n",
      "626:\tlearn: 1.4487359\ttotal: 3.81s\tremaining: 2.27s\n",
      "627:\tlearn: 1.4480256\ttotal: 3.82s\tremaining: 2.26s\n",
      "628:\tlearn: 1.4467059\ttotal: 3.83s\tremaining: 2.26s\n",
      "629:\tlearn: 1.4456992\ttotal: 3.83s\tremaining: 2.25s\n",
      "630:\tlearn: 1.4452118\ttotal: 3.84s\tremaining: 2.24s\n",
      "631:\tlearn: 1.4442605\ttotal: 3.84s\tremaining: 2.24s\n",
      "632:\tlearn: 1.4438424\ttotal: 3.85s\tremaining: 2.23s\n",
      "633:\tlearn: 1.4432060\ttotal: 3.86s\tremaining: 2.23s\n",
      "634:\tlearn: 1.4426531\ttotal: 3.86s\tremaining: 2.22s\n",
      "635:\tlearn: 1.4413785\ttotal: 3.87s\tremaining: 2.21s\n",
      "636:\tlearn: 1.4407569\ttotal: 3.87s\tremaining: 2.21s\n",
      "637:\tlearn: 1.4402584\ttotal: 3.88s\tremaining: 2.2s\n",
      "638:\tlearn: 1.4399360\ttotal: 3.88s\tremaining: 2.19s\n",
      "639:\tlearn: 1.4393315\ttotal: 3.89s\tremaining: 2.19s\n",
      "640:\tlearn: 1.4381936\ttotal: 3.9s\tremaining: 2.18s\n",
      "641:\tlearn: 1.4376849\ttotal: 3.9s\tremaining: 2.18s\n",
      "642:\tlearn: 1.4374491\ttotal: 3.91s\tremaining: 2.17s\n",
      "643:\tlearn: 1.4371771\ttotal: 3.92s\tremaining: 2.17s\n",
      "644:\tlearn: 1.4355996\ttotal: 3.93s\tremaining: 2.16s\n",
      "645:\tlearn: 1.4348908\ttotal: 3.94s\tremaining: 2.16s\n",
      "646:\tlearn: 1.4342999\ttotal: 3.94s\tremaining: 2.15s\n",
      "647:\tlearn: 1.4329236\ttotal: 3.95s\tremaining: 2.15s\n",
      "648:\tlearn: 1.4314734\ttotal: 3.96s\tremaining: 2.14s\n",
      "649:\tlearn: 1.4308280\ttotal: 3.97s\tremaining: 2.14s\n",
      "650:\tlearn: 1.4300334\ttotal: 3.97s\tremaining: 2.13s\n",
      "651:\tlearn: 1.4280741\ttotal: 3.98s\tremaining: 2.13s\n",
      "652:\tlearn: 1.4274871\ttotal: 3.99s\tremaining: 2.12s\n",
      "653:\tlearn: 1.4263679\ttotal: 4s\tremaining: 2.12s\n",
      "654:\tlearn: 1.4254307\ttotal: 4.01s\tremaining: 2.11s\n",
      "655:\tlearn: 1.4243514\ttotal: 4.02s\tremaining: 2.11s\n",
      "656:\tlearn: 1.4230902\ttotal: 4.03s\tremaining: 2.1s\n",
      "657:\tlearn: 1.4224858\ttotal: 4.04s\tremaining: 2.1s\n",
      "658:\tlearn: 1.4216101\ttotal: 4.04s\tremaining: 2.09s\n",
      "659:\tlearn: 1.4210587\ttotal: 4.05s\tremaining: 2.09s\n",
      "660:\tlearn: 1.4202683\ttotal: 4.06s\tremaining: 2.08s\n",
      "661:\tlearn: 1.4185967\ttotal: 4.06s\tremaining: 2.08s\n",
      "662:\tlearn: 1.4182558\ttotal: 4.07s\tremaining: 2.07s\n",
      "663:\tlearn: 1.4171108\ttotal: 4.08s\tremaining: 2.06s\n",
      "664:\tlearn: 1.4146535\ttotal: 4.08s\tremaining: 2.06s\n",
      "665:\tlearn: 1.4144128\ttotal: 4.09s\tremaining: 2.05s\n",
      "666:\tlearn: 1.4133424\ttotal: 4.09s\tremaining: 2.04s\n",
      "667:\tlearn: 1.4122663\ttotal: 4.1s\tremaining: 2.04s\n",
      "668:\tlearn: 1.4114564\ttotal: 4.11s\tremaining: 2.03s\n",
      "669:\tlearn: 1.4104976\ttotal: 4.11s\tremaining: 2.03s\n",
      "670:\tlearn: 1.4094813\ttotal: 4.12s\tremaining: 2.02s\n",
      "671:\tlearn: 1.4088266\ttotal: 4.13s\tremaining: 2.01s\n",
      "672:\tlearn: 1.4083704\ttotal: 4.13s\tremaining: 2.01s\n",
      "673:\tlearn: 1.4067659\ttotal: 4.14s\tremaining: 2s\n",
      "674:\tlearn: 1.4058666\ttotal: 4.14s\tremaining: 2s\n",
      "675:\tlearn: 1.4055533\ttotal: 4.15s\tremaining: 1.99s\n",
      "676:\tlearn: 1.4048516\ttotal: 4.16s\tremaining: 1.98s\n",
      "677:\tlearn: 1.4038740\ttotal: 4.16s\tremaining: 1.98s\n",
      "678:\tlearn: 1.4032920\ttotal: 4.17s\tremaining: 1.97s\n",
      "679:\tlearn: 1.4024187\ttotal: 4.18s\tremaining: 1.97s\n",
      "680:\tlearn: 1.4018779\ttotal: 4.19s\tremaining: 1.96s\n",
      "681:\tlearn: 1.4008121\ttotal: 4.19s\tremaining: 1.96s\n",
      "682:\tlearn: 1.3996502\ttotal: 4.2s\tremaining: 1.95s\n",
      "683:\tlearn: 1.3991642\ttotal: 4.21s\tremaining: 1.95s\n",
      "684:\tlearn: 1.3989451\ttotal: 4.21s\tremaining: 1.94s\n",
      "685:\tlearn: 1.3979963\ttotal: 4.22s\tremaining: 1.93s\n",
      "686:\tlearn: 1.3968966\ttotal: 4.23s\tremaining: 1.93s\n",
      "687:\tlearn: 1.3953725\ttotal: 4.24s\tremaining: 1.92s\n",
      "688:\tlearn: 1.3933359\ttotal: 4.25s\tremaining: 1.92s\n",
      "689:\tlearn: 1.3927665\ttotal: 4.25s\tremaining: 1.91s\n",
      "690:\tlearn: 1.3917675\ttotal: 4.26s\tremaining: 1.9s\n",
      "691:\tlearn: 1.3912193\ttotal: 4.26s\tremaining: 1.9s\n",
      "692:\tlearn: 1.3901850\ttotal: 4.27s\tremaining: 1.89s\n",
      "693:\tlearn: 1.3893034\ttotal: 4.28s\tremaining: 1.89s\n",
      "694:\tlearn: 1.3877405\ttotal: 4.29s\tremaining: 1.88s\n",
      "695:\tlearn: 1.3874404\ttotal: 4.29s\tremaining: 1.87s\n",
      "696:\tlearn: 1.3870486\ttotal: 4.3s\tremaining: 1.87s\n",
      "697:\tlearn: 1.3864905\ttotal: 4.3s\tremaining: 1.86s\n",
      "698:\tlearn: 1.3858881\ttotal: 4.31s\tremaining: 1.86s\n",
      "699:\tlearn: 1.3852695\ttotal: 4.32s\tremaining: 1.85s\n",
      "700:\tlearn: 1.3845781\ttotal: 4.32s\tremaining: 1.84s\n",
      "701:\tlearn: 1.3841641\ttotal: 4.33s\tremaining: 1.84s\n",
      "702:\tlearn: 1.3839190\ttotal: 4.34s\tremaining: 1.83s\n",
      "703:\tlearn: 1.3836936\ttotal: 4.34s\tremaining: 1.82s\n",
      "704:\tlearn: 1.3829104\ttotal: 4.35s\tremaining: 1.82s\n",
      "705:\tlearn: 1.3825173\ttotal: 4.36s\tremaining: 1.81s\n",
      "706:\tlearn: 1.3816515\ttotal: 4.36s\tremaining: 1.81s\n",
      "707:\tlearn: 1.3804599\ttotal: 4.37s\tremaining: 1.8s\n",
      "708:\tlearn: 1.3801372\ttotal: 4.37s\tremaining: 1.79s\n",
      "709:\tlearn: 1.3793810\ttotal: 4.38s\tremaining: 1.79s\n",
      "710:\tlearn: 1.3780394\ttotal: 4.38s\tremaining: 1.78s\n",
      "711:\tlearn: 1.3764618\ttotal: 4.39s\tremaining: 1.77s\n",
      "712:\tlearn: 1.3752570\ttotal: 4.39s\tremaining: 1.77s\n",
      "713:\tlearn: 1.3745060\ttotal: 4.4s\tremaining: 1.76s\n"
     ]
    },
    {
     "name": "stdout",
     "output_type": "stream",
     "text": [
      "714:\tlearn: 1.3738704\ttotal: 4.41s\tremaining: 1.76s\n",
      "715:\tlearn: 1.3731676\ttotal: 4.42s\tremaining: 1.75s\n",
      "716:\tlearn: 1.3720530\ttotal: 4.42s\tremaining: 1.75s\n",
      "717:\tlearn: 1.3707626\ttotal: 4.43s\tremaining: 1.74s\n",
      "718:\tlearn: 1.3687187\ttotal: 4.43s\tremaining: 1.73s\n",
      "719:\tlearn: 1.3674111\ttotal: 4.44s\tremaining: 1.73s\n",
      "720:\tlearn: 1.3668411\ttotal: 4.45s\tremaining: 1.72s\n",
      "721:\tlearn: 1.3663827\ttotal: 4.45s\tremaining: 1.71s\n",
      "722:\tlearn: 1.3661321\ttotal: 4.46s\tremaining: 1.71s\n",
      "723:\tlearn: 1.3652511\ttotal: 4.46s\tremaining: 1.7s\n",
      "724:\tlearn: 1.3647584\ttotal: 4.47s\tremaining: 1.69s\n",
      "725:\tlearn: 1.3636765\ttotal: 4.47s\tremaining: 1.69s\n",
      "726:\tlearn: 1.3630218\ttotal: 4.48s\tremaining: 1.68s\n",
      "727:\tlearn: 1.3623304\ttotal: 4.48s\tremaining: 1.68s\n",
      "728:\tlearn: 1.3611911\ttotal: 4.49s\tremaining: 1.67s\n",
      "729:\tlearn: 1.3601594\ttotal: 4.5s\tremaining: 1.66s\n",
      "730:\tlearn: 1.3598589\ttotal: 4.5s\tremaining: 1.66s\n",
      "731:\tlearn: 1.3595341\ttotal: 4.51s\tremaining: 1.65s\n",
      "732:\tlearn: 1.3582676\ttotal: 4.51s\tremaining: 1.64s\n",
      "733:\tlearn: 1.3578060\ttotal: 4.52s\tremaining: 1.64s\n",
      "734:\tlearn: 1.3569870\ttotal: 4.53s\tremaining: 1.63s\n",
      "735:\tlearn: 1.3562044\ttotal: 4.53s\tremaining: 1.63s\n",
      "736:\tlearn: 1.3551478\ttotal: 4.54s\tremaining: 1.62s\n",
      "737:\tlearn: 1.3547699\ttotal: 4.54s\tremaining: 1.61s\n",
      "738:\tlearn: 1.3543560\ttotal: 4.55s\tremaining: 1.61s\n",
      "739:\tlearn: 1.3539135\ttotal: 4.55s\tremaining: 1.6s\n",
      "740:\tlearn: 1.3534115\ttotal: 4.56s\tremaining: 1.59s\n",
      "741:\tlearn: 1.3528206\ttotal: 4.57s\tremaining: 1.59s\n",
      "742:\tlearn: 1.3511220\ttotal: 4.57s\tremaining: 1.58s\n",
      "743:\tlearn: 1.3497019\ttotal: 4.58s\tremaining: 1.57s\n",
      "744:\tlearn: 1.3481471\ttotal: 4.58s\tremaining: 1.57s\n",
      "745:\tlearn: 1.3473643\ttotal: 4.59s\tremaining: 1.56s\n",
      "746:\tlearn: 1.3465450\ttotal: 4.6s\tremaining: 1.56s\n",
      "747:\tlearn: 1.3461753\ttotal: 4.61s\tremaining: 1.55s\n",
      "748:\tlearn: 1.3456494\ttotal: 4.61s\tremaining: 1.55s\n",
      "749:\tlearn: 1.3447650\ttotal: 4.62s\tremaining: 1.54s\n",
      "750:\tlearn: 1.3442057\ttotal: 4.63s\tremaining: 1.53s\n",
      "751:\tlearn: 1.3433205\ttotal: 4.63s\tremaining: 1.53s\n",
      "752:\tlearn: 1.3427946\ttotal: 4.64s\tremaining: 1.52s\n",
      "753:\tlearn: 1.3420318\ttotal: 4.65s\tremaining: 1.52s\n",
      "754:\tlearn: 1.3409295\ttotal: 4.66s\tremaining: 1.51s\n",
      "755:\tlearn: 1.3403626\ttotal: 4.66s\tremaining: 1.5s\n",
      "756:\tlearn: 1.3398139\ttotal: 4.67s\tremaining: 1.5s\n",
      "757:\tlearn: 1.3393263\ttotal: 4.68s\tremaining: 1.49s\n",
      "758:\tlearn: 1.3373572\ttotal: 4.68s\tremaining: 1.49s\n",
      "759:\tlearn: 1.3360816\ttotal: 4.69s\tremaining: 1.48s\n",
      "760:\tlearn: 1.3353027\ttotal: 4.7s\tremaining: 1.47s\n",
      "761:\tlearn: 1.3347056\ttotal: 4.7s\tremaining: 1.47s\n",
      "762:\tlearn: 1.3339667\ttotal: 4.71s\tremaining: 1.46s\n",
      "763:\tlearn: 1.3337672\ttotal: 4.71s\tremaining: 1.46s\n",
      "764:\tlearn: 1.3330039\ttotal: 4.72s\tremaining: 1.45s\n",
      "765:\tlearn: 1.3323815\ttotal: 4.73s\tremaining: 1.44s\n",
      "766:\tlearn: 1.3318451\ttotal: 4.74s\tremaining: 1.44s\n",
      "767:\tlearn: 1.3315282\ttotal: 4.74s\tremaining: 1.43s\n",
      "768:\tlearn: 1.3304569\ttotal: 4.75s\tremaining: 1.43s\n",
      "769:\tlearn: 1.3301864\ttotal: 4.75s\tremaining: 1.42s\n",
      "770:\tlearn: 1.3290380\ttotal: 4.76s\tremaining: 1.41s\n",
      "771:\tlearn: 1.3280340\ttotal: 4.76s\tremaining: 1.41s\n",
      "772:\tlearn: 1.3267541\ttotal: 4.77s\tremaining: 1.4s\n",
      "773:\tlearn: 1.3254805\ttotal: 4.78s\tremaining: 1.4s\n",
      "774:\tlearn: 1.3245423\ttotal: 4.79s\tremaining: 1.39s\n",
      "775:\tlearn: 1.3237141\ttotal: 4.79s\tremaining: 1.38s\n",
      "776:\tlearn: 1.3226690\ttotal: 4.8s\tremaining: 1.38s\n",
      "777:\tlearn: 1.3220327\ttotal: 4.8s\tremaining: 1.37s\n",
      "778:\tlearn: 1.3211341\ttotal: 4.81s\tremaining: 1.36s\n",
      "779:\tlearn: 1.3204883\ttotal: 4.82s\tremaining: 1.36s\n",
      "780:\tlearn: 1.3202526\ttotal: 4.83s\tremaining: 1.35s\n",
      "781:\tlearn: 1.3193243\ttotal: 4.83s\tremaining: 1.35s\n",
      "782:\tlearn: 1.3187885\ttotal: 4.84s\tremaining: 1.34s\n",
      "783:\tlearn: 1.3181020\ttotal: 4.84s\tremaining: 1.33s\n",
      "784:\tlearn: 1.3171531\ttotal: 4.85s\tremaining: 1.33s\n",
      "785:\tlearn: 1.3160123\ttotal: 4.86s\tremaining: 1.32s\n",
      "786:\tlearn: 1.3153324\ttotal: 4.86s\tremaining: 1.31s\n",
      "787:\tlearn: 1.3147397\ttotal: 4.87s\tremaining: 1.31s\n",
      "788:\tlearn: 1.3143919\ttotal: 4.88s\tremaining: 1.3s\n",
      "789:\tlearn: 1.3140039\ttotal: 4.89s\tremaining: 1.3s\n",
      "790:\tlearn: 1.3133832\ttotal: 4.89s\tremaining: 1.29s\n",
      "791:\tlearn: 1.3126850\ttotal: 4.9s\tremaining: 1.29s\n",
      "792:\tlearn: 1.3123134\ttotal: 4.91s\tremaining: 1.28s\n",
      "793:\tlearn: 1.3117270\ttotal: 4.92s\tremaining: 1.28s\n",
      "794:\tlearn: 1.3106687\ttotal: 4.92s\tremaining: 1.27s\n",
      "795:\tlearn: 1.3095619\ttotal: 4.93s\tremaining: 1.26s\n",
      "796:\tlearn: 1.3093682\ttotal: 4.94s\tremaining: 1.26s\n",
      "797:\tlearn: 1.3087711\ttotal: 4.95s\tremaining: 1.25s\n",
      "798:\tlearn: 1.3074657\ttotal: 4.96s\tremaining: 1.25s\n",
      "799:\tlearn: 1.3064792\ttotal: 4.96s\tremaining: 1.24s\n",
      "800:\tlearn: 1.3059325\ttotal: 4.97s\tremaining: 1.24s\n",
      "801:\tlearn: 1.3054214\ttotal: 4.98s\tremaining: 1.23s\n",
      "802:\tlearn: 1.3037083\ttotal: 4.99s\tremaining: 1.22s\n",
      "803:\tlearn: 1.3028164\ttotal: 4.99s\tremaining: 1.22s\n",
      "804:\tlearn: 1.3023230\ttotal: 5s\tremaining: 1.21s\n",
      "805:\tlearn: 1.3013246\ttotal: 5.01s\tremaining: 1.21s\n",
      "806:\tlearn: 1.3004017\ttotal: 5.02s\tremaining: 1.2s\n",
      "807:\tlearn: 1.2995558\ttotal: 5.03s\tremaining: 1.19s\n",
      "808:\tlearn: 1.2988019\ttotal: 5.03s\tremaining: 1.19s\n",
      "809:\tlearn: 1.2984054\ttotal: 5.04s\tremaining: 1.18s\n",
      "810:\tlearn: 1.2978568\ttotal: 5.04s\tremaining: 1.18s\n",
      "811:\tlearn: 1.2973859\ttotal: 5.05s\tremaining: 1.17s\n",
      "812:\tlearn: 1.2962052\ttotal: 5.06s\tremaining: 1.16s\n",
      "813:\tlearn: 1.2953123\ttotal: 5.06s\tremaining: 1.16s\n",
      "814:\tlearn: 1.2941475\ttotal: 5.07s\tremaining: 1.15s\n",
      "815:\tlearn: 1.2935917\ttotal: 5.08s\tremaining: 1.14s\n",
      "816:\tlearn: 1.2925653\ttotal: 5.08s\tremaining: 1.14s\n",
      "817:\tlearn: 1.2917435\ttotal: 5.09s\tremaining: 1.13s\n",
      "818:\tlearn: 1.2907947\ttotal: 5.09s\tremaining: 1.13s\n",
      "819:\tlearn: 1.2903266\ttotal: 5.1s\tremaining: 1.12s\n",
      "820:\tlearn: 1.2894150\ttotal: 5.1s\tremaining: 1.11s\n",
      "821:\tlearn: 1.2888851\ttotal: 5.11s\tremaining: 1.11s\n",
      "822:\tlearn: 1.2883596\ttotal: 5.11s\tremaining: 1.1s\n",
      "823:\tlearn: 1.2879357\ttotal: 5.12s\tremaining: 1.09s\n",
      "824:\tlearn: 1.2873942\ttotal: 5.12s\tremaining: 1.09s\n",
      "825:\tlearn: 1.2867130\ttotal: 5.13s\tremaining: 1.08s\n",
      "826:\tlearn: 1.2864025\ttotal: 5.14s\tremaining: 1.07s\n",
      "827:\tlearn: 1.2858810\ttotal: 5.14s\tremaining: 1.07s\n",
      "828:\tlearn: 1.2852833\ttotal: 5.15s\tremaining: 1.06s\n",
      "829:\tlearn: 1.2845454\ttotal: 5.15s\tremaining: 1.05s\n",
      "830:\tlearn: 1.2840635\ttotal: 5.16s\tremaining: 1.05s\n",
      "831:\tlearn: 1.2831997\ttotal: 5.17s\tremaining: 1.04s\n",
      "832:\tlearn: 1.2829276\ttotal: 5.17s\tremaining: 1.04s\n",
      "833:\tlearn: 1.2825119\ttotal: 5.18s\tremaining: 1.03s\n",
      "834:\tlearn: 1.2821118\ttotal: 5.18s\tremaining: 1.02s\n",
      "835:\tlearn: 1.2816450\ttotal: 5.19s\tremaining: 1.02s\n",
      "836:\tlearn: 1.2808005\ttotal: 5.19s\tremaining: 1.01s\n",
      "837:\tlearn: 1.2799771\ttotal: 5.2s\tremaining: 1s\n",
      "838:\tlearn: 1.2792464\ttotal: 5.21s\tremaining: 1000ms\n",
      "839:\tlearn: 1.2789538\ttotal: 5.22s\tremaining: 994ms\n",
      "840:\tlearn: 1.2780773\ttotal: 5.22s\tremaining: 988ms\n",
      "841:\tlearn: 1.2769331\ttotal: 5.23s\tremaining: 982ms\n",
      "842:\tlearn: 1.2756115\ttotal: 5.24s\tremaining: 975ms\n",
      "843:\tlearn: 1.2747499\ttotal: 5.24s\tremaining: 969ms\n",
      "844:\tlearn: 1.2738459\ttotal: 5.25s\tremaining: 963ms\n",
      "845:\tlearn: 1.2730576\ttotal: 5.25s\tremaining: 957ms\n",
      "846:\tlearn: 1.2727079\ttotal: 5.26s\tremaining: 950ms\n",
      "847:\tlearn: 1.2723484\ttotal: 5.27s\tremaining: 944ms\n",
      "848:\tlearn: 1.2718307\ttotal: 5.27s\tremaining: 938ms\n",
      "849:\tlearn: 1.2714273\ttotal: 5.28s\tremaining: 932ms\n",
      "850:\tlearn: 1.2700564\ttotal: 5.28s\tremaining: 925ms\n",
      "851:\tlearn: 1.2695717\ttotal: 5.29s\tremaining: 919ms\n",
      "852:\tlearn: 1.2690248\ttotal: 5.3s\tremaining: 913ms\n",
      "853:\tlearn: 1.2684042\ttotal: 5.3s\tremaining: 907ms\n",
      "854:\tlearn: 1.2668029\ttotal: 5.31s\tremaining: 900ms\n",
      "855:\tlearn: 1.2662032\ttotal: 5.31s\tremaining: 894ms\n",
      "856:\tlearn: 1.2658599\ttotal: 5.32s\tremaining: 888ms\n",
      "857:\tlearn: 1.2648772\ttotal: 5.33s\tremaining: 881ms\n",
      "858:\tlearn: 1.2646612\ttotal: 5.33s\tremaining: 875ms\n",
      "859:\tlearn: 1.2640324\ttotal: 5.34s\tremaining: 869ms\n",
      "860:\tlearn: 1.2632248\ttotal: 5.34s\tremaining: 863ms\n",
      "861:\tlearn: 1.2626235\ttotal: 5.35s\tremaining: 856ms\n",
      "862:\tlearn: 1.2618686\ttotal: 5.35s\tremaining: 850ms\n",
      "863:\tlearn: 1.2614659\ttotal: 5.36s\tremaining: 844ms\n",
      "864:\tlearn: 1.2608994\ttotal: 5.37s\tremaining: 837ms\n",
      "865:\tlearn: 1.2597177\ttotal: 5.37s\tremaining: 831ms\n",
      "866:\tlearn: 1.2587727\ttotal: 5.38s\tremaining: 825ms\n",
      "867:\tlearn: 1.2583975\ttotal: 5.38s\tremaining: 819ms\n",
      "868:\tlearn: 1.2578505\ttotal: 5.39s\tremaining: 812ms\n",
      "869:\tlearn: 1.2568647\ttotal: 5.39s\tremaining: 806ms\n",
      "870:\tlearn: 1.2562499\ttotal: 5.4s\tremaining: 800ms\n",
      "871:\tlearn: 1.2553068\ttotal: 5.41s\tremaining: 794ms\n",
      "872:\tlearn: 1.2549839\ttotal: 5.41s\tremaining: 788ms\n",
      "873:\tlearn: 1.2531428\ttotal: 5.42s\tremaining: 782ms\n",
      "874:\tlearn: 1.2523389\ttotal: 5.43s\tremaining: 776ms\n",
      "875:\tlearn: 1.2512382\ttotal: 5.44s\tremaining: 770ms\n",
      "876:\tlearn: 1.2506375\ttotal: 5.44s\tremaining: 763ms\n",
      "877:\tlearn: 1.2501724\ttotal: 5.45s\tremaining: 757ms\n",
      "878:\tlearn: 1.2493360\ttotal: 5.45s\tremaining: 751ms\n",
      "879:\tlearn: 1.2486661\ttotal: 5.46s\tremaining: 745ms\n",
      "880:\tlearn: 1.2478988\ttotal: 5.46s\tremaining: 738ms\n",
      "881:\tlearn: 1.2471805\ttotal: 5.47s\tremaining: 732ms\n",
      "882:\tlearn: 1.2464500\ttotal: 5.48s\tremaining: 726ms\n",
      "883:\tlearn: 1.2455544\ttotal: 5.48s\tremaining: 719ms\n",
      "884:\tlearn: 1.2450739\ttotal: 5.49s\tremaining: 713ms\n",
      "885:\tlearn: 1.2438545\ttotal: 5.49s\tremaining: 707ms\n",
      "886:\tlearn: 1.2432162\ttotal: 5.5s\tremaining: 701ms\n",
      "887:\tlearn: 1.2422616\ttotal: 5.51s\tremaining: 695ms\n",
      "888:\tlearn: 1.2416062\ttotal: 5.51s\tremaining: 688ms\n",
      "889:\tlearn: 1.2411509\ttotal: 5.52s\tremaining: 682ms\n",
      "890:\tlearn: 1.2404001\ttotal: 5.52s\tremaining: 676ms\n",
      "891:\tlearn: 1.2398016\ttotal: 5.53s\tremaining: 670ms\n",
      "892:\tlearn: 1.2393805\ttotal: 5.54s\tremaining: 664ms\n",
      "893:\tlearn: 1.2389388\ttotal: 5.54s\tremaining: 657ms\n",
      "894:\tlearn: 1.2375042\ttotal: 5.55s\tremaining: 651ms\n",
      "895:\tlearn: 1.2369739\ttotal: 5.56s\tremaining: 645ms\n",
      "896:\tlearn: 1.2364798\ttotal: 5.56s\tremaining: 639ms\n",
      "897:\tlearn: 1.2355875\ttotal: 5.57s\tremaining: 633ms\n",
      "898:\tlearn: 1.2344575\ttotal: 5.58s\tremaining: 627ms\n",
      "899:\tlearn: 1.2341048\ttotal: 5.58s\tremaining: 621ms\n",
      "900:\tlearn: 1.2332284\ttotal: 5.59s\tremaining: 615ms\n"
     ]
    },
    {
     "name": "stdout",
     "output_type": "stream",
     "text": [
      "901:\tlearn: 1.2327738\ttotal: 5.6s\tremaining: 608ms\n",
      "902:\tlearn: 1.2319324\ttotal: 5.61s\tremaining: 602ms\n",
      "903:\tlearn: 1.2313551\ttotal: 5.62s\tremaining: 596ms\n",
      "904:\tlearn: 1.2310410\ttotal: 5.63s\tremaining: 590ms\n",
      "905:\tlearn: 1.2308397\ttotal: 5.63s\tremaining: 584ms\n",
      "906:\tlearn: 1.2304230\ttotal: 5.64s\tremaining: 578ms\n",
      "907:\tlearn: 1.2299747\ttotal: 5.64s\tremaining: 572ms\n",
      "908:\tlearn: 1.2293172\ttotal: 5.65s\tremaining: 566ms\n",
      "909:\tlearn: 1.2284152\ttotal: 5.66s\tremaining: 560ms\n",
      "910:\tlearn: 1.2280978\ttotal: 5.67s\tremaining: 553ms\n",
      "911:\tlearn: 1.2277241\ttotal: 5.67s\tremaining: 547ms\n",
      "912:\tlearn: 1.2269738\ttotal: 5.68s\tremaining: 541ms\n",
      "913:\tlearn: 1.2261908\ttotal: 5.68s\tremaining: 535ms\n",
      "914:\tlearn: 1.2257116\ttotal: 5.69s\tremaining: 529ms\n",
      "915:\tlearn: 1.2256076\ttotal: 5.7s\tremaining: 522ms\n",
      "916:\tlearn: 1.2250770\ttotal: 5.7s\tremaining: 516ms\n",
      "917:\tlearn: 1.2245430\ttotal: 5.71s\tremaining: 510ms\n",
      "918:\tlearn: 1.2241351\ttotal: 5.72s\tremaining: 504ms\n",
      "919:\tlearn: 1.2237139\ttotal: 5.72s\tremaining: 498ms\n",
      "920:\tlearn: 1.2234576\ttotal: 5.73s\tremaining: 491ms\n",
      "921:\tlearn: 1.2229243\ttotal: 5.73s\tremaining: 485ms\n",
      "922:\tlearn: 1.2224682\ttotal: 5.74s\tremaining: 479ms\n",
      "923:\tlearn: 1.2220942\ttotal: 5.75s\tremaining: 473ms\n",
      "924:\tlearn: 1.2210569\ttotal: 5.76s\tremaining: 467ms\n",
      "925:\tlearn: 1.2205725\ttotal: 5.76s\tremaining: 461ms\n",
      "926:\tlearn: 1.2202817\ttotal: 5.77s\tremaining: 454ms\n",
      "927:\tlearn: 1.2197178\ttotal: 5.78s\tremaining: 448ms\n",
      "928:\tlearn: 1.2188389\ttotal: 5.78s\tremaining: 442ms\n",
      "929:\tlearn: 1.2182890\ttotal: 5.79s\tremaining: 436ms\n",
      "930:\tlearn: 1.2179740\ttotal: 5.79s\tremaining: 430ms\n",
      "931:\tlearn: 1.2176020\ttotal: 5.8s\tremaining: 423ms\n",
      "932:\tlearn: 1.2170330\ttotal: 5.81s\tremaining: 417ms\n",
      "933:\tlearn: 1.2166387\ttotal: 5.82s\tremaining: 411ms\n",
      "934:\tlearn: 1.2163369\ttotal: 5.82s\tremaining: 405ms\n",
      "935:\tlearn: 1.2156710\ttotal: 5.83s\tremaining: 398ms\n",
      "936:\tlearn: 1.2144404\ttotal: 5.83s\tremaining: 392ms\n",
      "937:\tlearn: 1.2139348\ttotal: 5.84s\tremaining: 386ms\n",
      "938:\tlearn: 1.2135900\ttotal: 5.84s\tremaining: 380ms\n",
      "939:\tlearn: 1.2123876\ttotal: 5.85s\tremaining: 373ms\n",
      "940:\tlearn: 1.2118166\ttotal: 5.85s\tremaining: 367ms\n",
      "941:\tlearn: 1.2113716\ttotal: 5.86s\tremaining: 361ms\n",
      "942:\tlearn: 1.2107617\ttotal: 5.87s\tremaining: 355ms\n",
      "943:\tlearn: 1.2101132\ttotal: 5.87s\tremaining: 348ms\n",
      "944:\tlearn: 1.2095492\ttotal: 5.88s\tremaining: 342ms\n",
      "945:\tlearn: 1.2090429\ttotal: 5.88s\tremaining: 336ms\n",
      "946:\tlearn: 1.2086842\ttotal: 5.89s\tremaining: 330ms\n",
      "947:\tlearn: 1.2078800\ttotal: 5.89s\tremaining: 323ms\n",
      "948:\tlearn: 1.2075316\ttotal: 5.9s\tremaining: 317ms\n",
      "949:\tlearn: 1.2068927\ttotal: 5.91s\tremaining: 311ms\n",
      "950:\tlearn: 1.2066633\ttotal: 5.91s\tremaining: 305ms\n",
      "951:\tlearn: 1.2063440\ttotal: 5.92s\tremaining: 298ms\n",
      "952:\tlearn: 1.2058726\ttotal: 5.92s\tremaining: 292ms\n",
      "953:\tlearn: 1.2050564\ttotal: 5.93s\tremaining: 286ms\n",
      "954:\tlearn: 1.2046378\ttotal: 5.94s\tremaining: 280ms\n",
      "955:\tlearn: 1.2035509\ttotal: 5.95s\tremaining: 274ms\n",
      "956:\tlearn: 1.2032019\ttotal: 5.96s\tremaining: 268ms\n",
      "957:\tlearn: 1.2028568\ttotal: 5.96s\tremaining: 261ms\n",
      "958:\tlearn: 1.2026616\ttotal: 5.97s\tremaining: 255ms\n",
      "959:\tlearn: 1.2022470\ttotal: 5.98s\tremaining: 249ms\n",
      "960:\tlearn: 1.2016758\ttotal: 5.98s\tremaining: 243ms\n",
      "961:\tlearn: 1.2015589\ttotal: 5.99s\tremaining: 237ms\n",
      "962:\tlearn: 1.2010274\ttotal: 6s\tremaining: 230ms\n",
      "963:\tlearn: 1.2003424\ttotal: 6s\tremaining: 224ms\n",
      "964:\tlearn: 1.1999782\ttotal: 6.01s\tremaining: 218ms\n",
      "965:\tlearn: 1.1987614\ttotal: 6.02s\tremaining: 212ms\n",
      "966:\tlearn: 1.1982925\ttotal: 6.02s\tremaining: 206ms\n",
      "967:\tlearn: 1.1979597\ttotal: 6.03s\tremaining: 199ms\n",
      "968:\tlearn: 1.1970178\ttotal: 6.04s\tremaining: 193ms\n",
      "969:\tlearn: 1.1968271\ttotal: 6.04s\tremaining: 187ms\n",
      "970:\tlearn: 1.1961861\ttotal: 6.05s\tremaining: 181ms\n",
      "971:\tlearn: 1.1957449\ttotal: 6.05s\tremaining: 174ms\n",
      "972:\tlearn: 1.1939409\ttotal: 6.06s\tremaining: 168ms\n",
      "973:\tlearn: 1.1934409\ttotal: 6.06s\tremaining: 162ms\n",
      "974:\tlearn: 1.1930189\ttotal: 6.07s\tremaining: 156ms\n",
      "975:\tlearn: 1.1919615\ttotal: 6.07s\tremaining: 149ms\n",
      "976:\tlearn: 1.1912042\ttotal: 6.08s\tremaining: 143ms\n",
      "977:\tlearn: 1.1908463\ttotal: 6.08s\tremaining: 137ms\n",
      "978:\tlearn: 1.1899380\ttotal: 6.09s\tremaining: 131ms\n",
      "979:\tlearn: 1.1895860\ttotal: 6.1s\tremaining: 124ms\n",
      "980:\tlearn: 1.1890744\ttotal: 6.1s\tremaining: 118ms\n",
      "981:\tlearn: 1.1883880\ttotal: 6.11s\tremaining: 112ms\n",
      "982:\tlearn: 1.1879058\ttotal: 6.11s\tremaining: 106ms\n",
      "983:\tlearn: 1.1876801\ttotal: 6.12s\tremaining: 99.5ms\n",
      "984:\tlearn: 1.1870115\ttotal: 6.13s\tremaining: 93.3ms\n",
      "985:\tlearn: 1.1867334\ttotal: 6.13s\tremaining: 87.1ms\n",
      "986:\tlearn: 1.1861820\ttotal: 6.14s\tremaining: 80.9ms\n",
      "987:\tlearn: 1.1856179\ttotal: 6.14s\tremaining: 74.6ms\n",
      "988:\tlearn: 1.1853821\ttotal: 6.15s\tremaining: 68.4ms\n",
      "989:\tlearn: 1.1842616\ttotal: 6.16s\tremaining: 62.2ms\n",
      "990:\tlearn: 1.1837784\ttotal: 6.16s\tremaining: 56ms\n",
      "991:\tlearn: 1.1830831\ttotal: 6.17s\tremaining: 49.7ms\n",
      "992:\tlearn: 1.1828838\ttotal: 6.17s\tremaining: 43.5ms\n",
      "993:\tlearn: 1.1823765\ttotal: 6.18s\tremaining: 37.3ms\n",
      "994:\tlearn: 1.1817299\ttotal: 6.19s\tremaining: 31.1ms\n",
      "995:\tlearn: 1.1812566\ttotal: 6.19s\tremaining: 24.9ms\n",
      "996:\tlearn: 1.1808037\ttotal: 6.2s\tremaining: 18.7ms\n",
      "997:\tlearn: 1.1800485\ttotal: 6.21s\tremaining: 12.4ms\n",
      "998:\tlearn: 1.1789402\ttotal: 6.21s\tremaining: 6.22ms\n",
      "999:\tlearn: 1.1770604\ttotal: 6.22s\tremaining: 0us\n"
     ]
    },
    {
     "data": {
      "text/plain": [
       "0.8346729693189161"
      ]
     },
     "execution_count": 17,
     "metadata": {},
     "output_type": "execute_result"
    }
   ],
   "source": [
    "algorithme = CatBoostRegressor(task_type=\"CPU\")\n",
    "modele     = algorithme.fit(X_train,Y_train)\n",
    "score      = modele.score(X_test, Y_test)\n",
    "score"
   ]
  },
  {
   "cell_type": "code",
   "execution_count": 18,
   "metadata": {},
   "outputs": [],
   "source": [
    "performances['catboost'] =score"
   ]
  },
  {
   "cell_type": "code",
   "execution_count": 15,
   "metadata": {},
   "outputs": [],
   "source": [
    "import pandas as pd"
   ]
  },
  {
   "cell_type": "markdown",
   "metadata": {},
   "source": [
    "# Attention : l'ordre de retour des valeurs d'un dictionnaire n'est pas garanti => c'est potentiellement aléatoire"
   ]
  },
  {
   "cell_type": "code",
   "execution_count": 38,
   "metadata": {},
   "outputs": [],
   "source": [
    "df = pd.DataFrame()\n",
    "df[\"perf\"] = performances.values()\n",
    "df[\"algo\"] = performances.keys()\n"
   ]
  },
  {
   "cell_type": "markdown",
   "metadata": {},
   "source": [
    "## => on remplace le dico aléatoire par un dico ordonnée via la librairie \"collections\" qui propose la classe OrderedDict"
   ]
  },
  {
   "cell_type": "code",
   "execution_count": 55,
   "metadata": {},
   "outputs": [],
   "source": [
    "from collections import OrderedDict"
   ]
  },
  {
   "cell_type": "code",
   "execution_count": 57,
   "metadata": {},
   "outputs": [],
   "source": [
    "dico_ordonne = OrderedDict(performances)"
   ]
  },
  {
   "cell_type": "code",
   "execution_count": 58,
   "metadata": {},
   "outputs": [],
   "source": [
    "df = pd.DataFrame()\n",
    "df[\"perf\"] = dico_ordonne.values()\n",
    "df[\"algo\"] = dico_ordonne.keys()\n"
   ]
  },
  {
   "cell_type": "code",
   "execution_count": 59,
   "metadata": {},
   "outputs": [],
   "source": [
    "df[\"nom_algo\"] = df.algo.map(lambda algo: str(algo).split(\"(\")[0])"
   ]
  },
  {
   "cell_type": "code",
   "execution_count": 60,
   "metadata": {},
   "outputs": [
    {
     "data": {
      "text/html": [
       "<div>\n",
       "<style scoped>\n",
       "    .dataframe tbody tr th:only-of-type {\n",
       "        vertical-align: middle;\n",
       "    }\n",
       "\n",
       "    .dataframe tbody tr th {\n",
       "        vertical-align: top;\n",
       "    }\n",
       "\n",
       "    .dataframe thead th {\n",
       "        text-align: right;\n",
       "    }\n",
       "</style>\n",
       "<table border=\"1\" class=\"dataframe\">\n",
       "  <thead>\n",
       "    <tr style=\"text-align: right;\">\n",
       "      <th></th>\n",
       "      <th>perf</th>\n",
       "      <th>algo</th>\n",
       "      <th>nom_algo</th>\n",
       "    </tr>\n",
       "  </thead>\n",
       "  <tbody>\n",
       "    <tr>\n",
       "      <td>0</td>\n",
       "      <td>0.690126</td>\n",
       "      <td>DecisionTreeRegressor(criterion='mse', max_dep...</td>\n",
       "      <td>DecisionTreeRegressor</td>\n",
       "    </tr>\n",
       "    <tr>\n",
       "      <td>1</td>\n",
       "      <td>0.699910</td>\n",
       "      <td>DecisionTreeRegressor(criterion='mse', max_dep...</td>\n",
       "      <td>DecisionTreeRegressor</td>\n",
       "    </tr>\n",
       "    <tr>\n",
       "      <td>2</td>\n",
       "      <td>0.828475</td>\n",
       "      <td>(DecisionTreeRegressor(criterion='mse', max_de...</td>\n",
       "      <td>RandomForestRegressor</td>\n",
       "    </tr>\n",
       "    <tr>\n",
       "      <td>3</td>\n",
       "      <td>0.778400</td>\n",
       "      <td>(DecisionTreeRegressor(criterion='mse', max_de...</td>\n",
       "      <td>RandomForestRegressor</td>\n",
       "    </tr>\n",
       "    <tr>\n",
       "      <td>4</td>\n",
       "      <td>0.747973</td>\n",
       "      <td>(ExtraTreeRegressor(criterion='mse', max_depth...</td>\n",
       "      <td>ExtraTreesRegressor</td>\n",
       "    </tr>\n",
       "    <tr>\n",
       "      <td>5</td>\n",
       "      <td>0.834673</td>\n",
       "      <td>catboost</td>\n",
       "      <td>catboost</td>\n",
       "    </tr>\n",
       "  </tbody>\n",
       "</table>\n",
       "</div>"
      ],
      "text/plain": [
       "       perf                                               algo  \\\n",
       "0  0.690126  DecisionTreeRegressor(criterion='mse', max_dep...   \n",
       "1  0.699910  DecisionTreeRegressor(criterion='mse', max_dep...   \n",
       "2  0.828475  (DecisionTreeRegressor(criterion='mse', max_de...   \n",
       "3  0.778400  (DecisionTreeRegressor(criterion='mse', max_de...   \n",
       "4  0.747973  (ExtraTreeRegressor(criterion='mse', max_depth...   \n",
       "5  0.834673                                           catboost   \n",
       "\n",
       "                nom_algo  \n",
       "0  DecisionTreeRegressor  \n",
       "1  DecisionTreeRegressor  \n",
       "2  RandomForestRegressor  \n",
       "3  RandomForestRegressor  \n",
       "4    ExtraTreesRegressor  \n",
       "5               catboost  "
      ]
     },
     "execution_count": 60,
     "metadata": {},
     "output_type": "execute_result"
    }
   ],
   "source": [
    "df"
   ]
  },
  {
   "cell_type": "code",
   "execution_count": 61,
   "metadata": {},
   "outputs": [],
   "source": [
    "df.set_index(\"nom_algo\", inplace=True)"
   ]
  },
  {
   "cell_type": "code",
   "execution_count": 62,
   "metadata": {},
   "outputs": [
    {
     "data": {
      "text/plain": [
       "<matplotlib.axes._subplots.AxesSubplot at 0x1a29af4358>"
      ]
     },
     "execution_count": 62,
     "metadata": {},
     "output_type": "execute_result"
    },
    {
     "data": {
      "image/png": "[encoded data removed]",
      "text/plain": [
       "<Figure size 432x288 with 1 Axes>"
      ]
     },
     "metadata": {
      "needs_background": "light"
     },
     "output_type": "display_data"
    }
   ],
   "source": [
    "%matplotlib inline\n",
    "df[[\"perf\"]].plot(rot=45)"
   ]
  },
  {
   "cell_type": "code",
   "execution_count": 50,
   "metadata": {},
   "outputs": [
    {
     "data": {
      "text/plain": [
       "<matplotlib.axes._subplots.AxesSubplot at 0x1a29a9aba8>"
      ]
     },
     "execution_count": 50,
     "metadata": {},
     "output_type": "execute_result"
    },
    {
     "data": {
      "image/png": "[encoded data removed]",
      "text/plain": [
       "<Figure size 432x288 with 1 Axes>"
      ]
     },
     "metadata": {
      "needs_background": "light"
     },
     "output_type": "display_data"
    }
   ],
   "source": [
    "%matplotlib inline\n",
    "df[[\"perf\"]].plot(rot=45)"
   ]
  },
  {
   "cell_type": "markdown",
   "metadata": {},
   "source": [
    "## 2.1.1) tester la stabilité du score"
   ]
  },
  {
   "cell_type": "code",
   "execution_count": 89,
   "metadata": {},
   "outputs": [],
   "source": [
    "r = []\n",
    "for i in range(100):\n",
    "    score = get_score(DecisionTreeRegressor(random_state=1), X_train, X_test, Y_train, Y_test )\n",
    "    r.append(score)"
   ]
  },
  {
   "cell_type": "code",
   "execution_count": 90,
   "metadata": {},
   "outputs": [
    {
     "data": {
      "text/plain": [
       "<matplotlib.axes._subplots.AxesSubplot at 0x1a234d1e10>"
      ]
     },
     "execution_count": 90,
     "metadata": {},
     "output_type": "execute_result"
    },
    {
     "data": {
      "image/png": "[encoded data removed]",
      "text/plain": [
       "<Figure size 432x288 with 1 Axes>"
      ]
     },
     "metadata": {
      "needs_background": "light"
     },
     "output_type": "display_data"
    }
   ],
   "source": [
    "%matplotlib inline\n",
    "import pandas as pd\n",
    "_ = pd.DataFrame(r)\n",
    "_.plot(ylim=[0,1])"
   ]
  },
  {
   "cell_type": "code",
   "execution_count": null,
   "metadata": {},
   "outputs": [],
   "source": []
  },
  {
   "cell_type": "markdown",
   "metadata": {},
   "source": [
    "## 2.2) Extra tree regressor"
   ]
  },
  {
   "cell_type": "code",
   "execution_count": null,
   "metadata": {},
   "outputs": [],
   "source": []
  },
  {
   "cell_type": "markdown",
   "metadata": {},
   "source": [
    "# 3) Changer de type de problème => passer d'une régression à une classification en regroupant les valeurs dans des classes de valeur (binning)\n"
   ]
  },
  {
   "cell_type": "code",
   "execution_count": 63,
   "metadata": {},
   "outputs": [],
   "source": [
    "from sklearn.preprocessing import KBinsDiscretizer\n",
    "n_bins = 5\n",
    "algorithme = KBinsDiscretizer(n_bins=n_bins)\n",
    "bins = algorithme.fit_transform([y])"
   ]
  },
  {
   "cell_type": "markdown",
   "metadata": {},
   "source": [
    "## 3.1) On peut utiliser 'cut' de pandas, pour créer les categories"
   ]
  },
  {
   "cell_type": "code",
   "execution_count": 92,
   "metadata": {},
   "outputs": [],
   "source": [
    "y_en_categories = pd.cut(y, 5)\n",
    "y_en_categories = y_en_categories.__dict__['_codes']"
   ]
  },
  {
   "cell_type": "markdown",
   "metadata": {},
   "source": [
    "## 3.2) on refait le test et le split"
   ]
  },
  {
   "cell_type": "code",
   "execution_count": 93,
   "metadata": {},
   "outputs": [],
   "source": [
    "X_train, X_test, Y_train, Y_test = train_test_split(X, y_en_categories)"
   ]
  },
  {
   "cell_type": "markdown",
   "metadata": {},
   "source": [
    "## 3.3) on prend un algo de classification"
   ]
  },
  {
   "cell_type": "code",
   "execution_count": 100,
   "metadata": {},
   "outputs": [],
   "source": [
    "from sklearn.ensemble import RandomForestClassifier"
   ]
  },
  {
   "cell_type": "code",
   "execution_count": 101,
   "metadata": {},
   "outputs": [],
   "source": [
    "algorithme = RandomForestClassifier()"
   ]
  },
  {
   "cell_type": "code",
   "execution_count": 102,
   "metadata": {},
   "outputs": [
    {
     "name": "stderr",
     "output_type": "stream",
     "text": [
      "/anaconda3/lib/python3.7/site-packages/sklearn/ensemble/forest.py:246: FutureWarning: The default value of n_estimators will change from 10 in version 0.20 to 100 in 0.22.\n",
      "  \"10 in version 0.20 to 100 in 0.22.\", FutureWarning)\n"
     ]
    }
   ],
   "source": [
    "modele = algorithme.fit(X_train, Y_train)"
   ]
  },
  {
   "cell_type": "code",
   "execution_count": 104,
   "metadata": {},
   "outputs": [
    {
     "data": {
      "text/plain": [
       "array([1, 2, 1, 0, 1, 1, 3, 1, 1, 2, 1, 1, 2, 1, 0, 2, 1, 1, 1, 1, 1, 1,\n",
       "       1, 1, 1, 1, 2, 1, 3, 1, 1, 1, 1, 0, 1, 1, 1, 1, 0, 1, 0, 1, 2, 1,\n",
       "       1, 2, 0, 2, 3, 0, 3, 1, 3, 0, 1, 2, 4, 0, 4, 1, 4, 1, 1, 1, 0, 1,\n",
       "       3, 4, 2, 0, 1, 2, 3, 4, 1, 2, 1, 2, 4, 1, 1, 1, 0, 0, 1, 1, 0, 2,\n",
       "       4, 1, 1, 1, 4, 1, 0, 1, 2, 1, 1, 2, 0, 1, 2, 0, 1, 3, 1, 1, 1, 1,\n",
       "       0, 1, 2, 1, 1, 2, 1, 1, 4, 2, 1, 1, 1, 2, 1, 1, 1], dtype=int8)"
      ]
     },
     "execution_count": 104,
     "metadata": {},
     "output_type": "execute_result"
    }
   ],
   "source": [
    "modele.predict(X_test)"
   ]
  },
  {
   "cell_type": "code",
   "execution_count": 106,
   "metadata": {},
   "outputs": [
    {
     "data": {
      "text/plain": [
       "('criterion',\n",
       " 'max_depth',\n",
       " 'min_samples_split',\n",
       " 'min_samples_leaf',\n",
       " 'min_weight_fraction_leaf',\n",
       " 'max_features',\n",
       " 'max_leaf_nodes',\n",
       " 'min_impurity_decrease',\n",
       " 'min_impurity_split',\n",
       " 'random_state')"
      ]
     },
     "execution_count": 106,
     "metadata": {},
     "output_type": "execute_result"
    }
   ],
   "source": [
    "algorithme.estimator_params"
   ]
  },
  {
   "cell_type": "code",
   "execution_count": 108,
   "metadata": {},
   "outputs": [
    {
     "data": {
      "text/plain": [
       "{'bootstrap': True,\n",
       " 'class_weight': None,\n",
       " 'criterion': 'gini',\n",
       " 'max_depth': None,\n",
       " 'max_features': 'auto',\n",
       " 'max_leaf_nodes': None,\n",
       " 'min_impurity_decrease': 0.0,\n",
       " 'min_impurity_split': None,\n",
       " 'min_samples_leaf': 1,\n",
       " 'min_samples_split': 2,\n",
       " 'min_weight_fraction_leaf': 0.0,\n",
       " 'n_estimators': 10,\n",
       " 'n_jobs': None,\n",
       " 'oob_score': False,\n",
       " 'random_state': None,\n",
       " 'verbose': 0,\n",
       " 'warm_start': False}"
      ]
     },
     "execution_count": 108,
     "metadata": {},
     "output_type": "execute_result"
    }
   ],
   "source": [
    "algorithme.get_params()"
   ]
  },
  {
   "cell_type": "code",
   "execution_count": 103,
   "metadata": {},
   "outputs": [
    {
     "data": {
      "text/plain": [
       "0.7559055118110236"
      ]
     },
     "execution_count": 103,
     "metadata": {},
     "output_type": "execute_result"
    }
   ],
   "source": [
    "perf = modele.score(X_test, Y_test)\n",
    "perf"
   ]
  },
  {
   "cell_type": "code",
   "execution_count": null,
   "metadata": {},
   "outputs": [],
   "source": []
  }
 ],
 "metadata": {
  "kernelspec": {
   "display_name": "Python 3",
   "language": "python",
   "name": "python3"
  },
  "language_info": {
   "codemirror_mode": {
    "name": "ipython",
    "version": 3
   },
   "file_extension": ".py",
   "mimetype": "text/x-python",
   "name": "python",
   "nbconvert_exporter": "python",
   "pygments_lexer": "ipython3",
   "version": "3.7.1"
  }
 },
 "nbformat": 4,
 "nbformat_minor": 2
}
